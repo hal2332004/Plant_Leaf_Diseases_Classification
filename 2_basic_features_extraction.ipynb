{
 "cells": [
  {
   "cell_type": "code",
   "execution_count": 1,
   "metadata": {},
   "outputs": [],
   "source": [
    "import os\n",
    "import cv2\n",
    "from skimage.feature import hog\n",
    "from sklearn.cluster import KMeans\n",
    "from sklearn.neighbors import NearestNeighbors\n",
    "import csv\n",
    "import numpy as np\n",
    "import pandas as pd\n",
    "import matplotlib.pyplot as plt\n",
    "import seaborn as sns\n",
    "from sklearn.preprocessing import StandardScaler, LabelEncoder\n",
    "from tqdm import tqdm\n",
    "\n",
    "from scipy.fftpack import dct\n",
    "from scipy.signal import convolve2d\n",
    "from scipy import fftpack\n",
    "from scipy.stats import skew, entropy as sc_entropy\n",
    "from scipy.stats import entropy as sc_entropy\n",
    "\n",
    "import pywt \n",
    "from skimage.feature import graycomatrix, graycoprops\n",
    "from skimage.color import rgb2lab, rgb2gray\n",
    "from skimage.filters import sobel, roberts\n",
    "from skimage.filters.rank import entropy\n",
    "from skimage.morphology import disk\n",
    "from skimage.util import img_as_ubyte\n",
    "from skimage.feature import local_binary_pattern\n",
    "from skimage import feature, filters, util\n",
    "\n",
    "from sklearn.model_selection import train_test_split\n",
    "from sklearn.metrics import accuracy_score, precision_score, recall_score, f1_score, confusion_matrix\n",
    "from imblearn.over_sampling import RandomOverSampler\n",
    "\n",
    "from sklearn.svm import SVC\n",
    "from sklearn.neighbors import KNeighborsClassifier\n",
    "from xgboost import XGBClassifier\n",
    "from sklearn.linear_model import LogisticRegression\n",
    "from sklearn.ensemble import ExtraTreesClassifier\n",
    "from sklearn.ensemble import RandomForestClassifier\n",
    "from sklearn.ensemble import VotingClassifier, RandomForestClassifier, ExtraTreesClassifier, BaggingClassifier\n",
    "\n"
   ]
  },
  {
   "cell_type": "markdown",
   "metadata": {},
   "source": [
    "# Main Extraction"
   ]
  },
  {
   "cell_type": "code",
   "execution_count": 2,
   "metadata": {},
   "outputs": [],
   "source": [
    "def fourier_features(gray_image):\n",
    "    # Apply Fourier Transform\n",
    "    fft_image = fftpack.fft2(gray_image)\n",
    "    fft_magnitude = np.abs(fftpack.fftshift(fft_image))\n",
    "    fft_phase = np.angle(fftpack.fftshift(fft_image))\n",
    "\n",
    "    # Calculate features from the Fourier Transform\n",
    "    fft_mean = np.mean(fft_magnitude)\n",
    "    fft_std = np.std(fft_magnitude)\n",
    "    fft_energy = np.sum(fft_magnitude ** 2)\n",
    "    return {\n",
    "        \"fft_mean\": fft_mean,\n",
    "        \"fft_std\": fft_std,\n",
    "        \"fft_energy\": fft_energy,\n",
    "    }\n",
    "\n",
    "def wavelet_features(gray_image):\n",
    "    # Apply Wavelet Transform\n",
    "    coeffs = pywt.dwt2(gray_image, 'haar')\n",
    "    cA, (cH, cV, cD) = coeffs\n",
    "\n",
    "    # Calculate features from the Wavelet Transform\n",
    "    wavelet_mean = np.mean(cA)\n",
    "    wavelet_std = np.std(cA)\n",
    "    wavelet_energy = np.sum(np.square(cA))\n",
    "    return {\n",
    "        \"wavelet_mean\": wavelet_mean,\n",
    "        \"wavelet_std\": wavelet_std,\n",
    "        \"wavelet_energy\": wavelet_energy,\n",
    "    }\n",
    "\n",
    "def harris_corner_features(gray_image):\n",
    "    gray = np.float32(gray_image)\n",
    "    dst = cv2.cornerHarris(gray, blockSize=2, ksize=3, k=0.04)\n",
    "    dst = cv2.dilate(dst, None)\n",
    "\n",
    "    # Threshold for an optimal value, it may vary depending on the image\n",
    "    harris_corners = dst > 0.01 * dst.max()\n",
    "    num_corners = np.sum(harris_corners)\n",
    "\n",
    "    # Sum of Harris corner response values\n",
    "    harris_formula_sum = np.sum(dst[harris_corners])\n",
    "\n",
    "    # Calculate the variance of the corner positions\n",
    "    corner_positions = np.argwhere(harris_corners)\n",
    "    if len(corner_positions) > 0:\n",
    "        corner_variance = np.var(corner_positions, axis=0)\n",
    "    else:\n",
    "        corner_variance = np.zeros(2)  # Default variance\n",
    "\n",
    "    # Calculate the mean area of the corner points\n",
    "    if num_corners > 0:\n",
    "        corner_area_mean = np.mean(dst[harris_corners])\n",
    "    else:\n",
    "        corner_area_mean = 0.0\n",
    "\n",
    "    # Calculate the mean length of the edges\n",
    "    edge_lengths = np.sum(harris_corners, axis=1)\n",
    "    if num_corners > 0:\n",
    "        edge_length_mean = np.mean(edge_lengths)\n",
    "    else:\n",
    "        edge_length_mean = 0.0\n",
    "\n",
    "    return {\n",
    "        \"num_corners\": num_corners,\n",
    "        \"harris_formula_sum\": harris_formula_sum,\n",
    "        \"corner_variance_x\": corner_variance[1],  # Assuming x and y are flipped\n",
    "        \"corner_variance_y\": corner_variance[0],  # Assuming x and y are flipped\n",
    "        \"corner_area_mean\": corner_area_mean,\n",
    "        \"edge_length_mean\": edge_length_mean\n",
    "    }\n",
    "\n",
    "def laplacian_of_gaussian(image):\n",
    "    blurred = cv2.GaussianBlur(image, (5, 5), 0)    # Apply Gaussian blur\n",
    "    laplacian = cv2.Laplacian(blurred, cv2.CV_64F)    # Apply Laplacian operator\n",
    "    return laplacian"
   ]
  },
  {
   "cell_type": "code",
   "execution_count": null,
   "metadata": {},
   "outputs": [],
   "source": [
    "def load_images_and_labels(root_dir):\n",
    "    images = []\n",
    "    labels = []\n",
    "    image_paths = []\n",
    "    valid_extensions = ('.jpg', '.jpeg', '.png', '.bmp', '.JPG', '.JPEG', '.PNG', '.BMP')\n",
    "    \n",
    "    for subdir, dirs, files in os.walk(root_dir):\n",
    "        for file in files:\n",
    "            if any(file.endswith(ext) for ext in valid_extensions):\n",
    "                img_path = os.path.join(subdir, file)\n",
    "                label = os.path.basename(os.path.dirname(img_path))\n",
    "                images.append(img_path)\n",
    "                labels.append(label)\n",
    "                image_paths.append(img_path)\n",
    "    \n",
    "    return images, labels, image_paths\n",
    "\n",
    "def extract_color_features(image_path):\n",
    "    image = cv2.imread(image_path)\n",
    "    if image is None:\n",
    "        print(f\"Error: Image not found at {image_path}\")\n",
    "        return None\n",
    "    \n",
    "    #################### Gray ####################\n",
    "    gray_image = cv2.cvtColor(image, cv2.COLOR_BGR2GRAY)\n",
    "\n",
    "    #################### RGB ####################\n",
    "    R, G, B = cv2.split(image)\n",
    "\n",
    "    average_color_rgb = np.mean(image, axis=(0, 1))  # [R, G, B]\n",
    "    R_avg, G_avg, B_avg = average_color_rgb\n",
    "    R_sqrt = np.sqrt(R_avg)\n",
    "    G_sqrt = np.sqrt(G_avg)\n",
    "    B_sqrt = np.sqrt(B_avg)\n",
    "\n",
    "    sum_colors_rgb = R_avg + G_avg + B_avg\n",
    "    if sum_colors_rgb == 0:\n",
    "        NRI = NGI = NBI = 0  # Avoid division by zero\n",
    "    else:\n",
    "        NRI = R_avg / sum_colors_rgb\n",
    "        NGI = G_avg / sum_colors_rgb\n",
    "        NBI = B_avg / sum_colors_rgb\n",
    "\n",
    "    #################### HSV ####################\n",
    "    image_hsv = cv2.cvtColor(image, cv2.COLOR_BGR2HSV)\n",
    "\n",
    "    H, S, V = cv2.split(image_hsv)\n",
    "\n",
    "    average_color_hsv = np.mean(image_hsv, axis=(0,1))\n",
    "    H_avg, S_avg, V_avg = average_color_hsv\n",
    "    H_sqrt = np.sqrt(H_avg)\n",
    "    S_sqrt = np.sqrt(S_avg)\n",
    "    V_sqrt = np.sqrt(V_avg)\n",
    "\n",
    "    sum_colors_hsv = H_avg + S_avg + V_avg\n",
    "    if sum_colors_rgb == 0:\n",
    "        NHI = NSI = NVI = 0  \n",
    "    else:\n",
    "        NHI = H_avg / sum_colors_hsv\n",
    "        NSI = S_avg / sum_colors_hsv\n",
    "        NVI = V_avg / sum_colors_hsv\n",
    "    # Calculate histograms with N bins for each channel\n",
    "    n_bins = 64\n",
    "    hist_hue = cv2.calcHist([image_hsv], [0], None, [n_bins], [0, 256]) \n",
    "    hist_hue1, hist_hue2, hist_hue3, hist_hue4, hist_hue5, hist_hue6, hist_hue7, hist_hue8, hist_hue9, hist_hue10, hist_hue11, hist_hue12, hist_hue13, hist_hue14, hist_hue15, hist_hue16, hist_hue17, hist_hue18, hist_hue19, hist_hue20, hist_hue21, hist_hue22, hist_hue23, hist_hue24, hist_hue25, hist_hue26, hist_hue27, hist_hue28, hist_hue29, hist_hue30, hist_hue31, hist_hue32, hist_hue33, hist_hue34, hist_hue35, hist_hue36, hist_hue37, hist_hue38, hist_hue39, hist_hue40, hist_hue41, hist_hue42, hist_hue43, hist_hue44, hist_hue45, hist_hue46, hist_hue47, hist_hue48, hist_hue49, hist_hue50, hist_hue51, hist_hue52, hist_hue53, hist_hue54, hist_hue55, hist_hue56, hist_hue57, hist_hue58, hist_hue59, hist_hue60, hist_hue61, hist_hue62, hist_hue63, hist_hue64 = hist_hue.flatten()\n",
    "  \n",
    "    hist_saturation = cv2.calcHist([image_hsv], [1], None, [n_bins], [0, 256])\n",
    "    hist_saturation1, hist_saturation2, hist_saturation3, hist_saturation4, hist_saturation5, hist_saturation6, hist_saturation7, hist_saturation8, hist_saturation9, hist_saturation10, hist_saturation11, hist_saturation12, hist_saturation13, hist_saturation14, hist_saturation15, hist_saturation16, hist_saturation17, hist_saturation18, hist_saturation19, hist_saturation20, hist_saturation21, hist_saturation22, hist_saturation23, hist_saturation24, hist_saturation25, hist_saturation26, hist_saturation27, hist_saturation28, hist_saturation29, hist_saturation30, hist_saturation31, hist_saturation32, hist_saturation33, hist_saturation34, hist_saturation35, hist_saturation36, hist_saturation37, hist_saturation38, hist_saturation39, hist_saturation40, hist_saturation41, hist_saturation42, hist_saturation43, hist_saturation44, hist_saturation45, hist_saturation46, hist_saturation47, hist_saturation48, hist_saturation49, hist_saturation50, hist_saturation51, hist_saturation52, hist_saturation53, hist_saturation54, hist_saturation55, hist_saturation56, hist_saturation57, hist_saturation58, hist_saturation59, hist_saturation60, hist_saturation61, hist_saturation62, hist_saturation63, hist_saturation64 = hist_saturation.flatten()   \n",
    "   \n",
    "    hist_value = cv2.calcHist([image_hsv], [2], None, [n_bins], [0, 256])\n",
    "    hist_value1, hist_value2, hist_value3, hist_value4, hist_value5, hist_value6, hist_value7, hist_value8, hist_value9, hist_value10, hist_value11, hist_value12, hist_value13, hist_value14, hist_value15, hist_value16, hist_value17, hist_value18, hist_value19, hist_value20, hist_value21, hist_value22, hist_value23, hist_value24, hist_value25, hist_value26, hist_value27, hist_value28, hist_value29, hist_value30, hist_value31, hist_value32, hist_value33, hist_value34, hist_value35, hist_value36, hist_value37, hist_value38, hist_value39, hist_value40, hist_value41, hist_value42, hist_value43, hist_value44, hist_value45, hist_value46, hist_value47, hist_value48, hist_value49, hist_value50, hist_value51, hist_value52, hist_value53, hist_value54, hist_value55, hist_value56, hist_value57, hist_value58, hist_value59, hist_value60, hist_value61, hist_value62, hist_value63, hist_value64 = hist_value.flatten()\n",
    "  \n",
    "    #################### Lab ####################\n",
    "    image_lab = cv2.cvtColor(image, cv2.COLOR_BGR2LAB)\n",
    "\n",
    "    L, a, b = cv2.split(image_lab)\n",
    "    average_color_lab = np.mean(image_lab, axis=(0, 1))\n",
    "    L_avg, a_avg, b_avg = average_color_lab\n",
    "    L_sqrt = np.sqrt(L_avg)\n",
    "    a_sqrt = np.sqrt(a_avg)\n",
    "    b_sqrt = np.sqrt(b_avg)\n",
    "    sum_colors_Lab = L_avg + a_avg + b_avg\n",
    "    if sum_colors_Lab == 0:\n",
    "        NLI = NaI = NbI = 0  \n",
    "    else:\n",
    "        NLI = L_avg / sum_colors_Lab\n",
    "        NaI = a_avg / sum_colors_Lab\n",
    "        NbI = b_avg / sum_colors_Lab\n",
    "\n",
    "    #################### YUV/YCrCb ####################\n",
    "    image_yuv = cv2.cvtColor(image, cv2.COLOR_BGR2YUV)\n",
    "\n",
    "    Y, U, v = cv2.split(image_yuv)\n",
    "    average_color_yuv = np.mean(image_yuv, axis=(0, 1))\n",
    "    Y_avg, U_avg, v_avg = average_color_yuv\n",
    "    Y_sqrt = np.sqrt(Y_avg)\n",
    "    U_sqrt = np.sqrt(U_avg)\n",
    "    v_sqrt = np.sqrt(v_avg)\n",
    "\n",
    "    sum_colors_YUV = Y_avg + U_avg + V_avg\n",
    "    if sum_colors_YUV == 0:\n",
    "        NYI = NUI = NvI = 0  \n",
    "    else:\n",
    "        NYI = Y_avg / sum_colors_YUV\n",
    "        NUI = U_avg / sum_colors_YUV\n",
    "        NvI = v_avg / sum_colors_YUV\n",
    "\n",
    "    #################### brightness ####################\n",
    "    brightness_rgb = np.mean(average_color_rgb)\n",
    "    brightness_hsv = np.mean(average_color_hsv)\n",
    "    brightness_lab = np.mean(average_color_lab)\n",
    "    brightness_yuv = np.mean(average_color_yuv)\n",
    "    \n",
    "    features = {\n",
    "        \"mean_H\": np.mean(H), \"mean_S\": np.mean(S), \"mean_V\": np.mean(V),\n",
    "        \"std_H\": np.std(H), \"std_S\": np.std(S), \"std_V\": np.std(V),\n",
    "        \"H_sqrt\": H_sqrt, \"S_sqrt\": S_sqrt, \"V_sqrt\": V_sqrt,\n",
    "        \"NHI\": NHI, \"NSI\": NSI, \"NVI\": NVI,\n",
    "        \n",
    "        **{f\"hist_hue{i}\": locals()[f\"hist_hue{i}\"] for i in range(1, 65)},\n",
    "        **{f\"hist_saturation{i}\": locals()[f\"hist_saturation{i}\"] for i in range(1, 65)},\n",
    "        **{f\"hist_value{i}\": locals()[f\"hist_value{i}\"] for i in range(1, 65)},\n",
    "\n",
    "        \"mean_R\": np.mean(R), \"mean_G\": np.mean(G), \"mean_B\": np.mean(B),\n",
    "        \"std_R\": np.std(R), \"std_G\": np.std(G), \"std_B\": np.std(B),\n",
    "        \"R_sqrt\": R_sqrt, \"G_sqrt\": G_sqrt, \"B_sqrt\": B_sqrt,\n",
    "        \"NRI\": NRI, \"NGI\": NGI, \"NBI\": NBI,\n",
    "\n",
    "        \"mean_L\": np.mean(L), \"mean_a\": np.mean(a), \"mean_b\": np.mean(b),\n",
    "        \"std_L\": np.std(L), \"std_a\": np.std(a), \"std_b\": np.std(b),\n",
    "        \"L_sqrt\": L_sqrt, \"a_sqrt\": a_sqrt, \"b_sqrt\": b_sqrt,\n",
    "        \"NLI\": NLI, \"NaI\": NaI, \"NbI\": NbI,\n",
    "\n",
    "        \"mean_Y\": np.mean(Y), \"mean_U\": np.mean(U), \"mean_v\": np.mean(v),\n",
    "        \"std_Y\": np.std(Y), \"std_U\": np.std(U), \"std_v\": np.std(v),\n",
    "        \"Y_sqrt\": Y_sqrt, \"U_sqrt\": U_sqrt, \"v_sqrt\": v_sqrt,\n",
    "        \"NYI\": NYI, \"NUI\": NUI, \"NvI\": NvI,\n",
    "\n",
    "        \"brightness_rgb\": brightness_rgb, \"brightness_hsv\": brightness_hsv,\n",
    "        \"brightness_lab\": brightness_lab, \"brightness_yuv\": brightness_yuv,\n",
    "\n",
    "        \"mean_intensity\": np.mean(gray_image), \"std_intensity\": np.std(gray_image)\n",
    "    }\n",
    "    \n",
    "    return features\n",
    "\n",
    "def extract_texture_features(gray_image):\n",
    "    glcm = graycomatrix(gray_image, distances=[1], angles=[0], levels=256, symmetric=True, normed=True)\n",
    "    \n",
    "    contrast = graycoprops(glcm, 'contrast')[0, 0]\n",
    "    homogeneity = graycoprops(glcm, 'homogeneity')[0, 0]\n",
    "    energy = graycoprops(glcm, 'energy')[0, 0]\n",
    "    correlation = graycoprops(glcm, 'correlation')[0, 0]\n",
    "    \n",
    "    # Entropy\n",
    "    entropy_image = entropy(gray_image, disk(3))\n",
    "    entropy_mean = entropy_image.mean()\n",
    "    entropy_std = entropy_image.std()\n",
    "    \n",
    "    roberts_img = roberts(gray_image)\n",
    "    roberts_mean = roberts_img.mean()\n",
    "    roberts_std = roberts_img.std()\n",
    "    sobel_img = sobel(gray_image)\n",
    "    sobel_mean = sobel_img.mean()\n",
    "    sobel_std = sobel_img.std()\n",
    "\n",
    "\n",
    "    # Gabor 1\n",
    "    kernel1 = cv2.getGaborKernel((9, 9), 3, np.pi/4, np.pi, 0.5, 0, ktype=cv2.CV_64F)\n",
    "    gabor_mean1 = (cv2.filter2D(gray_image, cv2.CV_8U, kernel1)).mean()\n",
    "    gabor_std1 = (cv2.filter2D(gray_image, cv2.CV_8U, kernel1)).std()\n",
    "    # Gabor 2\n",
    "    kernel2 = cv2.getGaborKernel((9, 9), 3, np.pi/2, np.pi/2, 0.9, 0, ktype=cv2.CV_64F)\n",
    "    gabor_mean2 = (cv2.filter2D(gray_image, cv2.CV_8U, kernel2)).mean()\n",
    "    gabor_std2 = (cv2.filter2D(gray_image, cv2.CV_8U, kernel2)).std()\n",
    "    # Gabor 3\n",
    "    kernel3 = cv2.getGaborKernel((9, 9), 3, np.pi/2, np.pi/2, 0.5, 0, ktype=cv2.CV_64F)\n",
    "    gabor_mean3 = (cv2.filter2D(gray_image, cv2.CV_8U, kernel3)).mean() \n",
    "    gabor_std3 = (cv2.filter2D(gray_image, cv2.CV_8U, kernel3)).std() \n",
    "    #Gabor 4\n",
    "    kernel4 = cv2.getGaborKernel((9, 9), 3, 0, np.pi, 1, 0, ktype=cv2.CV_64F)\n",
    "    gabor_mean4 = (cv2.filter2D(gray_image, cv2.CV_8U, kernel3)).mean() \n",
    "    gabor_std4 = (cv2.filter2D(gray_image, cv2.CV_8U, kernel3)).std() \n",
    "    #Gabor 5\n",
    "    kernel5 = cv2.getGaborKernel((9, 9), 5, np.pi/4, np.pi, 0.5, 0, ktype=cv2.CV_64F)\n",
    "    gabor_mean5 = (cv2.filter2D(gray_image, cv2.CV_8U, kernel3)).mean() \n",
    "    gabor_std5 = (cv2.filter2D(gray_image, cv2.CV_8U, kernel3)).std() \n",
    "    #Gabor 6\n",
    "    kernel6 = cv2.getGaborKernel((9, 9), 5, np.pi/2, np.pi/2, 0.5, 0, ktype=cv2.CV_64F)\n",
    "    gabor_mean6 = (cv2.filter2D(gray_image, cv2.CV_8U, kernel3)).mean() \n",
    "    gabor_std6 = (cv2.filter2D(gray_image, cv2.CV_8U, kernel3)).std() \n",
    "    #Gabor 7\n",
    "    kernel7 = cv2.getGaborKernel((11, 11), 3, np.pi/4, np.pi, 0.5, 0, ktype=cv2.CV_64F)\n",
    "    gabor_mean7 = (cv2.filter2D(gray_image, cv2.CV_8U, kernel3)).mean() \n",
    "    gabor_std7 = (cv2.filter2D(gray_image, cv2.CV_8U, kernel3)).std() \n",
    "    #Gabor 8 \n",
    "    kernel8 = cv2.getGaborKernel((11, 11), 3, np.pi/2, np.pi/2, 0.9, 0, ktype=cv2.CV_64F)\n",
    "    gabor_mean8 = (cv2.filter2D(gray_image, cv2.CV_8U, kernel3)).mean() \n",
    "    gabor_std8 = (cv2.filter2D(gray_image, cv2.CV_8U, kernel3)).std() \n",
    "    #Gabor 9\n",
    "    kernel9 = cv2.getGaborKernel((11, 11), 5, np.pi/4, np.pi, 0.5, 0, ktype=cv2.CV_64F)\n",
    "    gabor_mean9 = (cv2.filter2D(gray_image, cv2.CV_8U, kernel3)).mean() \n",
    "    gabor_std9 = (cv2.filter2D(gray_image, cv2.CV_8U, kernel3)).std() \n",
    "    #Gabor 10\n",
    "    kernel10 = cv2.getGaborKernel((11, 11), 5, np.pi/2, np.pi/2, 0.5, 0, ktype=cv2.CV_64F)\n",
    "    gabor_mean10 = (cv2.filter2D(gray_image, cv2.CV_8U, kernel3)).mean() \n",
    "    gabor_std10 = (cv2.filter2D(gray_image, cv2.CV_8U, kernel3)).std() \n",
    "\n",
    "    #Canny\n",
    "    canny_edges = feature.canny(gray_image)\n",
    "    canny_edges_mean = canny_edges.mean()\n",
    "    canny_edges_std = canny_edges.std()\n",
    "\n",
    "    # Prewitt\n",
    "    kernel_x = np.array([[-1, 0, 1],\n",
    "                        [-1, 0, 1],\n",
    "                        [-1, 0, 1]])\n",
    "\n",
    "    kernel_y = np.array([[-1, -1, -1],\n",
    "                        [0, 0, 0],\n",
    "                        [1, 1, 1]])\n",
    "\n",
    "    grad_x = cv2.filter2D(gray_image, -1, kernel_x)\n",
    "    grad_y = cv2.filter2D(gray_image, -1, kernel_y)\n",
    "\n",
    "    gradient_magnitude = np.sqrt(grad_x**2 + grad_y**2).astype(np.uint8)\n",
    "    radius = 3\n",
    "    n_points = 8 * radius\n",
    "    lbp = local_binary_pattern(gray_image, n_points, radius, method='uniform')\n",
    "    lbp_hist, _ = np.histogram(lbp.ravel(), bins=np.arange(0, n_points + 3), density=True)\n",
    "    lbp_mean = np.mean(lbp_hist)\n",
    "    lbp_std = np.std(lbp_hist)\n",
    "\n",
    "    fft_features = fourier_features(gray_image)\n",
    "    wavelet_features_dict = wavelet_features(gray_image)\n",
    "    harris_features = harris_corner_features(gray_image)\n",
    "    log_image = laplacian_of_gaussian(gray_image)\n",
    "    log_mean = np.mean(log_image)\n",
    "    log_std = np.std(log_image)\n",
    "    \n",
    "    texture_features = {\n",
    "        \"contrast\": contrast,\n",
    "        \"homogeneity\": homogeneity,\n",
    "        \"energy\": energy,\n",
    "        \"correlation\": correlation,\n",
    "        \"entropy\": sc_entropy(gray_image.flatten()),\n",
    "        \"uniformity\": np.mean(gray_image),\n",
    "        \"third_moment\": skew(gray_image.flatten()),\n",
    "        \"entropy_mean\": entropy_mean,\n",
    "        \"entropy_std\": entropy_std,\n",
    "        \"roberts_mean\": roberts_mean,\n",
    "        \"roberts_std\": roberts_std,\n",
    "        \"sobel_mean\": sobel_mean,\n",
    "        \"sobel_std\": sobel_std,\n",
    "        **{f\"gabor_mean{i}\": locals()[f\"gabor_mean{i}\"] for i in range(1, 11)},\n",
    "        **{f\"gabor_std{i}\": locals()[f\"gabor_std{i}\"] for i in range(1, 11)},\n",
    "        \"gradient_magnitude_mean\": gradient_magnitude.mean(),\n",
    "        \"gradient_magnitude_std\": gradient_magnitude.std(),\n",
    "        \"lbp_mean\": lbp_mean,\n",
    "        \"lbp_std\": lbp_std,\n",
    "        **fft_features,\n",
    "        **wavelet_features_dict,\n",
    "        **harris_features,\n",
    "        \"log_mean\": log_mean,\n",
    "        \"log_std\": log_std,\n",
    "        \"canny_edges_mean\": canny_edges_mean,\n",
    "        \"canny_edges_std\": canny_edges_std\n",
    "    }\n",
    "    \n",
    "    return texture_features\n",
    "\n",
    "def extract_shape_features(image):\n",
    "    gray_image = cv2.cvtColor(image, cv2.COLOR_BGR2GRAY)\n",
    "    _, thresh = cv2.threshold(gray_image, 0, 255, cv2.THRESH_BINARY_INV + cv2.THRESH_OTSU)\n",
    "    contours, _ = cv2.findContours(thresh, cv2.RETR_EXTERNAL, cv2.CHAIN_APPROX_SIMPLE)\n",
    "    contour = max(contours, key=cv2.contourArea)\n",
    "    area = cv2.contourArea(contour)\n",
    "    perimeter = cv2.arcLength(contour, True)\n",
    "    x, y, w, h = cv2.boundingRect(contour)\n",
    "    aspect_ratio = float(w) / h\n",
    "    rect_area = w * h\n",
    "    extent = float(area) / rect_area\n",
    "    hull = cv2.convexHull(contour)\n",
    "    hull_area = cv2.contourArea(hull)\n",
    "    solidity = float(area) / hull_area\n",
    "    \n",
    "    shape_features = {\n",
    "        \"area\": area,\n",
    "        \"perimeter\": perimeter,\n",
    "        \"aspect_ratio\": aspect_ratio,\n",
    "        \"extent\": extent,\n",
    "        \"solidity\": solidity,\n",
    "        \"length\": max(w, h),\n",
    "        \"width\": min(w, h),\n",
    "        \"length_to_width_ratio\": max(w, h) / min(w, h),\n",
    "        \"convex_hull_area\": hull_area,\n",
    "        \"convex_hull_perimeter\": cv2.arcLength(hull, True),\n",
    "        \"major_axis_length\": max(w, h),\n",
    "        \"minor_axis_length\": min(w, h)\n",
    "    }\n",
    "    \n",
    "    return shape_features\n",
    "\n",
    "\n",
    "def extract_features(image_path):\n",
    "    image = cv2.imread(image_path)\n",
    "    if image is None:\n",
    "        print(f\"Error: Image not found at {image_path}\")\n",
    "        return None\n",
    "    gray_image = cv2.cvtColor(image, cv2.COLOR_BGR2GRAY)\n",
    "    color_features = extract_color_features(image_path)\n",
    "    texture_features = extract_texture_features(gray_image)\n",
    "    shape_features = extract_shape_features(image)\n",
    "    all_features = {**color_features, **texture_features, **shape_features}\n",
    "    return all_features\n",
    "\n",
    "def save_features_to_csv(image_paths, labels, features, csv_file):\n",
    "    data = []\n",
    "    for img_path, label, feat in zip(image_paths, labels, features):\n",
    "        row = [img_path, label] + list(feat.values())\n",
    "        data.append(row)\n",
    "    header = [\"image_path\", \"label\"] + list(features[0].keys())\n",
    "    df = pd.DataFrame(data, columns=header)\n",
    "    df.to_csv(csv_file, index=False)\n",
    "\n",
    "if __name__ == \"__main__\":\n",
    "    root_dir = \"./Plant_leave_diseases_dataset_without_augmentation\"\n",
    "    image_paths, labels, _ = load_images_and_labels(root_dir)\n",
    "    features = []\n",
    "    for img_path in tqdm(image_paths, desc=\"Extracting features\"):\n",
    "        if img_path is not None:\n",
    "            feat = extract_features(img_path)\n",
    "            if feat is not None:\n",
    "                features.append(feat)\n",
    "    csv_file = 'final_extract.csv'\n",
    "    save_features_to_csv(image_paths, labels, features, csv_file)\n",
    "    #132 minutes to run"
   ]
  },
  {
   "cell_type": "markdown",
   "metadata": {},
   "source": [
    "# Training Model"
   ]
  },
  {
   "cell_type": "code",
   "execution_count": 6,
   "metadata": {},
   "outputs": [
    {
     "data": {
      "text/html": [
       "<div>\n",
       "<style scoped>\n",
       "    .dataframe tbody tr th:only-of-type {\n",
       "        vertical-align: middle;\n",
       "    }\n",
       "\n",
       "    .dataframe tbody tr th {\n",
       "        vertical-align: top;\n",
       "    }\n",
       "\n",
       "    .dataframe thead th {\n",
       "        text-align: right;\n",
       "    }\n",
       "</style>\n",
       "<table border=\"1\" class=\"dataframe\">\n",
       "  <thead>\n",
       "    <tr style=\"text-align: right;\">\n",
       "      <th></th>\n",
       "      <th>image_path</th>\n",
       "      <th>label</th>\n",
       "      <th>mean_H</th>\n",
       "      <th>mean_S</th>\n",
       "      <th>mean_V</th>\n",
       "      <th>std_H</th>\n",
       "      <th>std_S</th>\n",
       "      <th>std_V</th>\n",
       "      <th>H_sqrt</th>\n",
       "      <th>S_sqrt</th>\n",
       "      <th>...</th>\n",
       "      <th>aspect_ratio</th>\n",
       "      <th>extent</th>\n",
       "      <th>solidity</th>\n",
       "      <th>length</th>\n",
       "      <th>width</th>\n",
       "      <th>length_to_width_ratio</th>\n",
       "      <th>convex_hull_area</th>\n",
       "      <th>convex_hull_perimeter</th>\n",
       "      <th>major_axis_length</th>\n",
       "      <th>minor_axis_length</th>\n",
       "    </tr>\n",
       "  </thead>\n",
       "  <tbody>\n",
       "    <tr>\n",
       "      <th>0</th>\n",
       "      <td>./Plant_leave_diseases_dataset_without_augment...</td>\n",
       "      <td>Apple___Apple_scab</td>\n",
       "      <td>74.092346</td>\n",
       "      <td>91.905457</td>\n",
       "      <td>137.217667</td>\n",
       "      <td>61.114806</td>\n",
       "      <td>65.477788</td>\n",
       "      <td>19.793987</td>\n",
       "      <td>8.607691</td>\n",
       "      <td>9.586733</td>\n",
       "      <td>...</td>\n",
       "      <td>0.870293</td>\n",
       "      <td>0.595812</td>\n",
       "      <td>0.752429</td>\n",
       "      <td>239</td>\n",
       "      <td>208</td>\n",
       "      <td>1.149038</td>\n",
       "      <td>39364.5</td>\n",
       "      <td>756.184805</td>\n",
       "      <td>239</td>\n",
       "      <td>208</td>\n",
       "    </tr>\n",
       "    <tr>\n",
       "      <th>1</th>\n",
       "      <td>./Plant_leave_diseases_dataset_without_augment...</td>\n",
       "      <td>Apple___Apple_scab</td>\n",
       "      <td>79.182404</td>\n",
       "      <td>81.935562</td>\n",
       "      <td>123.372803</td>\n",
       "      <td>33.605701</td>\n",
       "      <td>46.302034</td>\n",
       "      <td>46.770438</td>\n",
       "      <td>8.898450</td>\n",
       "      <td>9.051826</td>\n",
       "      <td>...</td>\n",
       "      <td>0.991701</td>\n",
       "      <td>0.476302</td>\n",
       "      <td>0.726424</td>\n",
       "      <td>241</td>\n",
       "      <td>239</td>\n",
       "      <td>1.008368</td>\n",
       "      <td>37766.5</td>\n",
       "      <td>725.266126</td>\n",
       "      <td>241</td>\n",
       "      <td>239</td>\n",
       "    </tr>\n",
       "    <tr>\n",
       "      <th>2</th>\n",
       "      <td>./Plant_leave_diseases_dataset_without_augment...</td>\n",
       "      <td>Apple___Apple_scab</td>\n",
       "      <td>69.492859</td>\n",
       "      <td>87.851364</td>\n",
       "      <td>144.373978</td>\n",
       "      <td>37.748855</td>\n",
       "      <td>43.808006</td>\n",
       "      <td>33.855823</td>\n",
       "      <td>8.336238</td>\n",
       "      <td>9.372906</td>\n",
       "      <td>...</td>\n",
       "      <td>0.846473</td>\n",
       "      <td>0.394984</td>\n",
       "      <td>0.541984</td>\n",
       "      <td>241</td>\n",
       "      <td>204</td>\n",
       "      <td>1.181373</td>\n",
       "      <td>35829.5</td>\n",
       "      <td>744.328388</td>\n",
       "      <td>241</td>\n",
       "      <td>204</td>\n",
       "    </tr>\n",
       "    <tr>\n",
       "      <th>3</th>\n",
       "      <td>./Plant_leave_diseases_dataset_without_augment...</td>\n",
       "      <td>Apple___Apple_scab</td>\n",
       "      <td>84.509872</td>\n",
       "      <td>90.920059</td>\n",
       "      <td>90.358536</td>\n",
       "      <td>22.866967</td>\n",
       "      <td>30.043161</td>\n",
       "      <td>31.579684</td>\n",
       "      <td>9.192925</td>\n",
       "      <td>9.535201</td>\n",
       "      <td>...</td>\n",
       "      <td>0.667969</td>\n",
       "      <td>0.677175</td>\n",
       "      <td>0.779162</td>\n",
       "      <td>256</td>\n",
       "      <td>171</td>\n",
       "      <td>1.497076</td>\n",
       "      <td>38046.0</td>\n",
       "      <td>748.979286</td>\n",
       "      <td>256</td>\n",
       "      <td>171</td>\n",
       "    </tr>\n",
       "    <tr>\n",
       "      <th>4</th>\n",
       "      <td>./Plant_leave_diseases_dataset_without_augment...</td>\n",
       "      <td>Apple___Apple_scab</td>\n",
       "      <td>96.732620</td>\n",
       "      <td>71.022125</td>\n",
       "      <td>134.278290</td>\n",
       "      <td>38.115114</td>\n",
       "      <td>30.186687</td>\n",
       "      <td>29.183758</td>\n",
       "      <td>9.835274</td>\n",
       "      <td>8.427463</td>\n",
       "      <td>...</td>\n",
       "      <td>1.183168</td>\n",
       "      <td>0.745308</td>\n",
       "      <td>0.915084</td>\n",
       "      <td>239</td>\n",
       "      <td>202</td>\n",
       "      <td>1.183168</td>\n",
       "      <td>39321.0</td>\n",
       "      <td>755.614123</td>\n",
       "      <td>239</td>\n",
       "      <td>202</td>\n",
       "    </tr>\n",
       "  </tbody>\n",
       "</table>\n",
       "<p>5 rows × 313 columns</p>\n",
       "</div>"
      ],
      "text/plain": [
       "                                          image_path               label  \\\n",
       "0  ./Plant_leave_diseases_dataset_without_augment...  Apple___Apple_scab   \n",
       "1  ./Plant_leave_diseases_dataset_without_augment...  Apple___Apple_scab   \n",
       "2  ./Plant_leave_diseases_dataset_without_augment...  Apple___Apple_scab   \n",
       "3  ./Plant_leave_diseases_dataset_without_augment...  Apple___Apple_scab   \n",
       "4  ./Plant_leave_diseases_dataset_without_augment...  Apple___Apple_scab   \n",
       "\n",
       "      mean_H     mean_S      mean_V      std_H      std_S      std_V  \\\n",
       "0  74.092346  91.905457  137.217667  61.114806  65.477788  19.793987   \n",
       "1  79.182404  81.935562  123.372803  33.605701  46.302034  46.770438   \n",
       "2  69.492859  87.851364  144.373978  37.748855  43.808006  33.855823   \n",
       "3  84.509872  90.920059   90.358536  22.866967  30.043161  31.579684   \n",
       "4  96.732620  71.022125  134.278290  38.115114  30.186687  29.183758   \n",
       "\n",
       "     H_sqrt    S_sqrt  ...  aspect_ratio    extent  solidity  length  width  \\\n",
       "0  8.607691  9.586733  ...      0.870293  0.595812  0.752429     239    208   \n",
       "1  8.898450  9.051826  ...      0.991701  0.476302  0.726424     241    239   \n",
       "2  8.336238  9.372906  ...      0.846473  0.394984  0.541984     241    204   \n",
       "3  9.192925  9.535201  ...      0.667969  0.677175  0.779162     256    171   \n",
       "4  9.835274  8.427463  ...      1.183168  0.745308  0.915084     239    202   \n",
       "\n",
       "   length_to_width_ratio  convex_hull_area  convex_hull_perimeter  \\\n",
       "0               1.149038           39364.5             756.184805   \n",
       "1               1.008368           37766.5             725.266126   \n",
       "2               1.181373           35829.5             744.328388   \n",
       "3               1.497076           38046.0             748.979286   \n",
       "4               1.183168           39321.0             755.614123   \n",
       "\n",
       "   major_axis_length  minor_axis_length  \n",
       "0                239                208  \n",
       "1                241                239  \n",
       "2                241                204  \n",
       "3                256                171  \n",
       "4                239                202  \n",
       "\n",
       "[5 rows x 313 columns]"
      ]
     },
     "execution_count": 6,
     "metadata": {},
     "output_type": "execute_result"
    }
   ],
   "source": [
    "df = pd.read_csv(\"final_extract.csv\")\n",
    "df.head()"
   ]
  },
  {
   "cell_type": "code",
   "execution_count": 7,
   "metadata": {},
   "outputs": [],
   "source": [
    "\n",
    "df = df.drop(columns=[\"image_path\"])\n",
    "columns_to_scale = [col for col in df.columns if col != 'label']\n",
    "scaler = StandardScaler()\n",
    "df[columns_to_scale] = scaler.fit_transform(df[columns_to_scale])\n",
    "label = LabelEncoder()\n",
    "df['label'] = label.fit_transform(df['label'])\n"
   ]
  },
  {
   "cell_type": "code",
   "execution_count": 8,
   "metadata": {},
   "outputs": [],
   "source": [
    "mean_values = df.mean()\n",
    "columns_to_drop = mean_values[mean_values == 0].index\n",
    "df = df.drop(columns=columns_to_drop)\n"
   ]
  },
  {
   "cell_type": "code",
   "execution_count": 9,
   "metadata": {},
   "outputs": [
    {
     "name": "stdout",
     "output_type": "stream",
     "text": [
      "Accuracy: 0.9724\n",
      "Precision: 0.9724\n",
      "Recall: 0.9724\n",
      "F1-score: 0.9724\n"
     ]
    }
   ],
   "source": [
    "# SVC without ROS\n",
    "train_data, test_data = train_test_split(df, test_size=0.3, random_state=42)\n",
    "X_train = train_data.drop(columns=[\"label\"])\n",
    "y_train = train_data[\"label\"]\n",
    "X_test = test_data.drop(columns=[\"label\"])\n",
    "y_test = test_data[\"label\"]\n",
    "\n",
    "svm = SVC(C=100, gamma='scale', kernel='rbf', random_state=42)\n",
    "svm.fit(X_train, y_train)\n",
    "y_pred = svm.predict(X_test)\n",
    "\n",
    "accuracy = accuracy_score(y_test, y_pred)\n",
    "precision = precision_score(y_test, y_pred, average='weighted') \n",
    "recall = recall_score(y_test, y_pred, average='weighted')  \n",
    "f1 = f1_score(y_test, y_pred, average='weighted') \n",
    "\n",
    "print(f\"Accuracy: {accuracy:.4f}\")\n",
    "print(f\"Precision: {precision:.4f}\")\n",
    "print(f\"Recall: {recall:.4f}\")\n",
    "print(f\"F1-score: {f1:.4f}\")\n",
    "#9713"
   ]
  },
  {
   "cell_type": "code",
   "execution_count": 10,
   "metadata": {},
   "outputs": [
    {
     "name": "stdout",
     "output_type": "stream",
     "text": [
      "Accuracy: 0.9725\n",
      "Precision: 0.9725\n",
      "Recall: 0.9725\n",
      "F1-score: 0.9724\n"
     ]
    }
   ],
   "source": [
    "# SVC with ROS\n",
    "train_data, test_data = train_test_split(df, test_size=0.3, random_state=42)\n",
    "X_train = train_data.drop(columns=[\"label\"])\n",
    "y_train = train_data[\"label\"]\n",
    "X_test = test_data.drop(columns=[\"label\"])\n",
    "y_test = test_data[\"label\"]\n",
    "\n",
    "ros = RandomOverSampler(random_state=42)\n",
    "X_train_resampled, y_train_resampled = ros.fit_resample(X_train, y_train)\n",
    "svm = SVC(C=100, gamma='scale', kernel='rbf', random_state=42)\n",
    "svm.fit(X_train_resampled, y_train_resampled)\n",
    "\n",
    "y_pred = svm.predict(X_test)\n",
    "accuracy = accuracy_score(y_test, y_pred)\n",
    "precision = precision_score(y_test, y_pred, average='weighted') \n",
    "recall = recall_score(y_test, y_pred, average='weighted') \n",
    "f1 = f1_score(y_test, y_pred, average='weighted') \n",
    "print(f\"Accuracy: {accuracy:.4f}\")\n",
    "print(f\"Precision: {precision:.4f}\")\n",
    "print(f\"Recall: {recall:.4f}\")\n",
    "print(f\"F1-score: {f1:.4f}\")\n",
    "#9708\n"
   ]
  },
  {
   "cell_type": "code",
   "execution_count": 11,
   "metadata": {},
   "outputs": [
    {
     "name": "stdout",
     "output_type": "stream",
     "text": [
      "Accuracy: 0.9354\n",
      "Precision: 0.9354\n",
      "Recall: 0.9354\n",
      "F1-score: 0.9353\n"
     ]
    }
   ],
   "source": [
    "# Logistic Regression\n",
    "train_data, test_data = train_test_split(df, test_size=0.3, random_state=42)\n",
    "X_train = train_data.drop(columns=[\"label\"])\n",
    "y_train = train_data[\"label\"]\n",
    "X_test = test_data.drop(columns=[\"label\"])\n",
    "y_test = test_data[\"label\"]\n",
    "log_reg = LogisticRegression(C=100, penalty='l2', solver='lbfgs', max_iter=10000, random_state=42)\n",
    "log_reg.fit(X_train, y_train)\n",
    "y_pred = log_reg.predict(X_test)\n",
    "accuracy = accuracy_score(y_test, y_pred)\n",
    "precision = precision_score(y_test, y_pred, average='weighted') \n",
    "recall = recall_score(y_test, y_pred, average='weighted')  \n",
    "f1 = f1_score(y_test, y_pred, average='weighted')  \n",
    "\n",
    "print(f\"Accuracy: {accuracy:.4f}\")\n",
    "print(f\"Precision: {precision:.4f}\")\n",
    "print(f\"Recall: {recall:.4f}\")\n",
    "print(f\"F1-score: {f1:.4f}\")"
   ]
  },
  {
   "cell_type": "code",
   "execution_count": 12,
   "metadata": {},
   "outputs": [
    {
     "name": "stdout",
     "output_type": "stream",
     "text": [
      "Extra Trees classifier accuracy: 0.9194\n",
      "Extra Trees classifier precision: 0.9217\n",
      "Extra Trees classifier recall: 0.8669\n",
      "Extra Trees classifier F1-score: 0.8838\n"
     ]
    }
   ],
   "source": [
    "#ET\n",
    "train_data, test_data = train_test_split(df, test_size=0.3, random_state=42)\n",
    "X_train = train_data.drop(columns=[\"label\"])\n",
    "y_train = train_data[\"label\"]\n",
    "X_test = test_data.drop(columns=[\"label\"])\n",
    "y_test = test_data[\"label\"]\n",
    "\n",
    "X_train_resampled, y_train_resampled = ros.fit_resample(X_train, y_train)\n",
    "et_classifier = ExtraTreesClassifier(\n",
    "    n_estimators=1000,\n",
    "    criterion='gini',\n",
    "    max_depth=None,\n",
    "    min_samples_split=2,\n",
    "    min_samples_leaf=1,\n",
    "    min_weight_fraction_leaf=0.0,\n",
    "    max_features='sqrt',\n",
    "    max_leaf_nodes=None,\n",
    "    min_impurity_decrease=0.0,\n",
    "    bootstrap=True,\n",
    "    oob_score=True,\n",
    "    n_jobs=-1,\n",
    "    random_state=42,\n",
    "    verbose=0,\n",
    "    warm_start=False,\n",
    "    class_weight=None,\n",
    "    ccp_alpha=0.0,\n",
    "    max_samples=None\n",
    ")\n",
    "et_classifier.fit(X_train, y_train)\n",
    "y_pred = et_classifier.predict(X_test)\n",
    "\n",
    "accuracy = accuracy_score(y_test, y_pred)\n",
    "precision = precision_score(y_test, y_pred, average='macro')\n",
    "recall = recall_score(y_test, y_pred, average='macro')\n",
    "f1 = f1_score(y_test, y_pred, average='macro')\n",
    "\n",
    "print(f\"Extra Trees classifier accuracy: {accuracy:.4f}\")\n",
    "print(f\"Extra Trees classifier precision: {precision:.4f}\")\n",
    "print(f\"Extra Trees classifier recall: {recall:.4f}\")\n",
    "print(f\"Extra Trees classifier F1-score: {f1:.4f}\")"
   ]
  },
  {
   "cell_type": "code",
   "execution_count": 16,
   "metadata": {},
   "outputs": [
    {
     "name": "stdout",
     "output_type": "stream",
     "text": [
      "Average Accuracy: 0.9723\n",
      "Average Precision: 0.9723\n",
      "Average Recall: 0.9723\n",
      "Average F1-score: 0.9722\n"
     ]
    }
   ],
   "source": [
    "#XGB\n",
    "n_loops = 5\n",
    "\n",
    "accuracies = []\n",
    "precisions = []\n",
    "recalls = []\n",
    "f1_scores = []\n",
    "\n",
    "\n",
    "\n",
    "for i in range(n_loops):\n",
    "    xgb_params = {\n",
    "        'n_estimators': 1000,               \n",
    "        'max_depth': 2,                   \n",
    "        'learning_rate': 0.1,               \n",
    "        'subsample': 0.8,                  \n",
    "        'colsample_bytree': 0.8,           \n",
    "        'gamma': 0.03,                        \n",
    "        'reg_alpha': 0,                     # Giá trị alpha cho regularization L1\n",
    "        'reg_lambda': 1,                    # Giá trị lambda cho regularization L2\n",
    "        'min_child_weight': 1,           \n",
    "        'random_state': 42,\n",
    "        'n_jobs': -1   \n",
    "    }\n",
    "\n",
    "    xgb_clf = XGBClassifier(**xgb_params)\n",
    "\n",
    "    xgb_clf.fit(X_train, y_train)\n",
    "    y_pred = xgb_clf.predict(X_test)\n",
    "\n",
    "\n",
    "    accuracies.append(accuracy_score(y_test, y_pred))\n",
    "    precisions.append(precision_score(y_test, y_pred, average='weighted'))\n",
    "    recalls.append(recall_score(y_test, y_pred, average='weighted'))\n",
    "    f1_scores.append(f1_score(y_test, y_pred, average='weighted'))\n",
    "\n",
    "# Tính giá trị trung bình cho mỗi chỉ số\n",
    "avg_accuracy = np.mean(accuracies)\n",
    "avg_precision = np.mean(precisions)\n",
    "avg_recall = np.mean(recalls)\n",
    "avg_f1 = np.mean(f1_scores)\n",
    "\n",
    "print(f\"Average Accuracy: {avg_accuracy:.4f}\")\n",
    "print(f\"Average Precision: {avg_precision:.4f}\")\n",
    "print(f\"Average Recall: {avg_recall:.4f}\")\n",
    "print(f\"Average F1-score: {avg_f1:.4f}\")\n"
   ]
  },
  {
   "cell_type": "code",
   "execution_count": 17,
   "metadata": {},
   "outputs": [
    {
     "name": "stdout",
     "output_type": "stream",
     "text": [
      "Accuracy: 0.9246\n",
      "Precision: 0.9251\n",
      "Recall: 0.9246\n",
      "F1-score: 0.9236\n"
     ]
    }
   ],
   "source": [
    "# KNN\n",
    "train_data, test_data = train_test_split(df, test_size=0.3, random_state=42)\n",
    "X_train = train_data.drop(columns=[\"label\"])\n",
    "y_train = train_data[\"label\"]\n",
    "X_test = test_data.drop(columns=[\"label\"])\n",
    "y_test = test_data[\"label\"]\n",
    "\n",
    "knn = KNeighborsClassifier(\n",
    "    n_neighbors=3,           \n",
    "    weights='distance',      # Possible values: 'uniform', 'distance', or a callable.\n",
    "    algorithm='auto',        # Algorithm used to compute the nearest neighbors: 'auto', 'ball_tree', 'kd_tree', 'brute'.\n",
    "    leaf_size=30,            # Leaf size passed to BallTree or KDTree. Affects speed of the construction and query.\n",
    "    p=2,                     # Power parameter for the Minkowski metric. 1 = Manhattan (L1), 2 = Euclidean (L2).\n",
    "    metric='manhattan',      # The distance metric to use. Default is 'minkowski'. Can use other metrics like 'manhattan', 'chebyshev'.\n",
    "    n_jobs=-1                # The number of parallel jobs to run for neighbors search. -1 means using all processors.\n",
    ")\n",
    "knn.fit(X_train, y_train)\n",
    "y_pred = knn.predict(X_test)\n",
    "accuracy = accuracy_score(y_test, y_pred)\n",
    "precision = precision_score(y_test, y_pred, average='weighted')\n",
    "recall = recall_score(y_test, y_pred, average='weighted')\n",
    "f1 = f1_score(y_test, y_pred, average='weighted') \n",
    "\n",
    "print(f\"Accuracy: {accuracy:.4f}\")\n",
    "print(f\"Precision: {precision:.4f}\")\n",
    "print(f\"Recall: {recall:.4f}\")\n",
    "print(f\"F1-score: {f1:.4f}\")"
   ]
  },
  {
   "cell_type": "markdown",
   "metadata": {},
   "source": [
    "# Feature Selection"
   ]
  },
  {
   "cell_type": "code",
   "execution_count": 19,
   "metadata": {},
   "outputs": [
    {
     "name": "stdout",
     "output_type": "stream",
     "text": [
      "Average Accuracy: 0.9396\n",
      "Average Precision: 0.9402\n",
      "Average Recall: 0.9396\n",
      "Average F1-score: 0.9381\n"
     ]
    }
   ],
   "source": [
    "# RF\n",
    "n_loops = 5\n",
    "accuracies = []\n",
    "precisions = []\n",
    "recalls = []\n",
    "f1_scores = []\n",
    "\n",
    "for i in range(n_loops):\n",
    "    train_data, test_data = train_test_split(df, test_size=0.3, random_state=42 + i)\n",
    "\n",
    "    X_train = train_data.drop(columns=[\"label\"])\n",
    "    y_train = train_data[\"label\"]\n",
    "    X_test = test_data.drop(columns=[\"label\"])\n",
    "    y_test = test_data[\"label\"]\n",
    "\n",
    "    rf = RandomForestClassifier(\n",
    "        n_estimators=500,     \n",
    "        max_depth=None,     \n",
    "        min_samples_split=2,  \n",
    "        min_samples_leaf=1,  \n",
    "        max_features='sqrt', \n",
    "        bootstrap=True,   \n",
    "        random_state=42 + i,\n",
    "        oob_score=True,\n",
    "        n_jobs=-1\n",
    "    )\n",
    "\n",
    "    rf.fit(X_train, y_train)\n",
    "    y_pred = rf.predict(X_test)\n",
    "\n",
    "    accuracies.append(accuracy_score(y_test, y_pred))\n",
    "    precisions.append(precision_score(y_test, y_pred, average='weighted'))\n",
    "    recalls.append(recall_score(y_test, y_pred, average='weighted'))\n",
    "    f1_scores.append(f1_score(y_test, y_pred, average='weighted'))\n",
    "\n",
    "avg_accuracy = np.mean(accuracies)\n",
    "avg_precision = np.mean(precisions)\n",
    "avg_recall = np.mean(recalls)\n",
    "avg_f1 = np.mean(f1_scores)\n",
    "\n",
    "print(f\"Average Accuracy: {avg_accuracy:.4f}\")\n",
    "print(f\"Average Precision: {avg_precision:.4f}\")\n",
    "print(f\"Average Recall: {avg_recall:.4f}\")\n",
    "print(f\"Average F1-score: {avg_f1:.4f}\")\n"
   ]
  },
  {
   "cell_type": "code",
   "execution_count": 20,
   "metadata": {},
   "outputs": [
    {
     "data": {
      "application/vnd.plotly.v1+json": {
       "config": {
        "plotlyServerURL": "https://plot.ly"
       },
       "data": [
        {
         "alignmentgroup": "True",
         "hovertemplate": "Feature=%{x}<br>Importance=%{y}<extra></extra>",
         "legendgroup": "",
         "marker": {
          "color": "#636efa",
          "pattern": {
           "shape": ""
          }
         },
         "name": "",
         "offsetgroup": "",
         "orientation": "v",
         "showlegend": false,
         "textposition": "auto",
         "type": "bar",
         "x": [
          "canny_edges_std",
          "canny_edges_mean",
          "std_v",
          "hist_hue5",
          "solidity",
          "hist_hue2",
          "hist_hue11",
          "hist_hue10",
          "std_U",
          "H_sqrt",
          "mean_H",
          "harris_formula_sum",
          "std_a",
          "hist_hue3",
          "corner_area_mean",
          "hist_hue6",
          "a_sqrt",
          "mean_a",
          "lbp_std",
          "hist_hue4",
          "entropy",
          "hist_saturation2",
          "std_b",
          "correlation",
          "std_B",
          "NRI",
          "hist_hue45",
          "std_H",
          "hist_saturation3",
          "NHI",
          "sobel_std",
          "hist_hue1",
          "hist_hue9",
          "brightness_hsv",
          "hist_hue7",
          "fft_mean",
          "gabor_std1",
          "contrast",
          "roberts_std",
          "mean_R",
          "R_sqrt",
          "sobel_mean",
          "log_std",
          "hist_hue43",
          "v_sqrt",
          "NGI",
          "hist_saturation4",
          "S_sqrt",
          "NvI",
          "hist_hue8",
          "roberts_mean",
          "hist_saturation1",
          "std_R",
          "mean_v",
          "hist_hue12",
          "NSI",
          "mean_S",
          "hist_value2",
          "energy",
          "entropy_std",
          "NaI",
          "hist_hue39",
          "b_sqrt",
          "NBI",
          "hist_hue32",
          "hist_hue44",
          "mean_b",
          "mean_U",
          "hist_hue31",
          "hist_value1",
          "U_sqrt",
          "hist_hue35",
          "hist_value52",
          "hist_hue28",
          "hist_hue29",
          "hist_hue40",
          "hist_hue41",
          "hist_saturation64",
          "hist_hue18",
          "hist_saturation5",
          "hist_hue26",
          "hist_value50",
          "hist_hue38",
          "hist_hue16",
          "hist_hue33",
          "hist_hue36",
          "hist_hue37",
          "entropy_mean",
          "hist_hue14",
          "hist_value53",
          "hist_saturation22",
          "wavelet_std",
          "hist_hue17",
          "hist_hue42",
          "hist_value51",
          "hist_saturation19",
          "hist_saturation23",
          "hist_saturation21",
          "homogeneity",
          "std_S",
          "hist_saturation46",
          "hist_hue13",
          "hist_hue19",
          "hist_saturation47",
          "hist_hue15",
          "hist_saturation49",
          "hist_saturation20",
          "hist_value54",
          "hist_value3",
          "std_Y",
          "hist_saturation24",
          "std_intensity",
          "hist_saturation18",
          "hist_value4",
          "hist_saturation17",
          "hist_value48",
          "hist_saturation16",
          "hist_value49",
          "hist_value5",
          "hist_hue27",
          "hist_saturation48",
          "hist_hue25",
          "std_V",
          "NbI",
          "hist_saturation41",
          "hist_saturation43",
          "hist_saturation15",
          "hist_saturation6",
          "hist_saturation44",
          "hist_saturation42",
          "std_G",
          "hist_saturation14",
          "hist_value55",
          "hist_saturation12",
          "std_L",
          "hist_saturation13",
          "NVI",
          "hist_value20",
          "hist_saturation11",
          "hist_saturation10",
          "hist_value6",
          "edge_length_mean",
          "num_corners",
          "hist_value64",
          "hist_saturation39",
          "hist_hue21",
          "hist_saturation7",
          "gabor_mean5",
          "hist_saturation8",
          "hist_saturation50",
          "hist_hue20",
          "third_moment",
          "hist_saturation9",
          "gabor_mean7",
          "gabor_mean1",
          "gabor_mean8",
          "gabor_mean2",
          "hist_saturation25",
          "hist_value62",
          "hist_saturation40",
          "fft_energy",
          "hist_hue30",
          "hist_value47",
          "hist_saturation38",
          "hist_value7",
          "hist_value10",
          "hist_value21",
          "gabor_mean6",
          "hist_saturation52",
          "gabor_mean3",
          "hist_value63",
          "gabor_mean4",
          "gabor_mean9",
          "hist_value19",
          "hist_hue23",
          "hist_value9",
          "hist_value56",
          "gabor_mean10",
          "area",
          "hist_saturation33",
          "hist_value18",
          "hist_value8",
          "hist_hue22",
          "hist_value11",
          "hist_saturation36",
          "hist_saturation30",
          "hist_value12",
          "perimeter",
          "hist_saturation27",
          "hist_value60",
          "hist_value61",
          "hist_saturation29",
          "hist_value59",
          "hist_saturation35",
          "hist_value13",
          "gradient_magnitude_mean",
          "hist_value57",
          "hist_value46",
          "hist_saturation28",
          "hist_saturation37",
          "hist_value14",
          "extent",
          "hist_value58",
          "hist_saturation62",
          "hist_saturation34",
          "hist_saturation63",
          "hist_value22",
          "gradient_magnitude_std",
          "hist_saturation59",
          "NLI",
          "hist_value15",
          "hist_saturation56",
          "G_sqrt",
          "hist_value17",
          "hist_saturation32",
          "gabor_std7",
          "hist_saturation61",
          "hist_saturation54",
          "hist_value16",
          "hist_saturation31",
          "V_sqrt",
          "corner_variance_x",
          "gabor_std4",
          "mean_G",
          "hist_saturation60",
          "hist_hue24",
          "mean_V",
          "fft_std",
          "wavelet_energy",
          "hist_saturation55",
          "gabor_std8",
          "NYI",
          "minor_axis_length",
          "gabor_std2",
          "hist_value45",
          "gabor_std5",
          "major_axis_length",
          "hist_value41",
          "length",
          "convex_hull_perimeter",
          "gabor_std3",
          "corner_variance_y",
          "hist_value38",
          "width",
          "gabor_std10",
          "hist_saturation58",
          "hist_value33",
          "hist_value29",
          "gabor_std6",
          "hist_value39",
          "NUI",
          "hist_value34",
          "hist_value31",
          "gabor_std9",
          "hist_value36",
          "brightness_rgb",
          "aspect_ratio",
          "brightness_yuv",
          "hist_value23",
          "hist_value32",
          "hist_value35",
          "hist_value40",
          "hist_value24",
          "convex_hull_area",
          "hist_value43",
          "brightness_lab",
          "hist_value30",
          "hist_value42",
          "hist_value44",
          "mean_B",
          "mean_L",
          "Y_sqrt",
          "B_sqrt",
          "mean_Y",
          "hist_value28",
          "hist_value26",
          "hist_value37",
          "L_sqrt",
          "wavelet_mean",
          "hist_value25",
          "mean_intensity",
          "uniformity",
          "length_to_width_ratio",
          "log_mean"
         ],
         "xaxis": "x",
         "y": [
          0.010012803472197027,
          0.009566921680810943,
          0.009537803203476846,
          0.009334322580611452,
          0.009089692457984673,
          0.00886017861345448,
          0.008662105549734855,
          0.008640803935842697,
          0.008600888854910872,
          0.008276084679129998,
          0.008126708616989138,
          0.008058102441944265,
          0.007632244617950421,
          0.007462570978539947,
          0.007432873302853385,
          0.007302276342917701,
          0.007118358455238636,
          0.00709062362475349,
          0.007056002292562952,
          0.006992267592933394,
          0.006992224215779382,
          0.006936421464869904,
          0.00691393079138441,
          0.0068703110715103936,
          0.006843203123400766,
          0.006835905565018497,
          0.006813131409111577,
          0.006752663333507208,
          0.006551178001128675,
          0.006471262938496997,
          0.006325496400463245,
          0.006304755683429263,
          0.006254507152998655,
          0.006244813752609279,
          0.0061877132471582835,
          0.006152226977049386,
          0.005987514316328572,
          0.0059766530614406566,
          0.005719447871802069,
          0.00548747488844798,
          0.005475527656903923,
          0.00545574765065787,
          0.005441274299517741,
          0.005412122345772265,
          0.005409372186273793,
          0.00539374435513237,
          0.005391183535703714,
          0.0053396046979504504,
          0.005191772636238482,
          0.005178302090811069,
          0.005169319099765562,
          0.005162127970830725,
          0.005128040710648725,
          0.005099619518070001,
          0.005064492989524149,
          0.005047503882891029,
          0.0050381856292470726,
          0.0050111811972412225,
          0.004929309157865817,
          0.004912436331497583,
          0.004803437742816934,
          0.004795290331690747,
          0.004746296133306576,
          0.004744825476619961,
          0.004688481079936354,
          0.004688260457935802,
          0.004651587965295056,
          0.004597497675064119,
          0.004583626668243501,
          0.004523841170743045,
          0.004507512943609771,
          0.004440657158875228,
          0.004435274170797862,
          0.0044143621485477885,
          0.0043799990421901705,
          0.004258200466754508,
          0.004258049850052805,
          0.004214875172885828,
          0.0041568721197648125,
          0.004139462950859759,
          0.0041093258793490454,
          0.004109222412162991,
          0.004055981246081332,
          0.00403611027371765,
          0.004012854728746551,
          0.004007505397575029,
          0.003969609284972557,
          0.003927541055401832,
          0.003916283885958588,
          0.0038752579921141955,
          0.003836255592303808,
          0.0038262434990609107,
          0.003774447627141514,
          0.0037591934085304288,
          0.003740847681198947,
          0.0037407117760589054,
          0.0037374650222309616,
          0.003705272158978884,
          0.0037033167418381013,
          0.003689241191554517,
          0.00368831077053287,
          0.003676906918670418,
          0.00367618357990646,
          0.0036166592994869005,
          0.0036156366565944184,
          0.003596772772550551,
          0.0035741610774961295,
          0.003572334186807794,
          0.0035721551795789242,
          0.003539217711445439,
          0.003526423314316615,
          0.0035062640872803837,
          0.0034786219603452737,
          0.003459215027010985,
          0.003438609438262636,
          0.0034252927243876474,
          0.00342370015141802,
          0.0034093913839693805,
          0.003403844181050458,
          0.003370724586454849,
          0.0033325620638216206,
          0.0033280220911588777,
          0.0032856348311658483,
          0.0032645414898919358,
          0.0032473258107817006,
          0.0032268370071324615,
          0.0032236107771066174,
          0.0032115517041846047,
          0.003128556776178497,
          0.003121284852424051,
          0.00312056057689403,
          0.0030715875068659275,
          0.003045379753948872,
          0.0030342092848507115,
          0.0029678730622250005,
          0.002954518565154764,
          0.0029534067184419973,
          0.0029412896834980565,
          0.002927979273279579,
          0.002926988828161848,
          0.0029183062628771413,
          0.002900896367486608,
          0.002892317689331548,
          0.0028850955859965003,
          0.002833710385042654,
          0.0028326580711180304,
          0.0028226304205267484,
          0.0028182341079424564,
          0.00281793419570819,
          0.0028059036936869805,
          0.0027979954902369493,
          0.0027036433803193055,
          0.0027029816466283495,
          0.002698441541812975,
          0.002695993538167994,
          0.002695771420083143,
          0.0026796590356502514,
          0.0026716710985914363,
          0.0026514333784049596,
          0.002630078012539681,
          0.0026300308060241352,
          0.0026250159374332825,
          0.002588711270818579,
          0.002578138480502138,
          0.0025643783373098354,
          0.002559643710666587,
          0.002548869785697214,
          0.002547988195697112,
          0.002541895259363735,
          0.0025380327980857897,
          0.0025180247162361305,
          0.0025174683768070206,
          0.00249205875859113,
          0.0024825246496124674,
          0.0024795289243880253,
          0.0024663029845800365,
          0.002462837841695274,
          0.0024269033891221006,
          0.0024211409574261076,
          0.002415505799875544,
          0.0023970398673432425,
          0.002384106837560557,
          0.0023829811460952324,
          0.002368764603078871,
          0.0023644013799510254,
          0.002349932304544625,
          0.0023325255454256203,
          0.00233146208355627,
          0.0023221472555825804,
          0.002320038667328447,
          0.002313422702297574,
          0.002306989224558435,
          0.0023063127722564554,
          0.0022930509859057447,
          0.0022885637507877596,
          0.0022850181231662153,
          0.002273058365745694,
          0.002262054490280622,
          0.0022195426408116573,
          0.0022077296044605717,
          0.0022045890060388737,
          0.0022039648907908895,
          0.0021858384950284777,
          0.0021577083560221744,
          0.002130549625965963,
          0.002122643053233326,
          0.002094831023655257,
          0.0020935957573769396,
          0.002091535644944904,
          0.0020896372704643836,
          0.0020882444557395272,
          0.0020841692012187937,
          0.0020719517421374715,
          0.0020585326273537875,
          0.00204293063924255,
          0.0020423360608090957,
          0.0020336630647748532,
          0.0020254267967377824,
          0.002013001080734341,
          0.001995221577274709,
          0.0019906604871357137,
          0.001989175825482888,
          0.0019528538588457327,
          0.0019378431191462869,
          0.0019374320360939167,
          0.0019286955163565725,
          0.0019189049791492015,
          0.0019123432378810516,
          0.0019066348745209135,
          0.0019011851899245749,
          0.0018958822111008096,
          0.001888262291491571,
          0.0018747628864620558,
          0.001838799173973067,
          0.0018319718056824866,
          0.0018170010049130907,
          0.0018159550441217897,
          0.0018157840083271094,
          0.0018030189582207876,
          0.0018019820770978996,
          0.0017991711692545535,
          0.0017908830202221632,
          0.0017802117850326705,
          0.0017699151529363048,
          0.0017681235714922605,
          0.001757094593933609,
          0.0017554725349335236,
          0.0017513908290368013,
          0.001739477227840253,
          0.0017191320649825798,
          0.0017064728027817201,
          0.0017046936867467382,
          0.0016939575356976744,
          0.0016837940012742279,
          0.0016682020210670914,
          0.0016601985843393778,
          0.0016502361327051674,
          0.0016470454574963897,
          0.001639669161074414,
          0.0016371305656088478,
          0.0016127767601664556,
          0.0016072359650690995,
          0.001598463504238995,
          0.0015909553399036,
          0.0015886305314513232,
          0.0015859135527777853,
          0.0015815846142660393,
          0.0015719553010421798,
          0.0015654780398602246,
          0.0015487255973050118,
          0.001534752000514868,
          0.0015287901222178681,
          0.0015281659707795585,
          0.0015274873529829733,
          0.0015263196929988614,
          0.001523188330232608,
          0.001513471017691289,
          0.0014881916568211633,
          0.001440626255022891,
          0.0014383641271398522,
          0.0013899250887504625,
          0.0012919260339667878,
          0.0012897906446975257,
          0.0008754132443367634
         ],
         "yaxis": "y"
        }
       ],
       "layout": {
        "barmode": "relative",
        "height": 800,
        "legend": {
         "tracegroupgap": 0
        },
        "template": {
         "data": {
          "bar": [
           {
            "error_x": {
             "color": "#2a3f5f"
            },
            "error_y": {
             "color": "#2a3f5f"
            },
            "marker": {
             "line": {
              "color": "#E5ECF6",
              "width": 0.5
             },
             "pattern": {
              "fillmode": "overlay",
              "size": 10,
              "solidity": 0.2
             }
            },
            "type": "bar"
           }
          ],
          "barpolar": [
           {
            "marker": {
             "line": {
              "color": "#E5ECF6",
              "width": 0.5
             },
             "pattern": {
              "fillmode": "overlay",
              "size": 10,
              "solidity": 0.2
             }
            },
            "type": "barpolar"
           }
          ],
          "carpet": [
           {
            "aaxis": {
             "endlinecolor": "#2a3f5f",
             "gridcolor": "white",
             "linecolor": "white",
             "minorgridcolor": "white",
             "startlinecolor": "#2a3f5f"
            },
            "baxis": {
             "endlinecolor": "#2a3f5f",
             "gridcolor": "white",
             "linecolor": "white",
             "minorgridcolor": "white",
             "startlinecolor": "#2a3f5f"
            },
            "type": "carpet"
           }
          ],
          "choropleth": [
           {
            "colorbar": {
             "outlinewidth": 0,
             "ticks": ""
            },
            "type": "choropleth"
           }
          ],
          "contour": [
           {
            "colorbar": {
             "outlinewidth": 0,
             "ticks": ""
            },
            "colorscale": [
             [
              0,
              "#0d0887"
             ],
             [
              0.1111111111111111,
              "#46039f"
             ],
             [
              0.2222222222222222,
              "#7201a8"
             ],
             [
              0.3333333333333333,
              "#9c179e"
             ],
             [
              0.4444444444444444,
              "#bd3786"
             ],
             [
              0.5555555555555556,
              "#d8576b"
             ],
             [
              0.6666666666666666,
              "#ed7953"
             ],
             [
              0.7777777777777778,
              "#fb9f3a"
             ],
             [
              0.8888888888888888,
              "#fdca26"
             ],
             [
              1,
              "#f0f921"
             ]
            ],
            "type": "contour"
           }
          ],
          "contourcarpet": [
           {
            "colorbar": {
             "outlinewidth": 0,
             "ticks": ""
            },
            "type": "contourcarpet"
           }
          ],
          "heatmap": [
           {
            "colorbar": {
             "outlinewidth": 0,
             "ticks": ""
            },
            "colorscale": [
             [
              0,
              "#0d0887"
             ],
             [
              0.1111111111111111,
              "#46039f"
             ],
             [
              0.2222222222222222,
              "#7201a8"
             ],
             [
              0.3333333333333333,
              "#9c179e"
             ],
             [
              0.4444444444444444,
              "#bd3786"
             ],
             [
              0.5555555555555556,
              "#d8576b"
             ],
             [
              0.6666666666666666,
              "#ed7953"
             ],
             [
              0.7777777777777778,
              "#fb9f3a"
             ],
             [
              0.8888888888888888,
              "#fdca26"
             ],
             [
              1,
              "#f0f921"
             ]
            ],
            "type": "heatmap"
           }
          ],
          "heatmapgl": [
           {
            "colorbar": {
             "outlinewidth": 0,
             "ticks": ""
            },
            "colorscale": [
             [
              0,
              "#0d0887"
             ],
             [
              0.1111111111111111,
              "#46039f"
             ],
             [
              0.2222222222222222,
              "#7201a8"
             ],
             [
              0.3333333333333333,
              "#9c179e"
             ],
             [
              0.4444444444444444,
              "#bd3786"
             ],
             [
              0.5555555555555556,
              "#d8576b"
             ],
             [
              0.6666666666666666,
              "#ed7953"
             ],
             [
              0.7777777777777778,
              "#fb9f3a"
             ],
             [
              0.8888888888888888,
              "#fdca26"
             ],
             [
              1,
              "#f0f921"
             ]
            ],
            "type": "heatmapgl"
           }
          ],
          "histogram": [
           {
            "marker": {
             "pattern": {
              "fillmode": "overlay",
              "size": 10,
              "solidity": 0.2
             }
            },
            "type": "histogram"
           }
          ],
          "histogram2d": [
           {
            "colorbar": {
             "outlinewidth": 0,
             "ticks": ""
            },
            "colorscale": [
             [
              0,
              "#0d0887"
             ],
             [
              0.1111111111111111,
              "#46039f"
             ],
             [
              0.2222222222222222,
              "#7201a8"
             ],
             [
              0.3333333333333333,
              "#9c179e"
             ],
             [
              0.4444444444444444,
              "#bd3786"
             ],
             [
              0.5555555555555556,
              "#d8576b"
             ],
             [
              0.6666666666666666,
              "#ed7953"
             ],
             [
              0.7777777777777778,
              "#fb9f3a"
             ],
             [
              0.8888888888888888,
              "#fdca26"
             ],
             [
              1,
              "#f0f921"
             ]
            ],
            "type": "histogram2d"
           }
          ],
          "histogram2dcontour": [
           {
            "colorbar": {
             "outlinewidth": 0,
             "ticks": ""
            },
            "colorscale": [
             [
              0,
              "#0d0887"
             ],
             [
              0.1111111111111111,
              "#46039f"
             ],
             [
              0.2222222222222222,
              "#7201a8"
             ],
             [
              0.3333333333333333,
              "#9c179e"
             ],
             [
              0.4444444444444444,
              "#bd3786"
             ],
             [
              0.5555555555555556,
              "#d8576b"
             ],
             [
              0.6666666666666666,
              "#ed7953"
             ],
             [
              0.7777777777777778,
              "#fb9f3a"
             ],
             [
              0.8888888888888888,
              "#fdca26"
             ],
             [
              1,
              "#f0f921"
             ]
            ],
            "type": "histogram2dcontour"
           }
          ],
          "mesh3d": [
           {
            "colorbar": {
             "outlinewidth": 0,
             "ticks": ""
            },
            "type": "mesh3d"
           }
          ],
          "parcoords": [
           {
            "line": {
             "colorbar": {
              "outlinewidth": 0,
              "ticks": ""
             }
            },
            "type": "parcoords"
           }
          ],
          "pie": [
           {
            "automargin": true,
            "type": "pie"
           }
          ],
          "scatter": [
           {
            "fillpattern": {
             "fillmode": "overlay",
             "size": 10,
             "solidity": 0.2
            },
            "type": "scatter"
           }
          ],
          "scatter3d": [
           {
            "line": {
             "colorbar": {
              "outlinewidth": 0,
              "ticks": ""
             }
            },
            "marker": {
             "colorbar": {
              "outlinewidth": 0,
              "ticks": ""
             }
            },
            "type": "scatter3d"
           }
          ],
          "scattercarpet": [
           {
            "marker": {
             "colorbar": {
              "outlinewidth": 0,
              "ticks": ""
             }
            },
            "type": "scattercarpet"
           }
          ],
          "scattergeo": [
           {
            "marker": {
             "colorbar": {
              "outlinewidth": 0,
              "ticks": ""
             }
            },
            "type": "scattergeo"
           }
          ],
          "scattergl": [
           {
            "marker": {
             "colorbar": {
              "outlinewidth": 0,
              "ticks": ""
             }
            },
            "type": "scattergl"
           }
          ],
          "scattermapbox": [
           {
            "marker": {
             "colorbar": {
              "outlinewidth": 0,
              "ticks": ""
             }
            },
            "type": "scattermapbox"
           }
          ],
          "scatterpolar": [
           {
            "marker": {
             "colorbar": {
              "outlinewidth": 0,
              "ticks": ""
             }
            },
            "type": "scatterpolar"
           }
          ],
          "scatterpolargl": [
           {
            "marker": {
             "colorbar": {
              "outlinewidth": 0,
              "ticks": ""
             }
            },
            "type": "scatterpolargl"
           }
          ],
          "scatterternary": [
           {
            "marker": {
             "colorbar": {
              "outlinewidth": 0,
              "ticks": ""
             }
            },
            "type": "scatterternary"
           }
          ],
          "surface": [
           {
            "colorbar": {
             "outlinewidth": 0,
             "ticks": ""
            },
            "colorscale": [
             [
              0,
              "#0d0887"
             ],
             [
              0.1111111111111111,
              "#46039f"
             ],
             [
              0.2222222222222222,
              "#7201a8"
             ],
             [
              0.3333333333333333,
              "#9c179e"
             ],
             [
              0.4444444444444444,
              "#bd3786"
             ],
             [
              0.5555555555555556,
              "#d8576b"
             ],
             [
              0.6666666666666666,
              "#ed7953"
             ],
             [
              0.7777777777777778,
              "#fb9f3a"
             ],
             [
              0.8888888888888888,
              "#fdca26"
             ],
             [
              1,
              "#f0f921"
             ]
            ],
            "type": "surface"
           }
          ],
          "table": [
           {
            "cells": {
             "fill": {
              "color": "#EBF0F8"
             },
             "line": {
              "color": "white"
             }
            },
            "header": {
             "fill": {
              "color": "#C8D4E3"
             },
             "line": {
              "color": "white"
             }
            },
            "type": "table"
           }
          ]
         },
         "layout": {
          "annotationdefaults": {
           "arrowcolor": "#2a3f5f",
           "arrowhead": 0,
           "arrowwidth": 1
          },
          "autotypenumbers": "strict",
          "coloraxis": {
           "colorbar": {
            "outlinewidth": 0,
            "ticks": ""
           }
          },
          "colorscale": {
           "diverging": [
            [
             0,
             "#8e0152"
            ],
            [
             0.1,
             "#c51b7d"
            ],
            [
             0.2,
             "#de77ae"
            ],
            [
             0.3,
             "#f1b6da"
            ],
            [
             0.4,
             "#fde0ef"
            ],
            [
             0.5,
             "#f7f7f7"
            ],
            [
             0.6,
             "#e6f5d0"
            ],
            [
             0.7,
             "#b8e186"
            ],
            [
             0.8,
             "#7fbc41"
            ],
            [
             0.9,
             "#4d9221"
            ],
            [
             1,
             "#276419"
            ]
           ],
           "sequential": [
            [
             0,
             "#0d0887"
            ],
            [
             0.1111111111111111,
             "#46039f"
            ],
            [
             0.2222222222222222,
             "#7201a8"
            ],
            [
             0.3333333333333333,
             "#9c179e"
            ],
            [
             0.4444444444444444,
             "#bd3786"
            ],
            [
             0.5555555555555556,
             "#d8576b"
            ],
            [
             0.6666666666666666,
             "#ed7953"
            ],
            [
             0.7777777777777778,
             "#fb9f3a"
            ],
            [
             0.8888888888888888,
             "#fdca26"
            ],
            [
             1,
             "#f0f921"
            ]
           ],
           "sequentialminus": [
            [
             0,
             "#0d0887"
            ],
            [
             0.1111111111111111,
             "#46039f"
            ],
            [
             0.2222222222222222,
             "#7201a8"
            ],
            [
             0.3333333333333333,
             "#9c179e"
            ],
            [
             0.4444444444444444,
             "#bd3786"
            ],
            [
             0.5555555555555556,
             "#d8576b"
            ],
            [
             0.6666666666666666,
             "#ed7953"
            ],
            [
             0.7777777777777778,
             "#fb9f3a"
            ],
            [
             0.8888888888888888,
             "#fdca26"
            ],
            [
             1,
             "#f0f921"
            ]
           ]
          },
          "colorway": [
           "#636efa",
           "#EF553B",
           "#00cc96",
           "#ab63fa",
           "#FFA15A",
           "#19d3f3",
           "#FF6692",
           "#B6E880",
           "#FF97FF",
           "#FECB52"
          ],
          "font": {
           "color": "#2a3f5f"
          },
          "geo": {
           "bgcolor": "white",
           "lakecolor": "white",
           "landcolor": "#E5ECF6",
           "showlakes": true,
           "showland": true,
           "subunitcolor": "white"
          },
          "hoverlabel": {
           "align": "left"
          },
          "hovermode": "closest",
          "mapbox": {
           "style": "light"
          },
          "paper_bgcolor": "white",
          "plot_bgcolor": "#E5ECF6",
          "polar": {
           "angularaxis": {
            "gridcolor": "white",
            "linecolor": "white",
            "ticks": ""
           },
           "bgcolor": "#E5ECF6",
           "radialaxis": {
            "gridcolor": "white",
            "linecolor": "white",
            "ticks": ""
           }
          },
          "scene": {
           "xaxis": {
            "backgroundcolor": "#E5ECF6",
            "gridcolor": "white",
            "gridwidth": 2,
            "linecolor": "white",
            "showbackground": true,
            "ticks": "",
            "zerolinecolor": "white"
           },
           "yaxis": {
            "backgroundcolor": "#E5ECF6",
            "gridcolor": "white",
            "gridwidth": 2,
            "linecolor": "white",
            "showbackground": true,
            "ticks": "",
            "zerolinecolor": "white"
           },
           "zaxis": {
            "backgroundcolor": "#E5ECF6",
            "gridcolor": "white",
            "gridwidth": 2,
            "linecolor": "white",
            "showbackground": true,
            "ticks": "",
            "zerolinecolor": "white"
           }
          },
          "shapedefaults": {
           "line": {
            "color": "#2a3f5f"
           }
          },
          "ternary": {
           "aaxis": {
            "gridcolor": "white",
            "linecolor": "white",
            "ticks": ""
           },
           "baxis": {
            "gridcolor": "white",
            "linecolor": "white",
            "ticks": ""
           },
           "bgcolor": "#E5ECF6",
           "caxis": {
            "gridcolor": "white",
            "linecolor": "white",
            "ticks": ""
           }
          },
          "title": {
           "x": 0.05
          },
          "xaxis": {
           "automargin": true,
           "gridcolor": "white",
           "linecolor": "white",
           "ticks": "",
           "title": {
            "standoff": 15
           },
           "zerolinecolor": "white",
           "zerolinewidth": 2
          },
          "yaxis": {
           "automargin": true,
           "gridcolor": "white",
           "linecolor": "white",
           "ticks": "",
           "title": {
            "standoff": 15
           },
           "zerolinecolor": "white",
           "zerolinewidth": 2
          }
         }
        },
        "title": {
         "text": "Feature Importances"
        },
        "width": 1200,
        "xaxis": {
         "anchor": "y",
         "domain": [
          0,
          1
         ],
         "title": {
          "text": "Feature"
         }
        },
        "yaxis": {
         "anchor": "x",
         "domain": [
          0,
          1
         ],
         "title": {
          "text": "Importance"
         }
        }
       }
      }
     },
     "metadata": {},
     "output_type": "display_data"
    }
   ],
   "source": [
    "import plotly.express as px\n",
    "\n",
    "feature_importance = rf.feature_importances_\n",
    "importance_df = pd.DataFrame({'feature': X_train.columns, 'importance': feature_importance})\n",
    "importance_df = importance_df.sort_values('importance', ascending=False)\n",
    "fig = px.bar(importance_df, x='feature', y='importance', title='Feature Importances', labels={'importance': 'Importance', 'feature': 'Feature'}, width=1200, height=800)\n",
    "fig.show()\n"
   ]
  },
  {
   "cell_type": "code",
   "execution_count": 21,
   "metadata": {},
   "outputs": [
    {
     "name": "stdout",
     "output_type": "stream",
     "text": [
      "                     feature  importance\n",
      "271          canny_edges_std    0.010013\n",
      "270         canny_edges_mean    0.009567\n",
      "207                    std_v    0.009538\n",
      "16                 hist_hue5    0.009334\n",
      "276                 solidity    0.009090\n",
      "13                 hist_hue2    0.008860\n",
      "22                hist_hue11    0.008662\n",
      "21                hist_hue10    0.008641\n",
      "206                    std_U    0.008601\n",
      "6                     H_sqrt    0.008276\n",
      "0                     mean_H    0.008127\n",
      "263       harris_formula_sum    0.008058\n",
      "194                    std_a    0.007632\n",
      "14                 hist_hue3    0.007463\n",
      "266         corner_area_mean    0.007433\n",
      "17                 hist_hue6    0.007302\n",
      "197                   a_sqrt    0.007118\n",
      "191                   mean_a    0.007091\n",
      "255                  lbp_std    0.007056\n",
      "15                 hist_hue4    0.006992\n",
      "224                  entropy    0.006992\n",
      "57          hist_saturation2    0.006936\n",
      "195                    std_b    0.006914\n",
      "223              correlation    0.006870\n",
      "183                    std_B    0.006843\n",
      "187                      NRI    0.006836\n",
      "55                hist_hue45    0.006813\n",
      "3                      std_H    0.006753\n",
      "58          hist_saturation3    0.006551\n",
      "9                        NHI    0.006471\n",
      "232                sobel_std    0.006325\n",
      "12                 hist_hue1    0.006305\n",
      "20                 hist_hue9    0.006255\n",
      "215           brightness_hsv    0.006245\n",
      "18                 hist_hue7    0.006188\n",
      "256                 fft_mean    0.006152\n",
      "243               gabor_std1    0.005988\n",
      "220                 contrast    0.005977\n",
      "230              roberts_std    0.005719\n",
      "178                   mean_R    0.005487\n",
      "184                   R_sqrt    0.005476\n",
      "231               sobel_mean    0.005456\n",
      "269                  log_std    0.005441\n",
      "53                hist_hue43    0.005412\n",
      "210                   v_sqrt    0.005409\n",
      "188                      NGI    0.005394\n",
      "59          hist_saturation4    0.005391\n",
      "7                     S_sqrt    0.005340\n",
      "213                      NvI    0.005192\n",
      "19                 hist_hue8    0.005178\n",
      "229             roberts_mean    0.005169\n",
      "56          hist_saturation1    0.005162\n",
      "181                    std_R    0.005128\n",
      "204                   mean_v    0.005100\n",
      "23                hist_hue12    0.005064\n",
      "10                       NSI    0.005048\n",
      "1                     mean_S    0.005038\n",
      "116              hist_value2    0.005011\n",
      "222                   energy    0.004929\n",
      "228              entropy_std    0.004912\n",
      "200                      NaI    0.004803\n",
      "49                hist_hue39    0.004795\n",
      "198                   b_sqrt    0.004746\n",
      "189                      NBI    0.004745\n",
      "43                hist_hue32    0.004688\n",
      "54                hist_hue44    0.004688\n",
      "192                   mean_b    0.004652\n",
      "203                   mean_U    0.004597\n",
      "42                hist_hue31    0.004584\n",
      "115              hist_value1    0.004524\n",
      "209                   U_sqrt    0.004508\n",
      "45                hist_hue35    0.004441\n",
      "165             hist_value52    0.004435\n",
      "39                hist_hue28    0.004414\n",
      "40                hist_hue29    0.004380\n",
      "50                hist_hue40    0.004258\n",
      "51                hist_hue41    0.004258\n",
      "114        hist_saturation64    0.004215\n",
      "29                hist_hue18    0.004157\n",
      "60          hist_saturation5    0.004139\n",
      "37                hist_hue26    0.004109\n",
      "163             hist_value50    0.004109\n",
      "48                hist_hue38    0.004056\n",
      "27                hist_hue16    0.004036\n",
      "44                hist_hue33    0.004013\n",
      "46                hist_hue36    0.004008\n",
      "47                hist_hue37    0.003970\n",
      "227             entropy_mean    0.003928\n",
      "25                hist_hue14    0.003916\n",
      "166             hist_value53    0.003875\n",
      "77         hist_saturation22    0.003836\n",
      "260              wavelet_std    0.003826\n",
      "28                hist_hue17    0.003774\n",
      "52                hist_hue42    0.003759\n",
      "164             hist_value51    0.003741\n",
      "74         hist_saturation19    0.003741\n",
      "78         hist_saturation23    0.003737\n",
      "76         hist_saturation21    0.003705\n",
      "221              homogeneity    0.003703\n",
      "4                      std_S    0.003689\n",
      "99         hist_saturation46    0.003688\n",
      "24                hist_hue13    0.003677\n",
      "30                hist_hue19    0.003676\n",
      "100        hist_saturation47    0.003617\n",
      "26                hist_hue15    0.003616\n",
      "102        hist_saturation49    0.003597\n",
      "75         hist_saturation20    0.003574\n",
      "167             hist_value54    0.003572\n",
      "117              hist_value3    0.003572\n",
      "205                    std_Y    0.003539\n",
      "79         hist_saturation24    0.003526\n",
      "219            std_intensity    0.003506\n",
      "73         hist_saturation18    0.003479\n",
      "118              hist_value4    0.003459\n",
      "72         hist_saturation17    0.003439\n",
      "161             hist_value48    0.003425\n",
      "71         hist_saturation16    0.003424\n",
      "162             hist_value49    0.003409\n",
      "119              hist_value5    0.003404\n",
      "38                hist_hue27    0.003371\n",
      "101        hist_saturation48    0.003333\n",
      "36                hist_hue25    0.003328\n",
      "5                      std_V    0.003286\n",
      "201                      NbI    0.003265\n",
      "95         hist_saturation41    0.003247\n",
      "97         hist_saturation43    0.003227\n",
      "70         hist_saturation15    0.003224\n",
      "61          hist_saturation6    0.003212\n",
      "98         hist_saturation44    0.003129\n",
      "96         hist_saturation42    0.003121\n",
      "182                    std_G    0.003121\n",
      "69         hist_saturation14    0.003072\n",
      "168             hist_value55    0.003045\n",
      "67         hist_saturation12    0.003034\n",
      "193                    std_L    0.002968\n",
      "68         hist_saturation13    0.002955\n",
      "11                       NVI    0.002953\n",
      "134             hist_value20    0.002941\n",
      "66         hist_saturation11    0.002928\n",
      "65         hist_saturation10    0.002927\n",
      "120              hist_value6    0.002918\n",
      "267         edge_length_mean    0.002901\n",
      "262              num_corners    0.002892\n",
      "177             hist_value64    0.002885\n",
      "93         hist_saturation39    0.002834\n",
      "32                hist_hue21    0.002833\n",
      "62          hist_saturation7    0.002823\n",
      "237              gabor_mean5    0.002818\n",
      "63          hist_saturation8    0.002818\n",
      "103        hist_saturation50    0.002806\n",
      "31                hist_hue20    0.002798\n",
      "226             third_moment    0.002704\n",
      "64          hist_saturation9    0.002703\n",
      "239              gabor_mean7    0.002698\n",
      "233              gabor_mean1    0.002696\n",
      "240              gabor_mean8    0.002696\n",
      "234              gabor_mean2    0.002680\n",
      "80         hist_saturation25    0.002672\n",
      "175             hist_value62    0.002651\n",
      "94         hist_saturation40    0.002630\n",
      "258               fft_energy    0.002630\n",
      "41                hist_hue30    0.002625\n",
      "160             hist_value47    0.002589\n",
      "92         hist_saturation38    0.002578\n",
      "121              hist_value7    0.002564\n",
      "124             hist_value10    0.002560\n",
      "135             hist_value21    0.002549\n",
      "238              gabor_mean6    0.002548\n",
      "104        hist_saturation52    0.002542\n",
      "235              gabor_mean3    0.002538\n",
      "176             hist_value63    0.002518\n",
      "236              gabor_mean4    0.002517\n",
      "241              gabor_mean9    0.002492\n",
      "133             hist_value19    0.002483\n",
      "34                hist_hue23    0.002480\n",
      "123              hist_value9    0.002466\n",
      "169             hist_value56    0.002463\n",
      "242             gabor_mean10    0.002427\n",
      "272                     area    0.002421\n",
      "87         hist_saturation33    0.002416\n",
      "132             hist_value18    0.002397\n",
      "122              hist_value8    0.002384\n",
      "33                hist_hue22    0.002383\n",
      "125             hist_value11    0.002369\n",
      "90         hist_saturation36    0.002364\n",
      "84         hist_saturation30    0.002350\n",
      "126             hist_value12    0.002333\n",
      "273                perimeter    0.002331\n",
      "81         hist_saturation27    0.002322\n",
      "173             hist_value60    0.002320\n",
      "174             hist_value61    0.002313\n",
      "83         hist_saturation29    0.002307\n",
      "172             hist_value59    0.002306\n",
      "89         hist_saturation35    0.002293\n",
      "127             hist_value13    0.002289\n",
      "253  gradient_magnitude_mean    0.002285\n",
      "170             hist_value57    0.002273\n",
      "159             hist_value46    0.002262\n",
      "82         hist_saturation28    0.002220\n",
      "91         hist_saturation37    0.002208\n",
      "128             hist_value14    0.002205\n",
      "275                   extent    0.002204\n",
      "171             hist_value58    0.002186\n",
      "112        hist_saturation62    0.002158\n",
      "88         hist_saturation34    0.002131\n",
      "113        hist_saturation63    0.002123\n",
      "136             hist_value22    0.002095\n",
      "254   gradient_magnitude_std    0.002094\n",
      "109        hist_saturation59    0.002092\n",
      "199                      NLI    0.002090\n",
      "129             hist_value15    0.002088\n",
      "107        hist_saturation56    0.002084\n",
      "185                   G_sqrt    0.002072\n",
      "131             hist_value17    0.002059\n",
      "86         hist_saturation32    0.002043\n",
      "249               gabor_std7    0.002042\n",
      "111        hist_saturation61    0.002034\n",
      "105        hist_saturation54    0.002025\n",
      "130             hist_value16    0.002013\n",
      "85         hist_saturation31    0.001995\n",
      "8                     V_sqrt    0.001991\n",
      "264        corner_variance_x    0.001989\n",
      "246               gabor_std4    0.001953\n",
      "179                   mean_G    0.001938\n",
      "110        hist_saturation60    0.001937\n",
      "35                hist_hue24    0.001929\n",
      "2                     mean_V    0.001919\n",
      "257                  fft_std    0.001912\n",
      "261           wavelet_energy    0.001907\n",
      "106        hist_saturation55    0.001901\n",
      "250               gabor_std8    0.001896\n",
      "211                      NYI    0.001888\n",
      "283        minor_axis_length    0.001875\n",
      "244               gabor_std2    0.001839\n",
      "158             hist_value45    0.001832\n",
      "247               gabor_std5    0.001817\n",
      "282        major_axis_length    0.001816\n",
      "154             hist_value41    0.001816\n",
      "277                   length    0.001803\n",
      "281    convex_hull_perimeter    0.001802\n",
      "245               gabor_std3    0.001799\n",
      "265        corner_variance_y    0.001791\n",
      "151             hist_value38    0.001780\n",
      "278                    width    0.001770\n",
      "252              gabor_std10    0.001768\n",
      "108        hist_saturation58    0.001757\n",
      "146             hist_value33    0.001755\n",
      "142             hist_value29    0.001751\n",
      "248               gabor_std6    0.001739\n",
      "152             hist_value39    0.001719\n",
      "212                      NUI    0.001706\n",
      "147             hist_value34    0.001705\n",
      "144             hist_value31    0.001694\n",
      "251               gabor_std9    0.001684\n",
      "149             hist_value36    0.001668\n",
      "214           brightness_rgb    0.001660\n",
      "274             aspect_ratio    0.001650\n",
      "217           brightness_yuv    0.001647\n",
      "137             hist_value23    0.001640\n",
      "145             hist_value32    0.001637\n",
      "148             hist_value35    0.001613\n",
      "153             hist_value40    0.001607\n",
      "138             hist_value24    0.001598\n",
      "280         convex_hull_area    0.001591\n",
      "156             hist_value43    0.001589\n",
      "216           brightness_lab    0.001586\n",
      "143             hist_value30    0.001582\n",
      "155             hist_value42    0.001572\n",
      "157             hist_value44    0.001565\n",
      "180                   mean_B    0.001549\n",
      "190                   mean_L    0.001535\n",
      "208                   Y_sqrt    0.001529\n",
      "186                   B_sqrt    0.001528\n",
      "202                   mean_Y    0.001527\n",
      "141             hist_value28    0.001526\n",
      "140             hist_value26    0.001523\n",
      "150             hist_value37    0.001513\n",
      "196                   L_sqrt    0.001488\n",
      "259             wavelet_mean    0.001441\n",
      "139             hist_value25    0.001438\n",
      "218           mean_intensity    0.001390\n",
      "225               uniformity    0.001292\n",
      "279    length_to_width_ratio    0.001290\n",
      "268                 log_mean    0.000875\n"
     ]
    }
   ],
   "source": [
    "pd.set_option('display.max_rows', None)\n",
    "pd.set_option('display.max_columns', None)\n",
    "pd.set_option('display.max_colwidth', None)\n",
    "pd.set_option('display.width', None)\n",
    "print(importance_df)"
   ]
  },
  {
   "cell_type": "code",
   "execution_count": 46,
   "metadata": {},
   "outputs": [
    {
     "name": "stdout",
     "output_type": "stream",
     "text": [
      "Number of important features: 112\n"
     ]
    }
   ],
   "source": [
    "threshold = 0.0035\n",
    "important_features = importance_df[importance_df['importance'] > threshold]['feature'].tolist()\n",
    "\n",
    "print(f\"Number of important features: {len(important_features)}\")\n",
    "\n",
    "important_features.append(\"label\")\n",
    "filtered_data = df[important_features]\n",
    "\n",
    "train_data, test_data = train_test_split(filtered_data, test_size=0.3, random_state=42)\n",
    "X_train = train_data.drop(columns=[\"label\"])\n",
    "y_train = train_data[\"label\"]\n",
    "X_test = test_data.drop(columns=[\"label\"])\n",
    "y_test = test_data[\"label\"]\n",
    "#89"
   ]
  },
  {
   "cell_type": "code",
   "execution_count": 47,
   "metadata": {},
   "outputs": [
    {
     "name": "stdout",
     "output_type": "stream",
     "text": [
      "(38813, 112)\n"
     ]
    }
   ],
   "source": [
    "# check shape of train feature\n",
    "print(X_train.shape)"
   ]
  },
  {
   "cell_type": "code",
   "execution_count": null,
   "metadata": {},
   "outputs": [],
   "source": [
    "# XGB with feature selection\n",
    "n_loops = 5\n",
    "\n",
    "accuracies = []\n",
    "precisions = []\n",
    "recalls = []\n",
    "f1_scores = []\n",
    "\n",
    "\n",
    "\n",
    "for i in range(n_loops):\n",
    "    xgb_params = {\n",
    "        'n_estimators': 1000,               \n",
    "        'max_depth': 2,                   \n",
    "        'learning_rate': 0.1,               \n",
    "        'subsample': 0.8,                  \n",
    "        'colsample_bytree': 0.8,           \n",
    "        'gamma': 0.03,                        \n",
    "        'reg_alpha': 0,                     # Giá trị alpha cho regularization L1\n",
    "        'reg_lambda': 1,                    # Giá trị lambda cho regularization L2\n",
    "        'min_child_weight': 1,           \n",
    "        'random_state': 42,\n",
    "        'n_jobs': -1   \n",
    "    }\n",
    "\n",
    "    xgb_clf = XGBClassifier(**xgb_params)\n",
    "    xgb_clf.fit(X_train, y_train)\n",
    "    y_pred = xgb_clf.predict(X_test)\n",
    "    accuracies.append(accuracy_score(y_test, y_pred))\n",
    "    precisions.append(precision_score(y_test, y_pred, average='weighted'))\n",
    "    recalls.append(recall_score(y_test, y_pred, average='weighted'))\n",
    "    f1_scores.append(f1_score(y_test, y_pred, average='weighted'))\n",
    "\n",
    "avg_accuracy = np.mean(accuracies)\n",
    "avg_precision = np.mean(precisions)\n",
    "avg_recall = np.mean(recalls)\n",
    "avg_f1 = np.mean(f1_scores)\n",
    "\n",
    "print(f\"Average Accuracy: {avg_accuracy:.4f}\")\n",
    "print(f\"Average Precision: {avg_precision:.4f}\")\n",
    "print(f\"Average Recall: {avg_recall:.4f}\")\n",
    "print(f\"Average F1-score: {avg_f1:.4f}\")\n"
   ]
  },
  {
   "cell_type": "code",
   "execution_count": 48,
   "metadata": {},
   "outputs": [
    {
     "name": "stdout",
     "output_type": "stream",
     "text": [
      "Accuracy: 0.9740\n",
      "Precision: 0.9741\n",
      "Recall: 0.9740\n",
      "F1-score: 0.9740\n",
      "Confusion Matrix:\n"
     ]
    },
    {
     "data": {
      "image/png": "[encoded data removed]",
      "text/plain": [
       "<Figure size 2500x1500 with 2 Axes>"
      ]
     },
     "metadata": {},
     "output_type": "display_data"
    }
   ],
   "source": [
    "# SVC with feature selection\n",
    "svm = SVC(C=100, gamma='scale', kernel='rbf', random_state=42)\n",
    "svm.fit(X_train, y_train)\n",
    "y_pred = svm.predict(X_test)\n",
    "accuracy = accuracy_score(y_test, y_pred)\n",
    "precision = precision_score(y_test, y_pred, average='weighted')  # Adjusted for multiclass\n",
    "recall = recall_score(y_test, y_pred, average='weighted')  # Adjusted for multiclass\n",
    "f1 = f1_score(y_test, y_pred, average='weighted')  # Adjusted for multiclass\n",
    "conf_matrix = confusion_matrix(y_test, y_pred)\n",
    "\n",
    "print(f\"Accuracy: {accuracy:.4f}\")\n",
    "print(f\"Precision: {precision:.4f}\")\n",
    "print(f\"Recall: {recall:.4f}\")\n",
    "print(f\"F1-score: {f1:.4f}\")\n",
    "print(\"Confusion Matrix:\")\n",
    "\n",
    "\n",
    "# Vẽ confusion matrix\n",
    "plt.figure(figsize=(25, 15))\n",
    "sns.heatmap(conf_matrix, annot=True, fmt='d', cmap='YlGnBu', cbar=True, annot_kws={\"size\": 12})\n",
    "plt.title('Confusion Matrix', fontsize=18)\n",
    "plt.xlabel('Predicted Label', fontsize=15)\n",
    "plt.ylabel('True Label', fontsize=15)\n",
    "plt.xticks(fontsize=12)\n",
    "plt.yticks(fontsize=12)\n",
    "plt.show()\n",
    "#9713            #134 9737 #112 9740  #89 9702 "
   ]
  },
  {
   "cell_type": "code",
   "execution_count": 49,
   "metadata": {},
   "outputs": [
    {
     "name": "stderr",
     "output_type": "stream",
     "text": [
      "c:\\Users\\5530\\AppData\\Local\\Programs\\Python\\Python312\\Lib\\site-packages\\sklearn\\ensemble\\_forest.py:615: UserWarning:\n",
      "\n",
      "Some inputs do not have OOB scores. This probably means too few trees were used to compute any reliable OOB estimates.\n",
      "\n",
      "c:\\Users\\5530\\AppData\\Local\\Programs\\Python\\Python312\\Lib\\site-packages\\sklearn\\ensemble\\_forest.py:615: UserWarning:\n",
      "\n",
      "Some inputs do not have OOB scores. This probably means too few trees were used to compute any reliable OOB estimates.\n",
      "\n",
      "c:\\Users\\5530\\AppData\\Local\\Programs\\Python\\Python312\\Lib\\site-packages\\sklearn\\ensemble\\_forest.py:615: UserWarning:\n",
      "\n",
      "Some inputs do not have OOB scores. This probably means too few trees were used to compute any reliable OOB estimates.\n",
      "\n",
      "c:\\Users\\5530\\AppData\\Local\\Programs\\Python\\Python312\\Lib\\site-packages\\sklearn\\ensemble\\_forest.py:615: UserWarning:\n",
      "\n",
      "Some inputs do not have OOB scores. This probably means too few trees were used to compute any reliable OOB estimates.\n",
      "\n",
      "c:\\Users\\5530\\AppData\\Local\\Programs\\Python\\Python312\\Lib\\site-packages\\sklearn\\ensemble\\_forest.py:615: UserWarning:\n",
      "\n",
      "Some inputs do not have OOB scores. This probably means too few trees were used to compute any reliable OOB estimates.\n",
      "\n"
     ]
    },
    {
     "name": "stdout",
     "output_type": "stream",
     "text": [
      "Soft Voting classifier accuracy: 0.9732\n",
      "Soft Voting classifier precision: 0.9683\n",
      "Soft Voting classifier recall: 0.9639\n",
      "Soft Voting classifier F1 score: 0.9659\n"
     ]
    }
   ],
   "source": [
    "# Voting \n",
    "\n",
    "rf_clf = RandomForestClassifier(\n",
    "    n_estimators=5,  # Reduced from 500\n",
    "    criterion='gini',\n",
    "    max_depth=None,\n",
    "    min_samples_split=2,\n",
    "    min_samples_leaf=1,\n",
    "    min_weight_fraction_leaf=0.0,\n",
    "    max_features='sqrt',\n",
    "    max_leaf_nodes=None,\n",
    "    min_impurity_decrease=0.0,\n",
    "    bootstrap=True,\n",
    "    oob_score=True,\n",
    "    n_jobs=-1,\n",
    "    random_state=42,\n",
    "    verbose=0,\n",
    "    warm_start=False,\n",
    "    class_weight=None,\n",
    "    ccp_alpha=0.0,\n",
    "    max_samples=None\n",
    ")\n",
    "\n",
    "bagging_rf = BaggingClassifier(estimator=rf_clf, n_estimators=5, random_state=42)  # Reduced from 10\n",
    "bagging_svm = BaggingClassifier(estimator=SVC(C=100, gamma='scale', kernel='rbf', probability=True, random_state=42), n_estimators=5, random_state=42)  # Reduced from 10\n",
    "bagging_knn = BaggingClassifier(estimator=KNeighborsClassifier(n_neighbors=3, weights='distance', algorithm='auto', metric='manhattan', n_jobs=-1), n_estimators=5, random_state=42)  # Reduced from 10\n",
    "bagging_lr = BaggingClassifier(estimator=LogisticRegression(C=100, penalty='l2', solver='lbfgs', max_iter=10000, random_state=42), n_estimators=5, random_state=42)  # Reduced from 10\n",
    "\n",
    "voting_clf = VotingClassifier(estimators=[\n",
    "    ('rf', bagging_rf),\n",
    "    ('svm', bagging_svm),\n",
    "    ('knn', bagging_knn),\n",
    "    ('lr', bagging_lr)\n",
    "], voting='soft', n_jobs=1)\n",
    "voting_clf.fit(X_train, y_train)\n",
    "y_pred = voting_clf.predict(X_test)\n",
    "accuracy = accuracy_score(y_test, y_pred)\n",
    "precision = precision_score(y_test, y_pred, average='macro')\n",
    "recall = recall_score(y_test, y_pred, average='macro')\n",
    "f1 = f1_score(y_test, y_pred, average='macro')\n",
    "print(f\"Soft Voting classifier accuracy: {accuracy:.4f}\")\n",
    "print(f\"Soft Voting classifier precision: {precision:.4f}\")\n",
    "print(f\"Soft Voting classifier recall: {recall:.4f}\")\n",
    "print(f\"Soft Voting classifier F1 score: {f1:.4f}\")\n",
    "\n",
    "#9723"
   ]
  },
  {
   "cell_type": "markdown",
   "metadata": {},
   "source": [

   ]
  }
 ],
 "metadata": {
  "kernelspec": {
   "display_name": "Python 3",
   "language": "python",
   "name": "python3"
  },
  "language_info": {
   "codemirror_mode": {
    "name": "ipython",
    "version": 3
   },
   "file_extension": ".py",
   "mimetype": "text/x-python",
   "name": "python",
   "nbconvert_exporter": "python",
   "pygments_lexer": "ipython3",
   "version": "3.12.3"
  }
 },
 "nbformat": 4,
 "nbformat_minor": 2
}
