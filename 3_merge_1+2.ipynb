{
 "cells": [
  {
   "cell_type": "code",
   "execution_count": 1,
   "metadata": {},
   "outputs": [],
   "source": [
    "import pandas as pd\n",
    "import numpy as np\n",
    "from sklearn.preprocessing import StandardScaler, LabelEncoder\n",
    "from sklearn.ensemble import RandomForestClassifier\n",
    "from sklearn.model_selection import train_test_split\n",
    "from sklearn.metrics import accuracy_score, precision_score, recall_score, f1_score, confusion_matrix"
   ]
  },
  {
   "cell_type": "markdown",
   "metadata": {},
   "source": [
    "# Merge SIFT-BOW to Main Feature"
   ]
  },
  {
   "cell_type": "code",
   "execution_count": null,
   "metadata": {},
   "outputs": [],
   "source": [
    "df = pd.read_csv('main_features.csv') # sau em có đổi tên file này thành tên file em nộp\n",
    "df2 = pd.read_csv('sift-bow_features.csv')  \n",
    " # 2 file csv này có từ 2 file code"
   ]
  },
  {
   "cell_type": "code",
   "execution_count": 5,
   "metadata": {},
   "outputs": [],
   "source": [
    "df2 = df2.drop(columns=[\"image_path\"])\n",
    "columns_to_scale = [col for col in df2.columns if col != 'label']\n",
    "scaler = StandardScaler()\n",
    "df2[columns_to_scale] = scaler.fit_transform(df2[columns_to_scale])\n",
    "label = LabelEncoder()\n",
    "df2['label'] = label.fit_transform(df2['label'])\n"
   ]
  },
  {
   "cell_type": "markdown",
   "metadata": {},
   "source": [
    "Sift-Bow feature selection in Df2 using RF"
   ]
  },
  {
   "cell_type": "code",
   "execution_count": 6,
   "metadata": {},
   "outputs": [
    {
     "name": "stderr",
     "output_type": "stream",
     "text": [
      "c:\\Users\\5530\\AppData\\Local\\Programs\\Python\\Python312\\Lib\\site-packages\\sklearn\\metrics\\_classification.py:1517: UndefinedMetricWarning: Precision is ill-defined and being set to 0.0 in labels with no predicted samples. Use `zero_division` parameter to control this behavior.\n",
      "  _warn_prf(average, modifier, f\"{metric.capitalize()} is\", len(result))\n",
      "c:\\Users\\5530\\AppData\\Local\\Programs\\Python\\Python312\\Lib\\site-packages\\sklearn\\metrics\\_classification.py:1517: UndefinedMetricWarning: Precision is ill-defined and being set to 0.0 in labels with no predicted samples. Use `zero_division` parameter to control this behavior.\n",
      "  _warn_prf(average, modifier, f\"{metric.capitalize()} is\", len(result))\n",
      "c:\\Users\\5530\\AppData\\Local\\Programs\\Python\\Python312\\Lib\\site-packages\\sklearn\\metrics\\_classification.py:1517: UndefinedMetricWarning: Precision is ill-defined and being set to 0.0 in labels with no predicted samples. Use `zero_division` parameter to control this behavior.\n",
      "  _warn_prf(average, modifier, f\"{metric.capitalize()} is\", len(result))\n",
      "c:\\Users\\5530\\AppData\\Local\\Programs\\Python\\Python312\\Lib\\site-packages\\sklearn\\metrics\\_classification.py:1517: UndefinedMetricWarning: Precision is ill-defined and being set to 0.0 in labels with no predicted samples. Use `zero_division` parameter to control this behavior.\n",
      "  _warn_prf(average, modifier, f\"{metric.capitalize()} is\", len(result))\n"
     ]
    },
    {
     "name": "stdout",
     "output_type": "stream",
     "text": [
      "Average Accuracy: 0.5689\n",
      "Average Precision: 0.5812\n",
      "Average Recall: 0.5689\n",
      "Average F1-score: 0.5123\n"
     ]
    },
    {
     "name": "stderr",
     "output_type": "stream",
     "text": [
      "c:\\Users\\5530\\AppData\\Local\\Programs\\Python\\Python312\\Lib\\site-packages\\sklearn\\metrics\\_classification.py:1517: UndefinedMetricWarning: Precision is ill-defined and being set to 0.0 in labels with no predicted samples. Use `zero_division` parameter to control this behavior.\n",
      "  _warn_prf(average, modifier, f\"{metric.capitalize()} is\", len(result))\n"
     ]
    }
   ],
   "source": [
    "n_loops = 5\n",
    "accuracies = []\n",
    "precisions = []\n",
    "recalls = []\n",
    "f1_scores = []\n",
    "\n",
    "for i in range(n_loops):\n",
    "    train_data, test_data = train_test_split(df2, test_size=0.3, random_state=42 + i)\n",
    "\n",
    "    X_train = train_data.drop(columns=[\"label\"])\n",
    "    y_train = train_data[\"label\"]\n",
    "    X_test = test_data.drop(columns=[\"label\"])\n",
    "    y_test = test_data[\"label\"]\n",
    "\n",
    "    rf = RandomForestClassifier(\n",
    "        n_estimators=500,     \n",
    "        max_depth=None,     \n",
    "        min_samples_split=2,  \n",
    "        min_samples_leaf=1,  \n",
    "        max_features='sqrt', \n",
    "        bootstrap=True,   \n",
    "        random_state=42 + i,\n",
    "        oob_score=True,\n",
    "        n_jobs=-1\n",
    "    )\n",
    "\n",
    "    rf.fit(X_train, y_train)\n",
    "    y_pred = rf.predict(X_test)\n",
    "\n",
    "    accuracies.append(accuracy_score(y_test, y_pred))\n",
    "    precisions.append(precision_score(y_test, y_pred, average='weighted'))\n",
    "    recalls.append(recall_score(y_test, y_pred, average='weighted'))\n",
    "    f1_scores.append(f1_score(y_test, y_pred, average='weighted'))\n",
    "\n",
    "avg_accuracy = np.mean(accuracies)\n",
    "avg_precision = np.mean(precisions)\n",
    "avg_recall = np.mean(recalls)\n",
    "avg_f1 = np.mean(f1_scores)\n",
    "\n",
    "print(f\"Average Accuracy: {avg_accuracy:.4f}\")\n",
    "print(f\"Average Precision: {avg_precision:.4f}\")\n",
    "print(f\"Average Recall: {avg_recall:.4f}\")\n",
    "print(f\"Average F1-score: {avg_f1:.4f}\")\n"
   ]
  },
  {
   "cell_type": "code",
   "execution_count": 7,
   "metadata": {},
   "outputs": [
    {
     "data": {
      "application/vnd.plotly.v1+json": {
       "config": {
        "plotlyServerURL": "https://plot.ly"
       },
       "data": [
        {
         "alignmentgroup": "True",
         "hovertemplate": "Feature=%{x}<br>Importance=%{y}<extra></extra>",
         "legendgroup": "",
         "marker": {
          "color": "#636efa",
          "pattern": {
           "shape": ""
          }
         },
         "name": "",
         "offsetgroup": "",
         "orientation": "v",
         "showlegend": false,
         "textposition": "auto",
         "type": "bar",
         "x": [
          "feature_181",
          "feature_103",
          "feature_71",
          "feature_334",
          "feature_42",
          "feature_175",
          "feature_50",
          "feature_31",
          "feature_336",
          "feature_163",
          "feature_129",
          "feature_314",
          "feature_66",
          "feature_33",
          "feature_108",
          "feature_224",
          "feature_171",
          "feature_70",
          "feature_153",
          "feature_191",
          "feature_13",
          "feature_6",
          "feature_189",
          "feature_111",
          "feature_146",
          "feature_230",
          "feature_284",
          "feature_248",
          "feature_173",
          "feature_390",
          "feature_109",
          "feature_319",
          "feature_363",
          "feature_167",
          "feature_113",
          "feature_23",
          "feature_210",
          "feature_53",
          "feature_165",
          "feature_193",
          "feature_339",
          "feature_17",
          "feature_355",
          "feature_278",
          "feature_24",
          "feature_92",
          "feature_338",
          "feature_44",
          "feature_49",
          "feature_122",
          "feature_2",
          "feature_375",
          "feature_47",
          "feature_151",
          "feature_77",
          "feature_377",
          "feature_311",
          "feature_202",
          "feature_315",
          "feature_364",
          "feature_197",
          "feature_67",
          "feature_127",
          "feature_387",
          "feature_178",
          "feature_19",
          "feature_259",
          "feature_372",
          "feature_9",
          "feature_393",
          "feature_304",
          "feature_330",
          "feature_91",
          "feature_350",
          "feature_97",
          "feature_104",
          "feature_96",
          "feature_115",
          "feature_63",
          "feature_389",
          "feature_186",
          "feature_207",
          "feature_321",
          "feature_352",
          "feature_226",
          "feature_308",
          "feature_14",
          "feature_145",
          "feature_324",
          "feature_98",
          "feature_225",
          "feature_366",
          "feature_80",
          "feature_110",
          "feature_170",
          "feature_106",
          "feature_233",
          "feature_78",
          "feature_119",
          "feature_10",
          "feature_297",
          "feature_38",
          "feature_137",
          "feature_120",
          "feature_217",
          "feature_164",
          "feature_361",
          "feature_58",
          "feature_244",
          "feature_256",
          "feature_237",
          "feature_76",
          "feature_147",
          "feature_4",
          "feature_371",
          "feature_100",
          "feature_341",
          "feature_157",
          "feature_274",
          "feature_370",
          "feature_140",
          "feature_159",
          "feature_184",
          "feature_0",
          "feature_267",
          "feature_228",
          "feature_320",
          "feature_331",
          "feature_218",
          "feature_205",
          "feature_354",
          "feature_133",
          "feature_48",
          "feature_362",
          "feature_134",
          "feature_279",
          "feature_188",
          "feature_20",
          "feature_124",
          "feature_35",
          "feature_240",
          "feature_322",
          "feature_306",
          "feature_36",
          "feature_117",
          "feature_54",
          "feature_299",
          "feature_74",
          "feature_190",
          "feature_135",
          "feature_29",
          "feature_291",
          "feature_11",
          "feature_169",
          "feature_32",
          "feature_148",
          "feature_89",
          "feature_39",
          "feature_22",
          "feature_283",
          "feature_396",
          "feature_399",
          "feature_85",
          "feature_382",
          "feature_16",
          "feature_323",
          "feature_34",
          "feature_289",
          "feature_333",
          "feature_275",
          "feature_45",
          "feature_236",
          "feature_93",
          "feature_276",
          "feature_235",
          "feature_376",
          "feature_132",
          "feature_79",
          "feature_221",
          "feature_229",
          "feature_69",
          "feature_5",
          "feature_293",
          "feature_312",
          "feature_68",
          "feature_87",
          "feature_138",
          "feature_73",
          "feature_203",
          "feature_192",
          "feature_252",
          "feature_61",
          "feature_287",
          "feature_211",
          "feature_280",
          "feature_357",
          "feature_360",
          "feature_130",
          "feature_152",
          "feature_262",
          "feature_232",
          "feature_326",
          "feature_383",
          "feature_149",
          "feature_249",
          "feature_391",
          "feature_388",
          "feature_179",
          "feature_208",
          "feature_46",
          "feature_234",
          "feature_316",
          "feature_161",
          "feature_94",
          "feature_121",
          "feature_204",
          "feature_327",
          "feature_185",
          "feature_60",
          "feature_373",
          "feature_62",
          "feature_18",
          "feature_281",
          "feature_136",
          "feature_253",
          "feature_28",
          "feature_160",
          "feature_131",
          "feature_194",
          "feature_21",
          "feature_337",
          "feature_90",
          "feature_310",
          "feature_168",
          "feature_317",
          "feature_307",
          "feature_294",
          "feature_139",
          "feature_52",
          "feature_215",
          "feature_359",
          "feature_65",
          "feature_258",
          "feature_379",
          "feature_269",
          "feature_107",
          "feature_214",
          "feature_378",
          "feature_102",
          "feature_239",
          "feature_150",
          "feature_213",
          "feature_318",
          "feature_231",
          "feature_199",
          "feature_398",
          "feature_101",
          "feature_41",
          "feature_303",
          "feature_55",
          "feature_343",
          "feature_277",
          "feature_12",
          "feature_209",
          "feature_81",
          "feature_82",
          "feature_43",
          "feature_8",
          "feature_242",
          "feature_206",
          "feature_212",
          "feature_251",
          "feature_245",
          "feature_1",
          "feature_346",
          "feature_349",
          "feature_335",
          "feature_220",
          "feature_105",
          "feature_144",
          "feature_247",
          "feature_26",
          "feature_270",
          "feature_358",
          "feature_261",
          "feature_273",
          "feature_353",
          "feature_347",
          "feature_295",
          "feature_241",
          "feature_125",
          "feature_95",
          "feature_57",
          "feature_200",
          "feature_257",
          "feature_313",
          "feature_83",
          "feature_328",
          "feature_222",
          "feature_72",
          "feature_282",
          "feature_305",
          "feature_198",
          "feature_56",
          "feature_368",
          "feature_356",
          "feature_223",
          "feature_348",
          "feature_196",
          "feature_123",
          "feature_182",
          "feature_351",
          "feature_392",
          "feature_271",
          "feature_219",
          "feature_126",
          "feature_254",
          "feature_260",
          "feature_272",
          "feature_116",
          "feature_155",
          "feature_177",
          "feature_374",
          "feature_112",
          "feature_64",
          "feature_268",
          "feature_37",
          "feature_329",
          "feature_264",
          "feature_3",
          "feature_340",
          "feature_118",
          "feature_309",
          "feature_386",
          "feature_367",
          "feature_86",
          "feature_290",
          "feature_180",
          "feature_99",
          "feature_75",
          "feature_250",
          "feature_296",
          "feature_246",
          "feature_227",
          "feature_172",
          "feature_381",
          "feature_395",
          "feature_265",
          "feature_384",
          "feature_255",
          "feature_342",
          "feature_174",
          "feature_30",
          "feature_40",
          "feature_156",
          "feature_345",
          "feature_142",
          "feature_344",
          "feature_187",
          "feature_59",
          "feature_15",
          "feature_286",
          "feature_176",
          "feature_141",
          "feature_263",
          "feature_394",
          "feature_380",
          "feature_27",
          "feature_201",
          "feature_298",
          "feature_301",
          "feature_397",
          "feature_183",
          "feature_243",
          "feature_166",
          "feature_385",
          "feature_216",
          "feature_143",
          "feature_88",
          "feature_154",
          "feature_365",
          "feature_195",
          "feature_128",
          "feature_369",
          "feature_158",
          "feature_300",
          "feature_302",
          "feature_238",
          "feature_332",
          "feature_51",
          "feature_288",
          "feature_114",
          "feature_7",
          "feature_266",
          "feature_285",
          "feature_292",
          "feature_25",
          "feature_162",
          "feature_325",
          "feature_84"
         ],
         "xaxis": "x",
         "y": [
          0.01456796866715729,
          0.010561853707866886,
          0.010552828669814364,
          0.008442295783196505,
          0.007765572163303021,
          0.007574488627219402,
          0.0067721561661720905,
          0.006708148566280965,
          0.00654588344812626,
          0.005940927231258598,
          0.00578346116835236,
          0.005658797089656308,
          0.005432317261240791,
          0.0053014677058042005,
          0.005166811236896565,
          0.005044401632917775,
          0.004839357133368334,
          0.004467841550982213,
          0.0043966340157986705,
          0.004293096946996213,
          0.004106361170879103,
          0.004103196575494444,
          0.00403309558480586,
          0.004014794867602414,
          0.00399284962434412,
          0.003922173719640058,
          0.003917681583892154,
          0.003892208337765389,
          0.0038424670991762245,
          0.0038299455068253993,
          0.0037901545474579796,
          0.003782398970766346,
          0.003771974883200809,
          0.0037589352659148866,
          0.003741976793086444,
          0.0037083404957311498,
          0.0036863345565940463,
          0.0036706544062483815,
          0.003656413264774157,
          0.003617567651426865,
          0.003540137656302858,
          0.003539890031112132,
          0.003514291404349908,
          0.003501628919684071,
          0.0034930706403987206,
          0.0034611650924260026,
          0.003438827028921972,
          0.0034304683142401377,
          0.003411458017748738,
          0.0033854451509870574,
          0.003372641168005265,
          0.003345877551048987,
          0.0032327424587035845,
          0.0031604548676435426,
          0.003145520559357428,
          0.003144273807473879,
          0.003140509549654506,
          0.00310689582989342,
          0.003106267078814864,
          0.003099276251215379,
          0.0030772709398044712,
          0.0030730256223601552,
          0.0030621955424318973,
          0.0030618466182160673,
          0.0030567442292425886,
          0.00303818353455368,
          0.003036377039626251,
          0.0030067129323523207,
          0.0030039174618095364,
          0.0030006173774957106,
          0.002990128065163678,
          0.0029867105407808646,
          0.002981689068512112,
          0.0029766939990065722,
          0.002965731668407503,
          0.0029524530627986537,
          0.0029392688553659817,
          0.0029348382337355925,
          0.002934730458092822,
          0.0029273948758319302,
          0.0028826466735506436,
          0.002858030264899342,
          0.0028563368592467134,
          0.0028478865896578117,
          0.0028337750118088575,
          0.002819471447273306,
          0.002792106291795395,
          0.002781723706513949,
          0.002776880844716448,
          0.002761771447099457,
          0.0027568187985280604,
          0.002742664860233625,
          0.0027371226591620165,
          0.0027360577097673873,
          0.0027283973124934595,
          0.002726871325632781,
          0.0027116605728913497,
          0.002710307868100214,
          0.0027098525296384156,
          0.0027098295608088373,
          0.0027086259785761855,
          0.0027073968195798497,
          0.0027062801323991113,
          0.0027004032129839006,
          0.0026964608229873154,
          0.0026920247601847948,
          0.0026834443142255853,
          0.0026729415323641513,
          0.0026727376194053275,
          0.002666080527824046,
          0.002662657050517719,
          0.0026408610040191192,
          0.002611790983126635,
          0.0025922265615195175,
          0.002579732891792525,
          0.0025784064026672976,
          0.0025746488573539813,
          0.0025699080097374817,
          0.002562710684196248,
          0.002545009169699054,
          0.0025430383336859596,
          0.002527597267452188,
          0.0025206705899464676,
          0.0025146572162807923,
          0.002508157517189557,
          0.0025046055710372804,
          0.0024973626220667934,
          0.002490481701911502,
          0.0024859232007601443,
          0.002470681403796169,
          0.0024638367228329815,
          0.0024546696157923434,
          0.002445589603860347,
          0.002437299382106158,
          0.0024356774820867284,
          0.002427277985345119,
          0.0024217000144944214,
          0.0024148123769215635,
          0.002409487109518742,
          0.002403745675013791,
          0.002392106488314266,
          0.0023848204196607065,
          0.002383028422814439,
          0.002372720098195288,
          0.002372613677606757,
          0.0023659592383046047,
          0.0023607333063537027,
          0.0023554637176486422,
          0.002351997191396994,
          0.002349937661884785,
          0.0023480220777501817,
          0.0023438496830687936,
          0.0023359475219260684,
          0.0023283518375062586,
          0.0023219701511204786,
          0.002317137798238845,
          0.002314572874117196,
          0.00230607863222575,
          0.002304631839549538,
          0.002303811678159922,
          0.002302575379123523,
          0.0022916700238067252,
          0.0022895234379235354,
          0.0022889110783681733,
          0.0022838585431684223,
          0.002283212467998203,
          0.002278471563093232,
          0.0022775810281191614,
          0.002265399490880054,
          0.002265329130641902,
          0.00226221101926415,
          0.0022607234372581104,
          0.002258442326751733,
          0.0022558922609748353,
          0.0022521055944627337,
          0.0022430129521334038,
          0.0022320101547772865,
          0.002231586321322137,
          0.002230144859157677,
          0.00222662069380553,
          0.0022234525997910063,
          0.0022217950726765223,
          0.002221675371940665,
          0.0022212465655976027,
          0.0022192395128159967,
          0.0022176824096460193,
          0.002207724246589717,
          0.002201546681357351,
          0.0022006249469368154,
          0.002196412212223198,
          0.0021963789430446833,
          0.0021922939171175925,
          0.002188838468251839,
          0.0021838381433151896,
          0.0021779936111381293,
          0.0021729565477412865,
          0.002170528018223413,
          0.0021670258374070534,
          0.0021645845454898744,
          0.002156282694928802,
          0.0021513376595279736,
          0.0021510170148548516,
          0.0021491885347611544,
          0.0021487335576342716,
          0.002148231502965201,
          0.002147050139464639,
          0.0021458307900412985,
          0.0021377449923231564,
          0.002131078561206707,
          0.0021241671715735272,
          0.0021230630311568303,
          0.0021225432375312535,
          0.002121975028941583,
          0.002120943657283969,
          0.002117849677596945,
          0.0021142973609996557,
          0.0021139859860595574,
          0.0021075014340404593,
          0.0021050804609304835,
          0.0021000952720966323,
          0.0020993332964143793,
          0.002096838614096111,
          0.002090446432441448,
          0.0020879195124241788,
          0.0020841199731257555,
          0.002083839709632036,
          0.00208309402218843,
          0.0020805262895086944,
          0.002073602890417035,
          0.0020692181672476557,
          0.0020642029333682466,
          0.002063450466799312,
          0.0020591260065571495,
          0.00205136465932762,
          0.0020485819796683216,
          0.0020481849554383463,
          0.00204732341081734,
          0.0020439500297750606,
          0.0020437197897035142,
          0.0020403037104203127,
          0.002039662716306224,
          0.0020372610619130587,
          0.002027949705742488,
          0.0020177669949984706,
          0.002016263465056752,
          0.0020133063090689413,
          0.0020017256886603616,
          0.002001027202406077,
          0.0020008582477803174,
          0.001998278553804641,
          0.001989953530103365,
          0.0019802115985879452,
          0.0019787415347303945,
          0.0019762264561103545,
          0.001973900843233109,
          0.001972823397781079,
          0.001966515770227836,
          0.0019660170764844373,
          0.00196275439151209,
          0.0019586899341377043,
          0.001955492305547759,
          0.001952690823495168,
          0.0019521601753102178,
          0.0019452422465306319,
          0.0019410482758872528,
          0.0019378746805749961,
          0.001930425346372463,
          0.0019257493394775201,
          0.0019204441262529208,
          0.0019185756083372333,
          0.0019132902610323977,
          0.001912533339190165,
          0.0019121042643255133,
          0.0019107338102180107,
          0.0019061770391556895,
          0.0019010046586701176,
          0.0019000242145489846,
          0.0018957530818199272,
          0.0018954989297375322,
          0.001884296053245033,
          0.001883032920589845,
          0.0018816511554880027,
          0.0018774085118977608,
          0.0018758133550233222,
          0.0018686434566513052,
          0.0018680930079394231,
          0.0018644883827875507,
          0.0018620987890328234,
          0.0018609790140357747,
          0.0018591180542243525,
          0.0018526219888833461,
          0.0018487394831446307,
          0.0018421882432533248,
          0.0018408144116424348,
          0.001834431957931126,
          0.0018336846200881927,
          0.0018333592388357876,
          0.0018332166631625714,
          0.0018325617090790933,
          0.001832375123740796,
          0.0018287777821290468,
          0.0018184536594063215,
          0.0018115626352890688,
          0.0018079492894343245,
          0.001806463451671814,
          0.0018001070022023297,
          0.0017967183187330737,
          0.001792447485818258,
          0.0017923620458386554,
          0.0017922149898452642,
          0.0017909340521357114,
          0.0017901173673547262,
          0.001777578027826207,
          0.0017743550007998177,
          0.0017718789499318697,
          0.0017707728752466736,
          0.0017686312604485613,
          0.0017653815388077242,
          0.0017628501532175695,
          0.001761511013604016,
          0.0017611112749722306,
          0.0017590129304181357,
          0.001753715616607248,
          0.001748763440072773,
          0.0017482301394578157,
          0.0017480548708336619,
          0.0017424248596371033,
          0.0017403690965784632,
          0.0017391201175286177,
          0.0017364508386326159,
          0.0017323229666475657,
          0.0017308475228548289,
          0.0017289781480972438,
          0.0017262951827794817,
          0.00172206184073687,
          0.001721684100084834,
          0.0017200580181614441,
          0.0017186371751464894,
          0.001713260094738896,
          0.0017126489810817714,
          0.0017114059318060206,
          0.001709645466578349,
          0.001708433822161896,
          0.0017022839981302147,
          0.001699521047115205,
          0.0016961497827692844,
          0.001694637602973979,
          0.00169457088756694,
          0.0016915781068017517,
          0.0016870119846706202,
          0.0016867757185080013,
          0.0016833307875867476,
          0.0016829968701834116,
          0.001682073212917208,
          0.001681237144025926,
          0.0016807759331334121,
          0.001679819663427231,
          0.0016781030423879259,
          0.0016770672172302975,
          0.0016756132538415234,
          0.0016713410280202719,
          0.0016688280849782274,
          0.0016657968584333467,
          0.0016641727171281722,
          0.001656689722396991,
          0.0016553026364775933,
          0.0016537557235357454,
          0.0016533797992647334,
          0.0016468558356979174,
          0.0016436554930902042,
          0.0016372345608923105,
          0.0016352608349560487,
          0.001635006996113139,
          0.0016293386120073037,
          0.0016231849836358615,
          0.0016230955807373534,
          0.0016169225316673488,
          0.0016024070490068536,
          0.001595804104581828,
          0.0015921438845660422,
          0.0015920354704447293,
          0.0015871676782905871,
          0.0015861882004315892,
          0.0015830193550977361,
          0.0015763986728818018,
          0.0015719381165671992,
          0.0015688379494880173,
          0.0015655766189642151,
          0.0015489096549503281,
          0.00154540941357021,
          0.0015441472589447533,
          0.0015385792027566411,
          0.0015381565881894077,
          0.001534038633445992,
          0.0015301608575605731,
          0.0015288529967411204,
          0.001507526431803828,
          0.0014138882584673767,
          0.0013926129800711966,
          0.0013608053015632367
         ],
         "yaxis": "y"
        }
       ],
       "layout": {
        "barmode": "relative",
        "height": 800,
        "legend": {
         "tracegroupgap": 0
        },
        "template": {
         "data": {
          "bar": [
           {
            "error_x": {
             "color": "#2a3f5f"
            },
            "error_y": {
             "color": "#2a3f5f"
            },
            "marker": {
             "line": {
              "color": "#E5ECF6",
              "width": 0.5
             },
             "pattern": {
              "fillmode": "overlay",
              "size": 10,
              "solidity": 0.2
             }
            },
            "type": "bar"
           }
          ],
          "barpolar": [
           {
            "marker": {
             "line": {
              "color": "#E5ECF6",
              "width": 0.5
             },
             "pattern": {
              "fillmode": "overlay",
              "size": 10,
              "solidity": 0.2
             }
            },
            "type": "barpolar"
           }
          ],
          "carpet": [
           {
            "aaxis": {
             "endlinecolor": "#2a3f5f",
             "gridcolor": "white",
             "linecolor": "white",
             "minorgridcolor": "white",
             "startlinecolor": "#2a3f5f"
            },
            "baxis": {
             "endlinecolor": "#2a3f5f",
             "gridcolor": "white",
             "linecolor": "white",
             "minorgridcolor": "white",
             "startlinecolor": "#2a3f5f"
            },
            "type": "carpet"
           }
          ],
          "choropleth": [
           {
            "colorbar": {
             "outlinewidth": 0,
             "ticks": ""
            },
            "type": "choropleth"
           }
          ],
          "contour": [
           {
            "colorbar": {
             "outlinewidth": 0,
             "ticks": ""
            },
            "colorscale": [
             [
              0,
              "#0d0887"
             ],
             [
              0.1111111111111111,
              "#46039f"
             ],
             [
              0.2222222222222222,
              "#7201a8"
             ],
             [
              0.3333333333333333,
              "#9c179e"
             ],
             [
              0.4444444444444444,
              "#bd3786"
             ],
             [
              0.5555555555555556,
              "#d8576b"
             ],
             [
              0.6666666666666666,
              "#ed7953"
             ],
             [
              0.7777777777777778,
              "#fb9f3a"
             ],
             [
              0.8888888888888888,
              "#fdca26"
             ],
             [
              1,
              "#f0f921"
             ]
            ],
            "type": "contour"
           }
          ],
          "contourcarpet": [
           {
            "colorbar": {
             "outlinewidth": 0,
             "ticks": ""
            },
            "type": "contourcarpet"
           }
          ],
          "heatmap": [
           {
            "colorbar": {
             "outlinewidth": 0,
             "ticks": ""
            },
            "colorscale": [
             [
              0,
              "#0d0887"
             ],
             [
              0.1111111111111111,
              "#46039f"
             ],
             [
              0.2222222222222222,
              "#7201a8"
             ],
             [
              0.3333333333333333,
              "#9c179e"
             ],
             [
              0.4444444444444444,
              "#bd3786"
             ],
             [
              0.5555555555555556,
              "#d8576b"
             ],
             [
              0.6666666666666666,
              "#ed7953"
             ],
             [
              0.7777777777777778,
              "#fb9f3a"
             ],
             [
              0.8888888888888888,
              "#fdca26"
             ],
             [
              1,
              "#f0f921"
             ]
            ],
            "type": "heatmap"
           }
          ],
          "heatmapgl": [
           {
            "colorbar": {
             "outlinewidth": 0,
             "ticks": ""
            },
            "colorscale": [
             [
              0,
              "#0d0887"
             ],
             [
              0.1111111111111111,
              "#46039f"
             ],
             [
              0.2222222222222222,
              "#7201a8"
             ],
             [
              0.3333333333333333,
              "#9c179e"
             ],
             [
              0.4444444444444444,
              "#bd3786"
             ],
             [
              0.5555555555555556,
              "#d8576b"
             ],
             [
              0.6666666666666666,
              "#ed7953"
             ],
             [
              0.7777777777777778,
              "#fb9f3a"
             ],
             [
              0.8888888888888888,
              "#fdca26"
             ],
             [
              1,
              "#f0f921"
             ]
            ],
            "type": "heatmapgl"
           }
          ],
          "histogram": [
           {
            "marker": {
             "pattern": {
              "fillmode": "overlay",
              "size": 10,
              "solidity": 0.2
             }
            },
            "type": "histogram"
           }
          ],
          "histogram2d": [
           {
            "colorbar": {
             "outlinewidth": 0,
             "ticks": ""
            },
            "colorscale": [
             [
              0,
              "#0d0887"
             ],
             [
              0.1111111111111111,
              "#46039f"
             ],
             [
              0.2222222222222222,
              "#7201a8"
             ],
             [
              0.3333333333333333,
              "#9c179e"
             ],
             [
              0.4444444444444444,
              "#bd3786"
             ],
             [
              0.5555555555555556,
              "#d8576b"
             ],
             [
              0.6666666666666666,
              "#ed7953"
             ],
             [
              0.7777777777777778,
              "#fb9f3a"
             ],
             [
              0.8888888888888888,
              "#fdca26"
             ],
             [
              1,
              "#f0f921"
             ]
            ],
            "type": "histogram2d"
           }
          ],
          "histogram2dcontour": [
           {
            "colorbar": {
             "outlinewidth": 0,
             "ticks": ""
            },
            "colorscale": [
             [
              0,
              "#0d0887"
             ],
             [
              0.1111111111111111,
              "#46039f"
             ],
             [
              0.2222222222222222,
              "#7201a8"
             ],
             [
              0.3333333333333333,
              "#9c179e"
             ],
             [
              0.4444444444444444,
              "#bd3786"
             ],
             [
              0.5555555555555556,
              "#d8576b"
             ],
             [
              0.6666666666666666,
              "#ed7953"
             ],
             [
              0.7777777777777778,
              "#fb9f3a"
             ],
             [
              0.8888888888888888,
              "#fdca26"
             ],
             [
              1,
              "#f0f921"
             ]
            ],
            "type": "histogram2dcontour"
           }
          ],
          "mesh3d": [
           {
            "colorbar": {
             "outlinewidth": 0,
             "ticks": ""
            },
            "type": "mesh3d"
           }
          ],
          "parcoords": [
           {
            "line": {
             "colorbar": {
              "outlinewidth": 0,
              "ticks": ""
             }
            },
            "type": "parcoords"
           }
          ],
          "pie": [
           {
            "automargin": true,
            "type": "pie"
           }
          ],
          "scatter": [
           {
            "fillpattern": {
             "fillmode": "overlay",
             "size": 10,
             "solidity": 0.2
            },
            "type": "scatter"
           }
          ],
          "scatter3d": [
           {
            "line": {
             "colorbar": {
              "outlinewidth": 0,
              "ticks": ""
             }
            },
            "marker": {
             "colorbar": {
              "outlinewidth": 0,
              "ticks": ""
             }
            },
            "type": "scatter3d"
           }
          ],
          "scattercarpet": [
           {
            "marker": {
             "colorbar": {
              "outlinewidth": 0,
              "ticks": ""
             }
            },
            "type": "scattercarpet"
           }
          ],
          "scattergeo": [
           {
            "marker": {
             "colorbar": {
              "outlinewidth": 0,
              "ticks": ""
             }
            },
            "type": "scattergeo"
           }
          ],
          "scattergl": [
           {
            "marker": {
             "colorbar": {
              "outlinewidth": 0,
              "ticks": ""
             }
            },
            "type": "scattergl"
           }
          ],
          "scattermapbox": [
           {
            "marker": {
             "colorbar": {
              "outlinewidth": 0,
              "ticks": ""
             }
            },
            "type": "scattermapbox"
           }
          ],
          "scatterpolar": [
           {
            "marker": {
             "colorbar": {
              "outlinewidth": 0,
              "ticks": ""
             }
            },
            "type": "scatterpolar"
           }
          ],
          "scatterpolargl": [
           {
            "marker": {
             "colorbar": {
              "outlinewidth": 0,
              "ticks": ""
             }
            },
            "type": "scatterpolargl"
           }
          ],
          "scatterternary": [
           {
            "marker": {
             "colorbar": {
              "outlinewidth": 0,
              "ticks": ""
             }
            },
            "type": "scatterternary"
           }
          ],
          "surface": [
           {
            "colorbar": {
             "outlinewidth": 0,
             "ticks": ""
            },
            "colorscale": [
             [
              0,
              "#0d0887"
             ],
             [
              0.1111111111111111,
              "#46039f"
             ],
             [
              0.2222222222222222,
              "#7201a8"
             ],
             [
              0.3333333333333333,
              "#9c179e"
             ],
             [
              0.4444444444444444,
              "#bd3786"
             ],
             [
              0.5555555555555556,
              "#d8576b"
             ],
             [
              0.6666666666666666,
              "#ed7953"
             ],
             [
              0.7777777777777778,
              "#fb9f3a"
             ],
             [
              0.8888888888888888,
              "#fdca26"
             ],
             [
              1,
              "#f0f921"
             ]
            ],
            "type": "surface"
           }
          ],
          "table": [
           {
            "cells": {
             "fill": {
              "color": "#EBF0F8"
             },
             "line": {
              "color": "white"
             }
            },
            "header": {
             "fill": {
              "color": "#C8D4E3"
             },
             "line": {
              "color": "white"
             }
            },
            "type": "table"
           }
          ]
         },
         "layout": {
          "annotationdefaults": {
           "arrowcolor": "#2a3f5f",
           "arrowhead": 0,
           "arrowwidth": 1
          },
          "autotypenumbers": "strict",
          "coloraxis": {
           "colorbar": {
            "outlinewidth": 0,
            "ticks": ""
           }
          },
          "colorscale": {
           "diverging": [
            [
             0,
             "#8e0152"
            ],
            [
             0.1,
             "#c51b7d"
            ],
            [
             0.2,
             "#de77ae"
            ],
            [
             0.3,
             "#f1b6da"
            ],
            [
             0.4,
             "#fde0ef"
            ],
            [
             0.5,
             "#f7f7f7"
            ],
            [
             0.6,
             "#e6f5d0"
            ],
            [
             0.7,
             "#b8e186"
            ],
            [
             0.8,
             "#7fbc41"
            ],
            [
             0.9,
             "#4d9221"
            ],
            [
             1,
             "#276419"
            ]
           ],
           "sequential": [
            [
             0,
             "#0d0887"
            ],
            [
             0.1111111111111111,
             "#46039f"
            ],
            [
             0.2222222222222222,
             "#7201a8"
            ],
            [
             0.3333333333333333,
             "#9c179e"
            ],
            [
             0.4444444444444444,
             "#bd3786"
            ],
            [
             0.5555555555555556,
             "#d8576b"
            ],
            [
             0.6666666666666666,
             "#ed7953"
            ],
            [
             0.7777777777777778,
             "#fb9f3a"
            ],
            [
             0.8888888888888888,
             "#fdca26"
            ],
            [
             1,
             "#f0f921"
            ]
           ],
           "sequentialminus": [
            [
             0,
             "#0d0887"
            ],
            [
             0.1111111111111111,
             "#46039f"
            ],
            [
             0.2222222222222222,
             "#7201a8"
            ],
            [
             0.3333333333333333,
             "#9c179e"
            ],
            [
             0.4444444444444444,
             "#bd3786"
            ],
            [
             0.5555555555555556,
             "#d8576b"
            ],
            [
             0.6666666666666666,
             "#ed7953"
            ],
            [
             0.7777777777777778,
             "#fb9f3a"
            ],
            [
             0.8888888888888888,
             "#fdca26"
            ],
            [
             1,
             "#f0f921"
            ]
           ]
          },
          "colorway": [
           "#636efa",
           "#EF553B",
           "#00cc96",
           "#ab63fa",
           "#FFA15A",
           "#19d3f3",
           "#FF6692",
           "#B6E880",
           "#FF97FF",
           "#FECB52"
          ],
          "font": {
           "color": "#2a3f5f"
          },
          "geo": {
           "bgcolor": "white",
           "lakecolor": "white",
           "landcolor": "#E5ECF6",
           "showlakes": true,
           "showland": true,
           "subunitcolor": "white"
          },
          "hoverlabel": {
           "align": "left"
          },
          "hovermode": "closest",
          "mapbox": {
           "style": "light"
          },
          "paper_bgcolor": "white",
          "plot_bgcolor": "#E5ECF6",
          "polar": {
           "angularaxis": {
            "gridcolor": "white",
            "linecolor": "white",
            "ticks": ""
           },
           "bgcolor": "#E5ECF6",
           "radialaxis": {
            "gridcolor": "white",
            "linecolor": "white",
            "ticks": ""
           }
          },
          "scene": {
           "xaxis": {
            "backgroundcolor": "#E5ECF6",
            "gridcolor": "white",
            "gridwidth": 2,
            "linecolor": "white",
            "showbackground": true,
            "ticks": "",
            "zerolinecolor": "white"
           },
           "yaxis": {
            "backgroundcolor": "#E5ECF6",
            "gridcolor": "white",
            "gridwidth": 2,
            "linecolor": "white",
            "showbackground": true,
            "ticks": "",
            "zerolinecolor": "white"
           },
           "zaxis": {
            "backgroundcolor": "#E5ECF6",
            "gridcolor": "white",
            "gridwidth": 2,
            "linecolor": "white",
            "showbackground": true,
            "ticks": "",
            "zerolinecolor": "white"
           }
          },
          "shapedefaults": {
           "line": {
            "color": "#2a3f5f"
           }
          },
          "ternary": {
           "aaxis": {
            "gridcolor": "white",
            "linecolor": "white",
            "ticks": ""
           },
           "baxis": {
            "gridcolor": "white",
            "linecolor": "white",
            "ticks": ""
           },
           "bgcolor": "#E5ECF6",
           "caxis": {
            "gridcolor": "white",
            "linecolor": "white",
            "ticks": ""
           }
          },
          "title": {
           "x": 0.05
          },
          "xaxis": {
           "automargin": true,
           "gridcolor": "white",
           "linecolor": "white",
           "ticks": "",
           "title": {
            "standoff": 15
           },
           "zerolinecolor": "white",
           "zerolinewidth": 2
          },
          "yaxis": {
           "automargin": true,
           "gridcolor": "white",
           "linecolor": "white",
           "ticks": "",
           "title": {
            "standoff": 15
           },
           "zerolinecolor": "white",
           "zerolinewidth": 2
          }
         }
        },
        "title": {
         "text": "Feature Importances"
        },
        "width": 1200,
        "xaxis": {
         "anchor": "y",
         "domain": [
          0,
          1
         ],
         "title": {
          "text": "Feature"
         }
        },
        "yaxis": {
         "anchor": "x",
         "domain": [
          0,
          1
         ],
         "title": {
          "text": "Importance"
         }
        }
       }
      }
     },
     "metadata": {},
     "output_type": "display_data"
    }
   ],
   "source": [
    "import plotly.express as px\n",
    "feature_importance = rf.feature_importances_\n",
    "importance_df = pd.DataFrame({'feature': X_train.columns, 'importance': feature_importance})\n",
    "importance_df = importance_df.sort_values('importance', ascending=False)\n",
    "fig = px.bar(importance_df, x='feature', y='importance', title='Feature Importances', labels={'importance': 'Importance', 'feature': 'Feature'}, width=1200, height=800)\n",
    "fig.show()"
   ]
  },
  {
   "cell_type": "markdown",
   "metadata": {},
   "source": [
    "Top 9 feature important in Sift-bow in Df2"
   ]
  },
  {
   "cell_type": "code",
   "execution_count": 8,
   "metadata": {},
   "outputs": [
    {
     "name": "stdout",
     "output_type": "stream",
     "text": [
      "Number of important features: 9\n"
     ]
    }
   ],
   "source": [
    "threshold = 0.006\n",
    "important_features = importance_df[importance_df['importance'] > threshold]['feature'].tolist()\n",
    " \n",
    "print(f\"Number of important features: {len(important_features)}\")\n",
    "# important_features.append(\"label\")\n",
    "# filtered_data = df2[important_features]"
   ]
  },
  {
   "cell_type": "code",
   "execution_count": 9,
   "metadata": {},
   "outputs": [],
   "source": [
    "threshold = 0.006\n",
    "important_features = importance_df[importance_df['importance'] > threshold]['feature'].tolist()\n",
    "important_df = df2[important_features]"
   ]
  },
  {
   "cell_type": "code",
   "execution_count": 10,
   "metadata": {},
   "outputs": [
    {
     "name": "stdout",
     "output_type": "stream",
     "text": [
      "                                              image_path  \\\n",
      "0      ./Plant_leave_diseases_dataset_without_augment...   \n",
      "1      ./Plant_leave_diseases_dataset_without_augment...   \n",
      "2      ./Plant_leave_diseases_dataset_without_augment...   \n",
      "3      ./Plant_leave_diseases_dataset_without_augment...   \n",
      "4      ./Plant_leave_diseases_dataset_without_augment...   \n",
      "...                                                  ...   \n",
      "55443  ./Plant_leave_diseases_dataset_without_augment...   \n",
      "55444  ./Plant_leave_diseases_dataset_without_augment...   \n",
      "55445  ./Plant_leave_diseases_dataset_without_augment...   \n",
      "55446  ./Plant_leave_diseases_dataset_without_augment...   \n",
      "55447  ./Plant_leave_diseases_dataset_without_augment...   \n",
      "\n",
      "                                        label      mean_H     mean_S  \\\n",
      "0                          Apple___Apple_scab   74.092346  91.905457   \n",
      "1                          Apple___Apple_scab   79.182404  81.935562   \n",
      "2                          Apple___Apple_scab   69.492859  87.851364   \n",
      "3                          Apple___Apple_scab   84.509872  90.920059   \n",
      "4                          Apple___Apple_scab   96.732620  71.022125   \n",
      "...                                       ...         ...        ...   \n",
      "55443  Tomato___Tomato_Yellow_Leaf_Curl_Virus   49.475769  85.434464   \n",
      "55444  Tomato___Tomato_Yellow_Leaf_Curl_Virus  110.168991  62.270248   \n",
      "55445  Tomato___Tomato_Yellow_Leaf_Curl_Virus   45.882721  80.640717   \n",
      "55446  Tomato___Tomato_Yellow_Leaf_Curl_Virus   29.211945  73.980362   \n",
      "55447  Tomato___Tomato_Yellow_Leaf_Curl_Virus  103.311127  66.929825   \n",
      "\n",
      "           mean_V      std_H      std_S      std_V     H_sqrt    S_sqrt  ...  \\\n",
      "0      137.217667  61.114806  65.477788  19.793987   8.607691  9.586733  ...   \n",
      "1      123.372803  33.605701  46.302034  46.770438   8.898450  9.051826  ...   \n",
      "2      144.373978  37.748855  43.808006  33.855823   8.336238  9.372906  ...   \n",
      "3       90.358536  22.866967  30.043161  31.579684   9.192925  9.535201  ...   \n",
      "4      134.278290  38.115114  30.186687  29.183758   9.835274  8.427463  ...   \n",
      "...           ...        ...        ...        ...        ...       ...  ...   \n",
      "55443  132.304245  29.242890  76.536635  22.486484   7.033901  9.243077  ...   \n",
      "55444  116.367844  60.653463  64.082044  30.120701  10.496142  7.891150  ...   \n",
      "55445  147.917068  21.319296  89.277084  26.717637   6.773679  8.980018  ...   \n",
      "55446  122.486725  21.422002  42.289130  48.780884   5.404808  8.601184  ...   \n",
      "55447  113.419357  50.003466  67.443832  29.908632  10.164208  8.181065  ...   \n",
      "\n",
      "            std  feature_181  feature_103  feature_71  feature_334  \\\n",
      "0      0.756298    -0.594504    -0.702980   -0.658855    -0.742740   \n",
      "1      1.243932    -0.594504     1.507263    1.672489    -0.257036   \n",
      "2      0.834568     0.425434    -0.702980   -0.658855    -0.742740   \n",
      "3      0.770695    -0.084535    -0.702980   -0.658855    -0.742740   \n",
      "4      0.627300     0.425434    -0.702980   -0.658855    -0.742740   \n",
      "...         ...          ...          ...         ...          ...   \n",
      "55443       NaN          NaN          NaN         NaN          NaN   \n",
      "55444       NaN          NaN          NaN         NaN          NaN   \n",
      "55445       NaN          NaN          NaN         NaN          NaN   \n",
      "55446       NaN          NaN          NaN         NaN          NaN   \n",
      "55447       NaN          NaN          NaN         NaN          NaN   \n",
      "\n",
      "       feature_42  feature_175  feature_50  feature_31  feature_336  \n",
      "0         -0.5981    -0.510095   -0.769172   -0.361348    -0.700988  \n",
      "1         -0.5981    -0.510095    0.716695    0.492634     0.997560  \n",
      "2         -0.5981    -0.510095   -0.769172    0.492634    -0.700988  \n",
      "3         -0.5981    -0.510095   -0.769172    0.919625    -0.276351  \n",
      "4         -0.5981     0.029171   -0.273883    0.492634    -0.700988  \n",
      "...           ...          ...         ...         ...          ...  \n",
      "55443         NaN          NaN         NaN         NaN          NaN  \n",
      "55444         NaN          NaN         NaN         NaN          NaN  \n",
      "55445         NaN          NaN         NaN         NaN          NaN  \n",
      "55446         NaN          NaN         NaN         NaN          NaN  \n",
      "55447         NaN          NaN         NaN         NaN          NaN  \n",
      "\n",
      "[55448 rows x 322 columns]\n"
     ]
    }
   ],
   "source": [
    "df2_mean = df2.mean(axis=1)\n",
    "df2_std = df2.std(axis=1)\n",
    "df['mean'] = df2_mean\n",
    "df['std'] = df2_std\n",
    "for feature in important_features:\n",
    "    if feature in df2.columns:\n",
    "        df[feature] = df2[feature]\n",
    "print(df)"
   ]
  },
  {
   "cell_type": "markdown",
   "metadata": {},
   "source": [
    "# PreProcessing DF"
   ]
  },
  {
   "cell_type": "code",
   "execution_count": null,
   "metadata": {},
   "outputs": [],
   "source": [
    "df = df.drop(columns = [\"image_path\"])"
   ]
  },
  {
   "cell_type": "code",
   "execution_count": 7,
   "metadata": {},
   "outputs": [],
   "source": [
    "columns_to_scale = [col for col in df.columns if col != 'label']\n",
    "scaler = StandardScaler()\n",
    "df[columns_to_scale] = scaler.fit_transform(df[columns_to_scale])\n",
    "label = LabelEncoder()\n",
    "df['label'] = label.fit_transform(df['label'])\n"
   ]
  },
  {
   "cell_type": "code",
   "execution_count": null,
   "metadata": {},
   "outputs": [],
   "source": [
    "# mean_values = df.mean()\n",
    "# columns_to_drop = mean_values[mean_values == 0].index\n",
    "# df = df.drop(columns=columns_to_drop)"
   ]
  },
  {
   "cell_type": "code",
   "execution_count": 13,
   "metadata": {},
   "outputs": [],
   "source": [
    "# df.isna().sum()\n",
    "df.fillna(df.mean(), inplace= True)"
   ]
  },
  {
   "cell_type": "code",
   "execution_count": 14,
   "metadata": {},
   "outputs": [],
   "source": [
    "#save to csv file\n",
    "df.to_csv(\"main_features+sift-bow.csv\", index = False)"
   ]
  },
  {
   "cell_type": "markdown",
   "metadata": {},
   "source": [
    "# Training Main features merge with Sift Bow"
   ]
  },
  {
   "cell_type": "code",
   "execution_count": 3,
   "metadata": {},
   "outputs": [],
   "source": [
    "df = pd.read_csv(\"main_features+sift-bow.csv\")"
   ]
  },
  {
   "cell_type": "code",
   "execution_count": 8,
   "metadata": {},
   "outputs": [
    {
     "name": "stdout",
     "output_type": "stream",
     "text": [
      "Accuracy: 0.9797\n",
      "Precision: 0.9797\n",
      "Recall: 0.9797\n",
      "F1-score: 0.9797\n",
      "Confusion Matrix:\n",
      "[[ 177    2    0 ...    0    0    0]\n",
      " [   3  190    0 ...    0    0    0]\n",
      " [   1    0   80 ...    0    0    0]\n",
      " ...\n",
      " [   0    0    0 ... 1583    0    0]\n",
      " [   0    0    0 ...    0  106    0]\n",
      " [   0    0    0 ...    0    0  486]]\n"
     ]
    }
   ],
   "source": [
    "from sklearn.svm import SVC\n",
    "from sklearn.model_selection import train_test_split\n",
    "from sklearn.metrics import accuracy_score, precision_score, recall_score, f1_score, confusion_matrix\n",
    "\n",
    "train_data, test_data = train_test_split(df, test_size=0.3, random_state=42)\n",
    "X_train = train_data.drop(columns=[\"label\"])\n",
    "y_train = train_data[\"label\"]\n",
    "X_test = test_data.drop(columns=[\"label\"])\n",
    "y_test = test_data[\"label\"]\n",
    "svm = SVC(C=100, gamma='scale', kernel='rbf', random_state=42)\n",
    "svm.fit(X_train, y_train)\n",
    "y_pred = svm.predict(X_test)\n",
    "accuracy = accuracy_score(y_test, y_pred)\n",
    "precision = precision_score(y_test, y_pred, average='weighted') \n",
    "recall = recall_score(y_test, y_pred, average='weighted') \n",
    "f1 = f1_score(y_test, y_pred, average='weighted')\n",
    "conf_matrix = confusion_matrix(y_test, y_pred)\n",
    "print(f\"Accuracy: {accuracy:.4f}\")\n",
    "print(f\"Precision: {precision:.4f}\")\n",
    "print(f\"Recall: {recall:.4f}\")\n",
    "print(f\"F1-score: {f1:.4f}\")\n",
    "print(\"Confusion Matrix:\")\n",
    "print(conf_matrix) #9797"
   ]
  },
  {
   "cell_type": "code",
   "execution_count": 9,
   "metadata": {},
   "outputs": [
    {
     "data": {
      "text/plain": [
       "(38813, 320)"
      ]
     },
     "execution_count": 9,
     "metadata": {},
     "output_type": "execute_result"
    }
   ],
   "source": [
    "X_train.shape"
   ]
  },
  {
   "cell_type": "code",
   "execution_count": 10,
   "metadata": {},
   "outputs": [
    {
     "name": "stdout",
     "output_type": "stream",
     "text": [
      "Average Accuracy: 0.9565\n",
      "Average Precision: 0.9570\n",
      "Average Recall: 0.9565\n",
      "Average F1-score: 0.9554\n"
     ]
    }
   ],
   "source": [
    "from sklearn.ensemble import RandomForestClassifier\n",
    "from sklearn.model_selection import train_test_split\n",
    "from sklearn.metrics import accuracy_score, precision_score, recall_score, f1_score, confusion_matrix\n",
    "import numpy as np\n",
    "n_loops = 3\n",
    "accuracies = []\n",
    "precisions = []\n",
    "recalls = []\n",
    "f1_scores = []\n",
    "for i in range(n_loops):\n",
    "    train_data, test_data = train_test_split(df, test_size=0.3, random_state=42 + i)\n",
    "    X_train = train_data.drop(columns=[\"label\"])\n",
    "    y_train = train_data[\"label\"]\n",
    "    X_test = test_data.drop(columns=[\"label\"])\n",
    "    y_test = test_data[\"label\"]\n",
    "\n",
    "    rf = RandomForestClassifier(\n",
    "        n_estimators=500,     \n",
    "        max_depth=None,     \n",
    "        min_samples_split=2,  \n",
    "        min_samples_leaf=1,  \n",
    "        max_features='sqrt', \n",
    "        bootstrap=True,   \n",
    "        random_state=42 + i,\n",
    "        oob_score=True,\n",
    "        n_jobs=-1\n",
    "    )\n",
    "\n",
    "    rf.fit(X_train, y_train)\n",
    "    y_pred = rf.predict(X_test)\n",
    "\n",
    "    accuracies.append(accuracy_score(y_test, y_pred))\n",
    "    precisions.append(precision_score(y_test, y_pred, average='weighted'))\n",
    "    recalls.append(recall_score(y_test, y_pred, average='weighted'))\n",
    "    f1_scores.append(f1_score(y_test, y_pred, average='weighted'))\n",
    "\n",
    "# Tính giá trị trung bình cho mỗi chỉ số\n",
    "avg_accuracy = np.mean(accuracies)\n",
    "avg_precision = np.mean(precisions)\n",
    "avg_recall = np.mean(recalls)\n",
    "avg_f1 = np.mean(f1_scores)\n",
    "\n",
    "print(f\"Average Accuracy: {avg_accuracy:.4f}\")\n",
    "print(f\"Average Precision: {avg_precision:.4f}\")\n",
    "print(f\"Average Recall: {avg_recall:.4f}\")\n",
    "print(f\"Average F1-score: {avg_f1:.4f}\")\n",
    "#9565"
   ]
  },
  {
   "cell_type": "code",
   "execution_count": 11,
   "metadata": {},
   "outputs": [
    {
     "data": {
      "application/vnd.plotly.v1+json": {
       "config": {
        "plotlyServerURL": "https://plot.ly"
       },
       "data": [
        {
         "alignmentgroup": "True",
         "hovertemplate": "Feature=%{x}<br>Importance=%{y}<extra></extra>",
         "legendgroup": "",
         "marker": {
          "color": "#636efa",
          "pattern": {
           "shape": ""
          }
         },
         "name": "",
         "offsetgroup": "",
         "orientation": "v",
         "showlegend": false,
         "textposition": "auto",
         "type": "bar",
         "x": [
          "std",
          "mean",
          "std_v",
          "hist_hue5",
          "solidity",
          "feature_181",
          "hist_hue2",
          "hist_hue10",
          "H_sqrt",
          "mean_H",
          "std_U",
          "harris_formula_sum",
          "hist_hue11",
          "std_a",
          "a_sqrt",
          "std_H",
          "correlation",
          "corner_area_mean",
          "hist_hue3",
          "hist_hue6",
          "hist_hue4",
          "brightness_hsv",
          "lbp_std",
          "mean_a",
          "entropy",
          "hist_saturation2",
          "std_b",
          "hist_hue45",
          "NRI",
          "hist_hue1",
          "roberts_std",
          "NHI",
          "hist_hue9",
          "hist_hue7",
          "sobel_std",
          "log_std",
          "hist_saturation3",
          "contrast",
          "std_B",
          "gabor_std1",
          "S_sqrt",
          "fft_mean",
          "sobel_mean",
          "R_sqrt",
          "NGI",
          "hist_saturation4",
          "NSI",
          "hist_value1",
          "hist_hue43",
          "hist_hue8",
          "mean_R",
          "v_sqrt",
          "hist_saturation1",
          "std_R",
          "hist_value2",
          "NBI",
          "mean_v",
          "roberts_mean",
          "NvI",
          "entropy_std",
          "hist_hue44",
          "b_sqrt",
          "mean_b",
          "energy",
          "hist_hue39",
          "hist_hue32",
          "NaI",
          "mean_S",
          "mean_U",
          "feature_71",
          "hist_hue28",
          "hist_hue40",
          "U_sqrt",
          "hist_saturation5",
          "hist_hue35",
          "hist_hue41",
          "NbI",
          "wavelet_std",
          "hist_hue12",
          "hist_hue37",
          "hist_hue16",
          "hist_hue31",
          "hist_saturation22",
          "hist_hue29",
          "hist_hue34",
          "hist_saturation44",
          "hist_hue26",
          "hist_saturation64",
          "hist_saturation46",
          "hist_hue18",
          "hist_value52",
          "hist_hue14",
          "hist_hue38",
          "hist_hue33",
          "hist_saturation43",
          "std_Y",
          "hist_value51",
          "hist_saturation23",
          "hist_saturation21",
          "hist_saturation45",
          "entropy_mean",
          "hist_value4",
          "std_S",
          "hist_hue17",
          "std_intensity",
          "hist_hue27",
          "hist_value3",
          "hist_saturation20",
          "hist_hue42",
          "hist_hue15",
          "hist_value49",
          "hist_hue36",
          "feature_103",
          "homogeneity",
          "hist_value54",
          "hist_value50",
          "hist_hue25",
          "hist_saturation19",
          "std_G",
          "hist_hue13",
          "hist_saturation41",
          "hist_value48",
          "hist_value53",
          "hist_saturation17",
          "hist_saturation48",
          "hist_saturation42",
          "hist_hue19",
          "hist_saturation15",
          "hist_saturation18",
          "hist_saturation16",
          "hist_saturation24",
          "hist_value5",
          "std_L",
          "hist_saturation49",
          "hist_saturation47",
          "NVI",
          "hist_saturation39",
          "hist_saturation6",
          "gabor_mean1",
          "hist_saturation51",
          "std_V",
          "hist_hue20",
          "hist_value64",
          "hist_value55",
          "gabor_mean2",
          "hist_saturation11",
          "hist_value47",
          "num_corners",
          "hist_saturation13",
          "hist_saturation14",
          "hist_saturation12",
          "feature_334",
          "hist_value21",
          "hist_saturation10",
          "hist_value6",
          "gabor_mean6",
          "hist_saturation25",
          "hist_saturation7",
          "gabor_mean5",
          "edge_length_mean",
          "hist_saturation38",
          "hist_saturation40",
          "hist_hue21",
          "hist_saturation50",
          "hist_saturation9",
          "hist_saturation26",
          "gabor_mean8",
          "hist_saturation8",
          "hist_saturation52",
          "hist_value20",
          "gabor_mean10",
          "hist_value19",
          "third_moment",
          "hist_value7",
          "hist_hue23",
          "gabor_mean7",
          "hist_value9",
          "hist_hue30",
          "hist_value11",
          "gabor_mean4",
          "gabor_mean3",
          "hist_value56",
          "hist_value63",
          "hist_value62",
          "gabor_mean9",
          "hist_value14",
          "hist_saturation37",
          "hist_value57",
          "hist_value59",
          "hist_saturation54",
          "hist_value12",
          "hist_value58",
          "hist_value61",
          "fft_energy",
          "hist_value60",
          "hist_saturation28",
          "hist_value8",
          "hist_value10",
          "hist_saturation33",
          "hist_saturation27",
          "hist_hue22",
          "hist_saturation35",
          "hist_value13",
          "gabor_std2",
          "NLI",
          "hist_saturation29",
          "hist_saturation53",
          "hist_saturation36",
          "hist_value46",
          "hist_hue24",
          "hist_value15",
          "hist_saturation30",
          "gabor_std7",
          "hist_value18",
          "gabor_std5",
          "gradient_magnitude_mean",
          "extent",
          "hist_saturation31",
          "hist_saturation34",
          "G_sqrt",
          "area",
          "hist_value17",
          "hist_value22",
          "hist_value16",
          "perimeter",
          "gabor_std4",
          "hist_saturation60",
          "mean_G",
          "gabor_std10",
          "mean_V",
          "gradient_magnitude_std",
          "hist_saturation63",
          "gabor_std3",
          "wavelet_energy",
          "hist_saturation32",
          "gabor_std9",
          "aspect_ratio",
          "V_sqrt",
          "fft_std",
          "hist_saturation61",
          "corner_variance_x",
          "hist_saturation57",
          "hist_saturation55",
          "NYI",
          "hist_saturation58",
          "hist_value45",
          "hist_saturation56",
          "hist_saturation62",
          "corner_variance_y",
          "NUI",
          "hist_saturation59",
          "brightness_yuv",
          "width",
          "brightness_rgb",
          "hist_value33",
          "hist_value34",
          "gabor_std6",
          "mean_L",
          "brightness_lab",
          "major_axis_length",
          "hist_value32",
          "mean_B",
          "hist_value38",
          "gabor_std8",
          "length",
          "hist_value39",
          "hist_value40",
          "hist_value31",
          "convex_hull_perimeter",
          "B_sqrt",
          "L_sqrt",
          "minor_axis_length",
          "mean_intensity",
          "hist_value35",
          "uniformity",
          "hist_value41",
          "hist_value43",
          "wavelet_mean",
          "hist_value44",
          "mean_Y",
          "hist_value36",
          "hist_value37",
          "hist_value29",
          "hist_value30",
          "hist_value23",
          "feature_175",
          "Y_sqrt",
          "hist_value24",
          "hist_value42",
          "convex_hull_area",
          "hist_value28",
          "hist_value26",
          "hist_value25",
          "hist_value27",
          "length_to_width_ratio",
          "feature_31",
          "feature_336",
          "feature_42",
          "feature_50",
          "log_mean",
          "hist_hue46",
          "hist_hue56",
          "hist_hue64",
          "hist_hue63",
          "hist_hue62",
          "hist_hue60",
          "hist_hue59",
          "hist_hue58",
          "hist_hue57",
          "hist_hue55",
          "hist_hue54",
          "hist_hue53",
          "lbp_mean",
          "hist_hue52",
          "hist_hue51",
          "hist_hue50",
          "hist_hue49",
          "hist_hue48",
          "hist_hue47",
          "hist_hue61"
         ],
         "xaxis": "x",
         "y": [
          0.04884744320722608,
          0.01390714403791426,
          0.008815366983760143,
          0.008812716416334559,
          0.008430797086980165,
          0.007803710193755076,
          0.007752137780868967,
          0.00771643151831831,
          0.007630053100088471,
          0.0074368698759281916,
          0.007342220485682682,
          0.007115106111356953,
          0.007103663393728371,
          0.0069820210649348515,
          0.006942641525984816,
          0.006929186230681708,
          0.006906083078768837,
          0.006861426218946557,
          0.006853408438729798,
          0.0067595498702444886,
          0.006519286852869522,
          0.006398787529544225,
          0.006333834400180555,
          0.006331208109329544,
          0.006326009194392755,
          0.006105115063943648,
          0.0060983773841320095,
          0.005991526778117525,
          0.005897623216543818,
          0.005844946986836036,
          0.005825902452125777,
          0.005787467904391712,
          0.005771601791956061,
          0.005696334429815312,
          0.005666607821295092,
          0.005648256084050089,
          0.005594773751601863,
          0.005489023776684224,
          0.0054650595287914,
          0.005334113866467468,
          0.005305573701065122,
          0.005260245984560626,
          0.005203015823835821,
          0.00510472366200395,
          0.005014551077788579,
          0.004954455676410894,
          0.004945695574189762,
          0.0048457402406380376,
          0.004842550966452983,
          0.004837590741110856,
          0.004818766083235915,
          0.004811109058889481,
          0.004804526097321785,
          0.004738270836692158,
          0.004706031288047965,
          0.004698248076699215,
          0.004674767729533125,
          0.004628968161199212,
          0.0045325932787869195,
          0.004532575936963589,
          0.004487126618501115,
          0.004485829837694589,
          0.004481554030193024,
          0.004467359430807777,
          0.00442173396840286,
          0.004388313009113167,
          0.004367362357845614,
          0.004288401664877004,
          0.004196264906759802,
          0.004175008916432458,
          0.004065428135781344,
          0.004058348254490877,
          0.004047810108308717,
          0.003946666124726248,
          0.003922076185434261,
          0.0038934577328376156,
          0.0038613475415459403,
          0.003852168836425847,
          0.0038393894039591005,
          0.0037868963370499206,
          0.003752870447878897,
          0.003735399887491169,
          0.003723754083540794,
          0.003715682838245379,
          0.0036954922248130947,
          0.0036859373045016594,
          0.0036839316860807093,
          0.003662059806078524,
          0.003621984639149375,
          0.003612654483582101,
          0.003573143834148867,
          0.003559136963124772,
          0.0035413505443947,
          0.0035113066922057403,
          0.003495113167151525,
          0.0034867125829298445,
          0.0034656551974873305,
          0.0034565530174357163,
          0.0034384627363268196,
          0.0034197701658423584,
          0.00340476987103525,
          0.0033878864092835538,
          0.0033848644154153367,
          0.0033756144441803226,
          0.0033691619187920623,
          0.0033690689630694335,
          0.003345464805031249,
          0.0033341155653230058,
          0.003315441504070928,
          0.003294843711289335,
          0.0032223070467161333,
          0.003217885974399649,
          0.003212604293055102,
          0.0031973974454634155,
          0.0031865569315507407,
          0.003164754341529274,
          0.0031498925297725466,
          0.0031331548680529012,
          0.0031317070690851457,
          0.003127416355071251,
          0.003126286712854066,
          0.0031183407364514114,
          0.0030990413157348743,
          0.0030929039490376355,
          0.00307980479968786,
          0.003062453624881992,
          0.003056908974269394,
          0.003040493046697005,
          0.0030265704634871798,
          0.0030245264133245625,
          0.00299561119323173,
          0.002971554047165136,
          0.002960645371420023,
          0.002932141915601721,
          0.0029288918093940005,
          0.0028871458588033017,
          0.0028497765481895324,
          0.0028417013889975875,
          0.002825938537279346,
          0.0027809346313544137,
          0.0027721334449262195,
          0.0027063329385119926,
          0.002697334638495907,
          0.002692811904638366,
          0.0026896751446241133,
          0.0026802182740958444,
          0.002674989502757134,
          0.0026530624277470035,
          0.0026191690992111837,
          0.002612874655381199,
          0.00261227422580288,
          0.0026021383119724227,
          0.002592158826738549,
          0.002573282296678577,
          0.002564710918974468,
          0.0025512967432154143,
          0.002547511716220882,
          0.0024952726934623095,
          0.0024893173488921934,
          0.0024888599013222503,
          0.002482067896414264,
          0.0024777196800912526,
          0.00247696510179071,
          0.0024583820192405808,
          0.0024414587920952835,
          0.0024144261358937905,
          0.0023990579651545782,
          0.002396837412819829,
          0.0023909589176916595,
          0.0023890476046153023,
          0.0023845373117965247,
          0.002382447713521584,
          0.002379051346235575,
          0.0023697831705802312,
          0.0023580906337945695,
          0.0023550142539691655,
          0.002349672945652777,
          0.0023287178908165417,
          0.002325378373592975,
          0.0023141741656800786,
          0.0023101348280207697,
          0.002294406615474626,
          0.0022859829600446343,
          0.0022771193192560645,
          0.0022627628653472147,
          0.002254140346569069,
          0.002250155948952956,
          0.002246044162121953,
          0.0022303749953979535,
          0.0022089877965406446,
          0.0022009572545125394,
          0.002196312798504077,
          0.0021830186417780974,
          0.002177957267077837,
          0.0021774367403808153,
          0.0021673585197214793,
          0.002163127521906828,
          0.0021435727779080967,
          0.00206826007287083,
          0.0020611753283997073,
          0.0020551228086940557,
          0.002044181756489317,
          0.0020369358247901057,
          0.0020354236662651327,
          0.0020212470022438396,
          0.002010518160413941,
          0.002003802883745166,
          0.001997463941835457,
          0.001996287688700403,
          0.0019867223673871743,
          0.001983167707060177,
          0.001979951920961341,
          0.0019665868332395934,
          0.001954412005901593,
          0.001953342040654415,
          0.0019428126018698197,
          0.001941580044816434,
          0.001931359508112487,
          0.0019271426751968162,
          0.0018953386131921508,
          0.001894290631255189,
          0.0018918902971252825,
          0.0018916274086405386,
          0.0018851481143950333,
          0.0018739996794484928,
          0.0018702394743785745,
          0.0018661274275412058,
          0.0018541596060282857,
          0.0018462661602849841,
          0.0018201278128322559,
          0.0018118494830812795,
          0.0018044671850083157,
          0.0017995959294961343,
          0.0017805887977125265,
          0.001780089339599663,
          0.00177806037881394,
          0.0017670553040452874,
          0.0017518155576521832,
          0.0017149996707464974,
          0.0017148030549942622,
          0.0017113750205257,
          0.0016965089269048125,
          0.0016889608574474624,
          0.001687856072440595,
          0.0016875229525280273,
          0.0016673377740452514,
          0.001665797604011768,
          0.0016632437645387609,
          0.0016529524761292828,
          0.0016378797346572468,
          0.0016341693134530567,
          0.0016338468111803753,
          0.0016287175420216721,
          0.0016233288187869844,
          0.0015908742955360424,
          0.0015825206786203804,
          0.0015807162174764518,
          0.0015782426186567247,
          0.0015723200505902554,
          0.0015722417761170674,
          0.0015706872444908489,
          0.00156339115423771,
          0.0015596873446842518,
          0.0015492596871254215,
          0.0015470139796099408,
          0.0015362813361354188,
          0.001535318160598895,
          0.0015259413253889602,
          0.0015223993502916447,
          0.0015188489965274725,
          0.001517684915295894,
          0.0014878130653839176,
          0.0014788363601549912,
          0.0014698670285599456,
          0.0014685969438984093,
          0.001443321429114261,
          0.001426423886578696,
          0.0014161100645505263,
          0.0014156601145415893,
          0.001408596678201342,
          0.0014038424175735133,
          0.0013995274003531886,
          0.001383332166966439,
          0.0013829750336140137,
          0.0013801132466710517,
          0.0013770374884267184,
          0.001375061990162237,
          0.0013711541829230529,
          0.001364094602437954,
          0.0013602820811041325,
          0.001301097873375105,
          0.0012759144439554574,
          0.0012733013741443638,
          0.0012465731564897217,
          0.0011018732938292905,
          0.0010135525999012006,
          0.0010057539188005815,
          0.000968576524430405,
          0.0008564790121236082,
          0.0008022733087541245,
          0,
          0,
          0,
          0,
          0,
          0,
          0,
          0,
          0,
          0,
          0,
          0,
          0,
          0,
          0,
          0,
          0,
          0,
          0,
          0
         ],
         "yaxis": "y"
        }
       ],
       "layout": {
        "barmode": "relative",
        "height": 800,
        "legend": {
         "tracegroupgap": 0
        },
        "template": {
         "data": {
          "bar": [
           {
            "error_x": {
             "color": "#2a3f5f"
            },
            "error_y": {
             "color": "#2a3f5f"
            },
            "marker": {
             "line": {
              "color": "#E5ECF6",
              "width": 0.5
             },
             "pattern": {
              "fillmode": "overlay",
              "size": 10,
              "solidity": 0.2
             }
            },
            "type": "bar"
           }
          ],
          "barpolar": [
           {
            "marker": {
             "line": {
              "color": "#E5ECF6",
              "width": 0.5
             },
             "pattern": {
              "fillmode": "overlay",
              "size": 10,
              "solidity": 0.2
             }
            },
            "type": "barpolar"
           }
          ],
          "carpet": [
           {
            "aaxis": {
             "endlinecolor": "#2a3f5f",
             "gridcolor": "white",
             "linecolor": "white",
             "minorgridcolor": "white",
             "startlinecolor": "#2a3f5f"
            },
            "baxis": {
             "endlinecolor": "#2a3f5f",
             "gridcolor": "white",
             "linecolor": "white",
             "minorgridcolor": "white",
             "startlinecolor": "#2a3f5f"
            },
            "type": "carpet"
           }
          ],
          "choropleth": [
           {
            "colorbar": {
             "outlinewidth": 0,
             "ticks": ""
            },
            "type": "choropleth"
           }
          ],
          "contour": [
           {
            "colorbar": {
             "outlinewidth": 0,
             "ticks": ""
            },
            "colorscale": [
             [
              0,
              "#0d0887"
             ],
             [
              0.1111111111111111,
              "#46039f"
             ],
             [
              0.2222222222222222,
              "#7201a8"
             ],
             [
              0.3333333333333333,
              "#9c179e"
             ],
             [
              0.4444444444444444,
              "#bd3786"
             ],
             [
              0.5555555555555556,
              "#d8576b"
             ],
             [
              0.6666666666666666,
              "#ed7953"
             ],
             [
              0.7777777777777778,
              "#fb9f3a"
             ],
             [
              0.8888888888888888,
              "#fdca26"
             ],
             [
              1,
              "#f0f921"
             ]
            ],
            "type": "contour"
           }
          ],
          "contourcarpet": [
           {
            "colorbar": {
             "outlinewidth": 0,
             "ticks": ""
            },
            "type": "contourcarpet"
           }
          ],
          "heatmap": [
           {
            "colorbar": {
             "outlinewidth": 0,
             "ticks": ""
            },
            "colorscale": [
             [
              0,
              "#0d0887"
             ],
             [
              0.1111111111111111,
              "#46039f"
             ],
             [
              0.2222222222222222,
              "#7201a8"
             ],
             [
              0.3333333333333333,
              "#9c179e"
             ],
             [
              0.4444444444444444,
              "#bd3786"
             ],
             [
              0.5555555555555556,
              "#d8576b"
             ],
             [
              0.6666666666666666,
              "#ed7953"
             ],
             [
              0.7777777777777778,
              "#fb9f3a"
             ],
             [
              0.8888888888888888,
              "#fdca26"
             ],
             [
              1,
              "#f0f921"
             ]
            ],
            "type": "heatmap"
           }
          ],
          "heatmapgl": [
           {
            "colorbar": {
             "outlinewidth": 0,
             "ticks": ""
            },
            "colorscale": [
             [
              0,
              "#0d0887"
             ],
             [
              0.1111111111111111,
              "#46039f"
             ],
             [
              0.2222222222222222,
              "#7201a8"
             ],
             [
              0.3333333333333333,
              "#9c179e"
             ],
             [
              0.4444444444444444,
              "#bd3786"
             ],
             [
              0.5555555555555556,
              "#d8576b"
             ],
             [
              0.6666666666666666,
              "#ed7953"
             ],
             [
              0.7777777777777778,
              "#fb9f3a"
             ],
             [
              0.8888888888888888,
              "#fdca26"
             ],
             [
              1,
              "#f0f921"
             ]
            ],
            "type": "heatmapgl"
           }
          ],
          "histogram": [
           {
            "marker": {
             "pattern": {
              "fillmode": "overlay",
              "size": 10,
              "solidity": 0.2
             }
            },
            "type": "histogram"
           }
          ],
          "histogram2d": [
           {
            "colorbar": {
             "outlinewidth": 0,
             "ticks": ""
            },
            "colorscale": [
             [
              0,
              "#0d0887"
             ],
             [
              0.1111111111111111,
              "#46039f"
             ],
             [
              0.2222222222222222,
              "#7201a8"
             ],
             [
              0.3333333333333333,
              "#9c179e"
             ],
             [
              0.4444444444444444,
              "#bd3786"
             ],
             [
              0.5555555555555556,
              "#d8576b"
             ],
             [
              0.6666666666666666,
              "#ed7953"
             ],
             [
              0.7777777777777778,
              "#fb9f3a"
             ],
             [
              0.8888888888888888,
              "#fdca26"
             ],
             [
              1,
              "#f0f921"
             ]
            ],
            "type": "histogram2d"
           }
          ],
          "histogram2dcontour": [
           {
            "colorbar": {
             "outlinewidth": 0,
             "ticks": ""
            },
            "colorscale": [
             [
              0,
              "#0d0887"
             ],
             [
              0.1111111111111111,
              "#46039f"
             ],
             [
              0.2222222222222222,
              "#7201a8"
             ],
             [
              0.3333333333333333,
              "#9c179e"
             ],
             [
              0.4444444444444444,
              "#bd3786"
             ],
             [
              0.5555555555555556,
              "#d8576b"
             ],
             [
              0.6666666666666666,
              "#ed7953"
             ],
             [
              0.7777777777777778,
              "#fb9f3a"
             ],
             [
              0.8888888888888888,
              "#fdca26"
             ],
             [
              1,
              "#f0f921"
             ]
            ],
            "type": "histogram2dcontour"
           }
          ],
          "mesh3d": [
           {
            "colorbar": {
             "outlinewidth": 0,
             "ticks": ""
            },
            "type": "mesh3d"
           }
          ],
          "parcoords": [
           {
            "line": {
             "colorbar": {
              "outlinewidth": 0,
              "ticks": ""
             }
            },
            "type": "parcoords"
           }
          ],
          "pie": [
           {
            "automargin": true,
            "type": "pie"
           }
          ],
          "scatter": [
           {
            "fillpattern": {
             "fillmode": "overlay",
             "size": 10,
             "solidity": 0.2
            },
            "type": "scatter"
           }
          ],
          "scatter3d": [
           {
            "line": {
             "colorbar": {
              "outlinewidth": 0,
              "ticks": ""
             }
            },
            "marker": {
             "colorbar": {
              "outlinewidth": 0,
              "ticks": ""
             }
            },
            "type": "scatter3d"
           }
          ],
          "scattercarpet": [
           {
            "marker": {
             "colorbar": {
              "outlinewidth": 0,
              "ticks": ""
             }
            },
            "type": "scattercarpet"
           }
          ],
          "scattergeo": [
           {
            "marker": {
             "colorbar": {
              "outlinewidth": 0,
              "ticks": ""
             }
            },
            "type": "scattergeo"
           }
          ],
          "scattergl": [
           {
            "marker": {
             "colorbar": {
              "outlinewidth": 0,
              "ticks": ""
             }
            },
            "type": "scattergl"
           }
          ],
          "scattermapbox": [
           {
            "marker": {
             "colorbar": {
              "outlinewidth": 0,
              "ticks": ""
             }
            },
            "type": "scattermapbox"
           }
          ],
          "scatterpolar": [
           {
            "marker": {
             "colorbar": {
              "outlinewidth": 0,
              "ticks": ""
             }
            },
            "type": "scatterpolar"
           }
          ],
          "scatterpolargl": [
           {
            "marker": {
             "colorbar": {
              "outlinewidth": 0,
              "ticks": ""
             }
            },
            "type": "scatterpolargl"
           }
          ],
          "scatterternary": [
           {
            "marker": {
             "colorbar": {
              "outlinewidth": 0,
              "ticks": ""
             }
            },
            "type": "scatterternary"
           }
          ],
          "surface": [
           {
            "colorbar": {
             "outlinewidth": 0,
             "ticks": ""
            },
            "colorscale": [
             [
              0,
              "#0d0887"
             ],
             [
              0.1111111111111111,
              "#46039f"
             ],
             [
              0.2222222222222222,
              "#7201a8"
             ],
             [
              0.3333333333333333,
              "#9c179e"
             ],
             [
              0.4444444444444444,
              "#bd3786"
             ],
             [
              0.5555555555555556,
              "#d8576b"
             ],
             [
              0.6666666666666666,
              "#ed7953"
             ],
             [
              0.7777777777777778,
              "#fb9f3a"
             ],
             [
              0.8888888888888888,
              "#fdca26"
             ],
             [
              1,
              "#f0f921"
             ]
            ],
            "type": "surface"
           }
          ],
          "table": [
           {
            "cells": {
             "fill": {
              "color": "#EBF0F8"
             },
             "line": {
              "color": "white"
             }
            },
            "header": {
             "fill": {
              "color": "#C8D4E3"
             },
             "line": {
              "color": "white"
             }
            },
            "type": "table"
           }
          ]
         },
         "layout": {
          "annotationdefaults": {
           "arrowcolor": "#2a3f5f",
           "arrowhead": 0,
           "arrowwidth": 1
          },
          "autotypenumbers": "strict",
          "coloraxis": {
           "colorbar": {
            "outlinewidth": 0,
            "ticks": ""
           }
          },
          "colorscale": {
           "diverging": [
            [
             0,
             "#8e0152"
            ],
            [
             0.1,
             "#c51b7d"
            ],
            [
             0.2,
             "#de77ae"
            ],
            [
             0.3,
             "#f1b6da"
            ],
            [
             0.4,
             "#fde0ef"
            ],
            [
             0.5,
             "#f7f7f7"
            ],
            [
             0.6,
             "#e6f5d0"
            ],
            [
             0.7,
             "#b8e186"
            ],
            [
             0.8,
             "#7fbc41"
            ],
            [
             0.9,
             "#4d9221"
            ],
            [
             1,
             "#276419"
            ]
           ],
           "sequential": [
            [
             0,
             "#0d0887"
            ],
            [
             0.1111111111111111,
             "#46039f"
            ],
            [
             0.2222222222222222,
             "#7201a8"
            ],
            [
             0.3333333333333333,
             "#9c179e"
            ],
            [
             0.4444444444444444,
             "#bd3786"
            ],
            [
             0.5555555555555556,
             "#d8576b"
            ],
            [
             0.6666666666666666,
             "#ed7953"
            ],
            [
             0.7777777777777778,
             "#fb9f3a"
            ],
            [
             0.8888888888888888,
             "#fdca26"
            ],
            [
             1,
             "#f0f921"
            ]
           ],
           "sequentialminus": [
            [
             0,
             "#0d0887"
            ],
            [
             0.1111111111111111,
             "#46039f"
            ],
            [
             0.2222222222222222,
             "#7201a8"
            ],
            [
             0.3333333333333333,
             "#9c179e"
            ],
            [
             0.4444444444444444,
             "#bd3786"
            ],
            [
             0.5555555555555556,
             "#d8576b"
            ],
            [
             0.6666666666666666,
             "#ed7953"
            ],
            [
             0.7777777777777778,
             "#fb9f3a"
            ],
            [
             0.8888888888888888,
             "#fdca26"
            ],
            [
             1,
             "#f0f921"
            ]
           ]
          },
          "colorway": [
           "#636efa",
           "#EF553B",
           "#00cc96",
           "#ab63fa",
           "#FFA15A",
           "#19d3f3",
           "#FF6692",
           "#B6E880",
           "#FF97FF",
           "#FECB52"
          ],
          "font": {
           "color": "#2a3f5f"
          },
          "geo": {
           "bgcolor": "white",
           "lakecolor": "white",
           "landcolor": "#E5ECF6",
           "showlakes": true,
           "showland": true,
           "subunitcolor": "white"
          },
          "hoverlabel": {
           "align": "left"
          },
          "hovermode": "closest",
          "mapbox": {
           "style": "light"
          },
          "paper_bgcolor": "white",
          "plot_bgcolor": "#E5ECF6",
          "polar": {
           "angularaxis": {
            "gridcolor": "white",
            "linecolor": "white",
            "ticks": ""
           },
           "bgcolor": "#E5ECF6",
           "radialaxis": {
            "gridcolor": "white",
            "linecolor": "white",
            "ticks": ""
           }
          },
          "scene": {
           "xaxis": {
            "backgroundcolor": "#E5ECF6",
            "gridcolor": "white",
            "gridwidth": 2,
            "linecolor": "white",
            "showbackground": true,
            "ticks": "",
            "zerolinecolor": "white"
           },
           "yaxis": {
            "backgroundcolor": "#E5ECF6",
            "gridcolor": "white",
            "gridwidth": 2,
            "linecolor": "white",
            "showbackground": true,
            "ticks": "",
            "zerolinecolor": "white"
           },
           "zaxis": {
            "backgroundcolor": "#E5ECF6",
            "gridcolor": "white",
            "gridwidth": 2,
            "linecolor": "white",
            "showbackground": true,
            "ticks": "",
            "zerolinecolor": "white"
           }
          },
          "shapedefaults": {
           "line": {
            "color": "#2a3f5f"
           }
          },
          "ternary": {
           "aaxis": {
            "gridcolor": "white",
            "linecolor": "white",
            "ticks": ""
           },
           "baxis": {
            "gridcolor": "white",
            "linecolor": "white",
            "ticks": ""
           },
           "bgcolor": "#E5ECF6",
           "caxis": {
            "gridcolor": "white",
            "linecolor": "white",
            "ticks": ""
           }
          },
          "title": {
           "x": 0.05
          },
          "xaxis": {
           "automargin": true,
           "gridcolor": "white",
           "linecolor": "white",
           "ticks": "",
           "title": {
            "standoff": 15
           },
           "zerolinecolor": "white",
           "zerolinewidth": 2
          },
          "yaxis": {
           "automargin": true,
           "gridcolor": "white",
           "linecolor": "white",
           "ticks": "",
           "title": {
            "standoff": 15
           },
           "zerolinecolor": "white",
           "zerolinewidth": 2
          }
         }
        },
        "title": {
         "text": "Feature Importances"
        },
        "width": 1200,
        "xaxis": {
         "anchor": "y",
         "domain": [
          0,
          1
         ],
         "title": {
          "text": "Feature"
         }
        },
        "yaxis": {
         "anchor": "x",
         "domain": [
          0,
          1
         ],
         "title": {
          "text": "Importance"
         }
        }
       }
      }
     },
     "metadata": {},
     "output_type": "display_data"
    }
   ],
   "source": [
    "import plotly.express as px\n",
    "feature_importance = rf.feature_importances_\n",
    "importance_df = pd.DataFrame({'feature': X_train.columns, 'importance': feature_importance})\n",
    "importance_df = importance_df.sort_values('importance', ascending=False)\n",
    "fig = px.bar(importance_df, x='feature', y='importance', title='Feature Importances', labels={'importance': 'Importance', 'feature': 'Feature'}, width=1200, height=800)\n",
    "fig.show()\n"
   ]
  },
  {
   "cell_type": "code",
   "execution_count": 12,
   "metadata": {},
   "outputs": [
    {
     "name": "stdout",
     "output_type": "stream",
     "text": [
      "                     feature  importance\n",
      "310                      std    0.048847\n",
      "309                     mean    0.013907\n",
      "233                    std_v    0.008815\n",
      "16                 hist_hue5    0.008813\n",
      "301                 solidity    0.008431\n",
      "311              feature_181    0.007804\n",
      "13                 hist_hue2    0.007752\n",
      "21                hist_hue10    0.007716\n",
      "6                     H_sqrt    0.007630\n",
      "0                     mean_H    0.007437\n",
      "232                    std_U    0.007342\n",
      "290       harris_formula_sum    0.007115\n",
      "22                hist_hue11    0.007104\n",
      "220                    std_a    0.006982\n",
      "223                   a_sqrt    0.006943\n",
      "3                      std_H    0.006929\n",
      "249              correlation    0.006906\n",
      "293         corner_area_mean    0.006861\n",
      "14                 hist_hue3    0.006853\n",
      "17                 hist_hue6    0.006760\n",
      "15                 hist_hue4    0.006519\n",
      "241           brightness_hsv    0.006399\n",
      "282                  lbp_std    0.006334\n",
      "217                   mean_a    0.006331\n",
      "250                  entropy    0.006326\n",
      "77          hist_saturation2    0.006105\n",
      "221                    std_b    0.006098\n",
      "56                hist_hue45    0.005992\n",
      "213                      NRI    0.005898\n",
      "12                 hist_hue1    0.005845\n",
      "256              roberts_std    0.005826\n",
      "9                        NHI    0.005787\n",
      "20                 hist_hue9    0.005772\n",
      "18                 hist_hue7    0.005696\n",
      "258                sobel_std    0.005667\n",
      "296                  log_std    0.005648\n",
      "78          hist_saturation3    0.005595\n",
      "246                 contrast    0.005489\n",
      "209                    std_B    0.005465\n",
      "269               gabor_std1    0.005334\n",
      "7                     S_sqrt    0.005306\n",
      "283                 fft_mean    0.005260\n",
      "257               sobel_mean    0.005203\n",
      "210                   R_sqrt    0.005105\n",
      "214                      NGI    0.005015\n",
      "79          hist_saturation4    0.004954\n",
      "10                       NSI    0.004946\n",
      "140              hist_value1    0.004846\n",
      "54                hist_hue43    0.004843\n",
      "19                 hist_hue8    0.004838\n",
      "204                   mean_R    0.004819\n",
      "236                   v_sqrt    0.004811\n",
      "76          hist_saturation1    0.004805\n",
      "207                    std_R    0.004738\n",
      "141              hist_value2    0.004706\n",
      "215                      NBI    0.004698\n",
      "230                   mean_v    0.004675\n",
      "255             roberts_mean    0.004629\n",
      "239                      NvI    0.004533\n",
      "254              entropy_std    0.004533\n",
      "55                hist_hue44    0.004487\n",
      "224                   b_sqrt    0.004486\n",
      "218                   mean_b    0.004482\n",
      "248                   energy    0.004467\n",
      "50                hist_hue39    0.004422\n",
      "43                hist_hue32    0.004388\n",
      "226                      NaI    0.004367\n",
      "1                     mean_S    0.004288\n",
      "229                   mean_U    0.004196\n",
      "313               feature_71    0.004175\n",
      "39                hist_hue28    0.004065\n",
      "51                hist_hue40    0.004058\n",
      "235                   U_sqrt    0.004048\n",
      "80          hist_saturation5    0.003947\n",
      "46                hist_hue35    0.003922\n",
      "52                hist_hue41    0.003893\n",
      "227                      NbI    0.003861\n",
      "287              wavelet_std    0.003852\n",
      "23                hist_hue12    0.003839\n",
      "48                hist_hue37    0.003787\n",
      "27                hist_hue16    0.003753\n",
      "42                hist_hue31    0.003735\n",
      "97         hist_saturation22    0.003724\n",
      "40                hist_hue29    0.003716\n",
      "45                hist_hue34    0.003695\n",
      "119        hist_saturation44    0.003686\n",
      "37                hist_hue26    0.003684\n",
      "139        hist_saturation64    0.003662\n",
      "121        hist_saturation46    0.003622\n",
      "29                hist_hue18    0.003613\n",
      "191             hist_value52    0.003573\n",
      "25                hist_hue14    0.003559\n",
      "49                hist_hue38    0.003541\n",
      "44                hist_hue33    0.003511\n",
      "118        hist_saturation43    0.003495\n",
      "231                    std_Y    0.003487\n",
      "190             hist_value51    0.003466\n",
      "98         hist_saturation23    0.003457\n",
      "96         hist_saturation21    0.003438\n",
      "120        hist_saturation45    0.003420\n",
      "253             entropy_mean    0.003405\n",
      "143              hist_value4    0.003388\n",
      "4                      std_S    0.003385\n",
      "28                hist_hue17    0.003376\n",
      "245            std_intensity    0.003369\n",
      "38                hist_hue27    0.003369\n",
      "142              hist_value3    0.003345\n",
      "95         hist_saturation20    0.003334\n",
      "53                hist_hue42    0.003315\n",
      "26                hist_hue15    0.003295\n",
      "188             hist_value49    0.003222\n",
      "47                hist_hue36    0.003218\n",
      "312              feature_103    0.003213\n",
      "247              homogeneity    0.003197\n",
      "193             hist_value54    0.003187\n",
      "189             hist_value50    0.003165\n",
      "36                hist_hue25    0.003150\n",
      "94         hist_saturation19    0.003133\n",
      "208                    std_G    0.003132\n",
      "24                hist_hue13    0.003127\n",
      "116        hist_saturation41    0.003126\n",
      "187             hist_value48    0.003118\n",
      "192             hist_value53    0.003099\n",
      "92         hist_saturation17    0.003093\n",
      "123        hist_saturation48    0.003080\n",
      "117        hist_saturation42    0.003062\n",
      "30                hist_hue19    0.003057\n",
      "90         hist_saturation15    0.003040\n",
      "93         hist_saturation18    0.003027\n",
      "91         hist_saturation16    0.003025\n",
      "99         hist_saturation24    0.002996\n",
      "144              hist_value5    0.002972\n",
      "219                    std_L    0.002961\n",
      "124        hist_saturation49    0.002932\n",
      "122        hist_saturation47    0.002929\n",
      "11                       NVI    0.002887\n",
      "114        hist_saturation39    0.002850\n",
      "81          hist_saturation6    0.002842\n",
      "259              gabor_mean1    0.002826\n",
      "126        hist_saturation51    0.002781\n",
      "5                      std_V    0.002772\n",
      "31                hist_hue20    0.002706\n",
      "203             hist_value64    0.002697\n",
      "194             hist_value55    0.002693\n",
      "260              gabor_mean2    0.002690\n",
      "86         hist_saturation11    0.002680\n",
      "186             hist_value47    0.002675\n",
      "289              num_corners    0.002653\n",
      "88         hist_saturation13    0.002619\n",
      "89         hist_saturation14    0.002613\n",
      "87         hist_saturation12    0.002612\n",
      "314              feature_334    0.002602\n",
      "160             hist_value21    0.002592\n",
      "85         hist_saturation10    0.002573\n",
      "145              hist_value6    0.002565\n",
      "264              gabor_mean6    0.002551\n",
      "100        hist_saturation25    0.002548\n",
      "82          hist_saturation7    0.002495\n",
      "263              gabor_mean5    0.002489\n",
      "294         edge_length_mean    0.002489\n",
      "113        hist_saturation38    0.002482\n",
      "115        hist_saturation40    0.002478\n",
      "32                hist_hue21    0.002477\n",
      "125        hist_saturation50    0.002458\n",
      "84          hist_saturation9    0.002441\n",
      "101        hist_saturation26    0.002414\n",
      "266              gabor_mean8    0.002399\n",
      "83          hist_saturation8    0.002397\n",
      "127        hist_saturation52    0.002391\n",
      "159             hist_value20    0.002389\n",
      "268             gabor_mean10    0.002385\n",
      "158             hist_value19    0.002382\n",
      "252             third_moment    0.002379\n",
      "146              hist_value7    0.002370\n",
      "34                hist_hue23    0.002358\n",
      "265              gabor_mean7    0.002355\n",
      "148              hist_value9    0.002350\n",
      "41                hist_hue30    0.002329\n",
      "150             hist_value11    0.002325\n",
      "262              gabor_mean4    0.002314\n",
      "261              gabor_mean3    0.002310\n",
      "195             hist_value56    0.002294\n",
      "202             hist_value63    0.002286\n",
      "201             hist_value62    0.002277\n",
      "267              gabor_mean9    0.002263\n",
      "153             hist_value14    0.002254\n",
      "112        hist_saturation37    0.002250\n",
      "196             hist_value57    0.002246\n",
      "198             hist_value59    0.002230\n",
      "129        hist_saturation54    0.002209\n",
      "151             hist_value12    0.002201\n",
      "197             hist_value58    0.002196\n",
      "200             hist_value61    0.002183\n",
      "285               fft_energy    0.002178\n",
      "199             hist_value60    0.002177\n",
      "103        hist_saturation28    0.002167\n",
      "147              hist_value8    0.002163\n",
      "149             hist_value10    0.002144\n",
      "108        hist_saturation33    0.002068\n",
      "102        hist_saturation27    0.002061\n",
      "33                hist_hue22    0.002055\n",
      "110        hist_saturation35    0.002044\n",
      "152             hist_value13    0.002037\n",
      "270               gabor_std2    0.002035\n",
      "225                      NLI    0.002021\n",
      "104        hist_saturation29    0.002011\n",
      "128        hist_saturation53    0.002004\n",
      "111        hist_saturation36    0.001997\n",
      "185             hist_value46    0.001996\n",
      "35                hist_hue24    0.001987\n",
      "154             hist_value15    0.001983\n",
      "105        hist_saturation30    0.001980\n",
      "275               gabor_std7    0.001967\n",
      "157             hist_value18    0.001954\n",
      "273               gabor_std5    0.001953\n",
      "279  gradient_magnitude_mean    0.001943\n",
      "300                   extent    0.001942\n",
      "106        hist_saturation31    0.001931\n",
      "109        hist_saturation34    0.001927\n",
      "211                   G_sqrt    0.001895\n",
      "297                     area    0.001894\n",
      "156             hist_value17    0.001892\n",
      "161             hist_value22    0.001892\n",
      "155             hist_value16    0.001885\n",
      "298                perimeter    0.001874\n",
      "272               gabor_std4    0.001870\n",
      "135        hist_saturation60    0.001866\n",
      "205                   mean_G    0.001854\n",
      "278              gabor_std10    0.001846\n",
      "2                     mean_V    0.001820\n",
      "280   gradient_magnitude_std    0.001812\n",
      "138        hist_saturation63    0.001804\n",
      "271               gabor_std3    0.001800\n",
      "288           wavelet_energy    0.001781\n",
      "107        hist_saturation32    0.001780\n",
      "277               gabor_std9    0.001778\n",
      "299             aspect_ratio    0.001767\n",
      "8                     V_sqrt    0.001752\n",
      "284                  fft_std    0.001715\n",
      "136        hist_saturation61    0.001715\n",
      "291        corner_variance_x    0.001711\n",
      "132        hist_saturation57    0.001697\n",
      "130        hist_saturation55    0.001689\n",
      "237                      NYI    0.001688\n",
      "133        hist_saturation58    0.001688\n",
      "184             hist_value45    0.001667\n",
      "131        hist_saturation56    0.001666\n",
      "137        hist_saturation62    0.001663\n",
      "292        corner_variance_y    0.001653\n",
      "238                      NUI    0.001638\n",
      "134        hist_saturation59    0.001634\n",
      "243           brightness_yuv    0.001634\n",
      "303                    width    0.001629\n",
      "240           brightness_rgb    0.001623\n",
      "172             hist_value33    0.001591\n",
      "173             hist_value34    0.001583\n",
      "274               gabor_std6    0.001581\n",
      "216                   mean_L    0.001578\n",
      "242           brightness_lab    0.001572\n",
      "307        major_axis_length    0.001572\n",
      "171             hist_value32    0.001571\n",
      "206                   mean_B    0.001563\n",
      "177             hist_value38    0.001560\n",
      "276               gabor_std8    0.001549\n",
      "302                   length    0.001547\n",
      "178             hist_value39    0.001536\n",
      "179             hist_value40    0.001535\n",
      "170             hist_value31    0.001526\n",
      "306    convex_hull_perimeter    0.001522\n",
      "212                   B_sqrt    0.001519\n",
      "222                   L_sqrt    0.001518\n",
      "308        minor_axis_length    0.001488\n",
      "244           mean_intensity    0.001479\n",
      "174             hist_value35    0.001470\n",
      "251               uniformity    0.001469\n",
      "180             hist_value41    0.001443\n",
      "182             hist_value43    0.001426\n",
      "286             wavelet_mean    0.001416\n",
      "183             hist_value44    0.001416\n",
      "228                   mean_Y    0.001409\n",
      "175             hist_value36    0.001404\n",
      "176             hist_value37    0.001400\n",
      "168             hist_value29    0.001383\n",
      "169             hist_value30    0.001383\n",
      "162             hist_value23    0.001380\n",
      "316              feature_175    0.001377\n",
      "234                   Y_sqrt    0.001375\n",
      "163             hist_value24    0.001371\n",
      "181             hist_value42    0.001364\n",
      "305         convex_hull_area    0.001360\n",
      "167             hist_value28    0.001301\n",
      "165             hist_value26    0.001276\n",
      "164             hist_value25    0.001273\n",
      "166             hist_value27    0.001247\n",
      "304    length_to_width_ratio    0.001102\n",
      "318               feature_31    0.001014\n",
      "319              feature_336    0.001006\n",
      "315               feature_42    0.000969\n",
      "317               feature_50    0.000856\n",
      "295                 log_mean    0.000802\n",
      "57                hist_hue46    0.000000\n",
      "67                hist_hue56    0.000000\n",
      "75                hist_hue64    0.000000\n",
      "74                hist_hue63    0.000000\n",
      "73                hist_hue62    0.000000\n",
      "71                hist_hue60    0.000000\n",
      "70                hist_hue59    0.000000\n",
      "69                hist_hue58    0.000000\n",
      "68                hist_hue57    0.000000\n",
      "66                hist_hue55    0.000000\n",
      "65                hist_hue54    0.000000\n",
      "64                hist_hue53    0.000000\n",
      "281                 lbp_mean    0.000000\n",
      "63                hist_hue52    0.000000\n",
      "62                hist_hue51    0.000000\n",
      "61                hist_hue50    0.000000\n",
      "60                hist_hue49    0.000000\n",
      "59                hist_hue48    0.000000\n",
      "58                hist_hue47    0.000000\n",
      "72                hist_hue61    0.000000\n"
     ]
    }
   ],
   "source": [
    "# Set display options to show the entire DataFrame\n",
    "pd.set_option('display.max_rows', None)\n",
    "pd.set_option('display.max_columns', None)\n",
    "pd.set_option('display.max_colwidth', None)\n",
    "pd.set_option('display.width', None)\n",
    "print(importance_df)"
   ]
  },
  {
   "cell_type": "code",
   "execution_count": 13,
   "metadata": {},
   "outputs": [
    {
     "name": "stdout",
     "output_type": "stream",
     "text": [
      "Number of important features: 60\n"
     ]
    }
   ],
   "source": [
    "threshold = 0.0045\n",
    "important_features = importance_df[importance_df['importance'] > threshold]['feature'].tolist()\n",
    "print(f\"Number of important features: {len(important_features)}\")\n",
    "important_features.append(\"label\")\n",
    "filtered_data = df[important_features]\n",
    "train_data, test_data = train_test_split(filtered_data, test_size=0.3, random_state=42)\n",
    "X_train = train_data.drop(columns=[\"label\"])\n",
    "y_train = train_data[\"label\"]\n",
    "X_test = test_data.drop(columns=[\"label\"])\n",
    "y_test = test_data[\"label\"]\n",
    "#00045 60   "
   ]
  },
  {
   "cell_type": "code",
   "execution_count": 14,
   "metadata": {},
   "outputs": [
    {
     "name": "stdout",
     "output_type": "stream",
     "text": [
      "Accuracy: 0.9824\n",
      "Precision: 0.9825\n",
      "Recall: 0.9824\n",
      "F1-score: 0.9824\n",
      "Confusion Matrix:\n"
     ]
    },
    {
     "data": {
      "image/png": "[encoded data removed]",
      "text/plain": [
       "<Figure size 2500x1500 with 2 Axes>"
      ]
     },
     "metadata": {},
     "output_type": "display_data"
    }
   ],
   "source": [
    "import matplotlib.pyplot as plt\n",
    "import seaborn as sns\n",
    "from sklearn.svm import SVC\n",
    "svm = SVC(C=100, gamma='scale', kernel='rbf', random_state=42)\n",
    "svm.fit(X_train, y_train)\n",
    "y_pred = svm.predict(X_test)\n",
    "accuracy = accuracy_score(y_test, y_pred)\n",
    "precision = precision_score(y_test, y_pred, average='weighted')  # Adjusted for multiclass\n",
    "recall = recall_score(y_test, y_pred, average='weighted')  # Adjusted for multiclass\n",
    "f1 = f1_score(y_test, y_pred, average='weighted')  # Adjusted for multiclass\n",
    "conf_matrix = confusion_matrix(y_test, y_pred)\n",
    "\n",
    "print(f\"Accuracy: {accuracy:.4f}\")\n",
    "print(f\"Precision: {precision:.4f}\")\n",
    "print(f\"Recall: {recall:.4f}\")\n",
    "print(f\"F1-score: {f1:.4f}\")\n",
    "print(\"Confusion Matrix:\")\n",
    "# Vẽ confusion matrix\n",
    "plt.figure(figsize=(25, 15))\n",
    "sns.heatmap(conf_matrix, annot=True, fmt='d', cmap='YlGnBu', cbar=True, annot_kws={\"size\": 12})\n",
    "plt.title('Confusion Matrix', fontsize=18)\n",
    "plt.xlabel('Predicted Label', fontsize=15)\n",
    "plt.ylabel('True Label', fontsize=15)\n",
    "plt.xticks(fontsize=12)\n",
    "plt.yticks(fontsize=12)\n",
    "plt.show()  \n",
    "# 9824"
   ]
  }
 ],
 "metadata": {
  "kernelspec": {
   "display_name": "myenv",
   "language": "python",
   "name": "python3"
  },
  "language_info": {
   "codemirror_mode": {
    "name": "ipython",
    "version": 3
   },
   "file_extension": ".py",
   "mimetype": "text/x-python",
   "name": "python",
   "nbconvert_exporter": "python",
   "pygments_lexer": "ipython3",
   "version": "3.12.3"
  }
 },
 "nbformat": 4,
 "nbformat_minor": 2
}
